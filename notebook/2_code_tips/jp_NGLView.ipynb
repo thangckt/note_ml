{
 "cells": [
  {
   "cell_type": "markdown",
   "metadata": {},
   "source": [
    "# Molecular visualization in the Jupyter Notebook with nglview\n",
    "https://ambermd.org/tutorials/analysis/tutorial_notebooks/nglview_movie/index.html\n",
    "\n",
    "https://www.mdanalysis.org/2016/03/14/nglview/\n",
    "\n",
    "## Install NGLView\n",
    "https://github.com/SBRG/ssbio/wiki/Troubleshooting#nglviewer-fresh-install-tips\n",
    "\n",
    "conda install nglview nodejs \n",
    "\n",
    "jupyter labextension install  nglview-js-widgets\n",
    "\n",
    "## widget not shown?\n",
    "https://github.com/nglviewer/nglview/blob/master/docs/FAQ.md#widget-not-shown\n",
    "\n",
    "## Docs\n",
    "http://nglviewer.org/nglview/latest/"
   ]
  },
  {
   "cell_type": "code",
   "execution_count": 5,
   "metadata": {},
   "outputs": [],
   "source": [
    "import sys, os, glob, natsort\n",
    "sys.path.append(r\"D:\\work\\myCodes\\code_Python\")\n",
    "import thaFileType, thaTool, thaModel\n",
    "import numpy as np\n",
    "import pandas as pd\n",
    "## Visualize tools\n",
    "import nglview \n",
    "## Traj tool\n",
    "import MDAnalysis as mda\n",
    "import warnings\n",
    "warnings.filterwarnings('ignore')"
   ]
  },
  {
   "cell_type": "code",
   "execution_count": 6,
   "metadata": {},
   "outputs": [
    {
     "data": {
      "application/vnd.jupyter.widget-view+json": {
       "model_id": "edcf3595b28c4c0da3d840071048b88a",
       "version_major": 2,
       "version_minor": 0
      },
      "text/plain": [
       "NGLWidget()"
      ]
     },
     "metadata": {},
     "output_type": "display_data"
    }
   ],
   "source": [
    "view = nglview.show_pdbid(\"3pqr\")  # load \"3pqr\" from RCSB PDB and display viewer widget\n",
    "view"
   ]
  },
  {
   "cell_type": "code",
   "execution_count": 7,
   "metadata": {},
   "outputs": [
    {
     "data": {
      "image/png": "\n",
      "text/plain": [
       "<IPython.core.display.Image object>"
      ]
     },
     "execution_count": 7,
     "metadata": {},
     "output_type": "execute_result"
    }
   ],
   "source": [
    "view.render_image()\n",
    "view._display_image()"
   ]
  },
  {
   "cell_type": "code",
   "execution_count": 6,
   "metadata": {},
   "outputs": [
    {
     "data": {
      "application/vnd.jupyter.widget-view+json": {
       "model_id": "55b2d13bfb7f4310abe07be1f04e0942",
       "version_major": 2,
       "version_minor": 0
      },
      "text/plain": [
       "NGLWidget()"
      ]
     },
     "metadata": {},
     "output_type": "display_data"
    }
   ],
   "source": [
    "### Working folder\n",
    "dataDIR=r\"D:\\work\\myCodes\\code_Python\\#JupyNotebooks\\localDensity_Voronoi_surfaceDetect\" \n",
    "os.chdir(dataDIR)\n",
    "\n",
    "## load an example configuration file\n",
    "mdaTraj = mda.Universe('Model_Al_z001.cfg', topology_format='LAMMPSDUMP')\n",
    "\n",
    "view = nv.show_mdanalysis(mdaTraj)\n",
    "view"
   ]
  },
  {
   "cell_type": "code",
   "execution_count": 8,
   "metadata": {},
   "outputs": [
    {
     "data": {
      "text/plain": [
       "<Universe with 1470 atoms>"
      ]
     },
     "execution_count": 8,
     "metadata": {},
     "output_type": "execute_result"
    }
   ],
   "source": [
    "mdaTraj"
   ]
  },
  {
   "cell_type": "code",
   "execution_count": 11,
   "metadata": {},
   "outputs": [
    {
     "data": {
      "application/vnd.jupyter.widget-view+json": {
       "model_id": "454b4989b8dd4cc1ba01dc44ddfafc49",
       "version_major": 2,
       "version_minor": 0
      },
      "text/plain": [
       "NGLWidget()"
      ]
     },
     "metadata": {},
     "output_type": "display_data"
    }
   ],
   "source": [
    "view.display()"
   ]
  },
  {
   "cell_type": "code",
   "execution_count": null,
   "metadata": {},
   "outputs": [],
   "source": []
  }
 ],
 "metadata": {
  "kernelspec": {
   "display_name": "Python 3 (ipykernel)",
   "language": "python",
   "name": "python3"
  },
  "language_info": {
   "codemirror_mode": {
    "name": "ipython",
    "version": 3
   },
   "file_extension": ".py",
   "mimetype": "text/x-python",
   "name": "python",
   "nbconvert_exporter": "python",
   "pygments_lexer": "ipython3",
   "version": "3.7.12"
  }
 },
 "nbformat": 4,
 "nbformat_minor": 4
}
