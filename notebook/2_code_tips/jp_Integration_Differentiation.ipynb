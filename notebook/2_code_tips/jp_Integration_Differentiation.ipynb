{
 "cells": [
  {
   "cell_type": "markdown",
   "metadata": {},
   "source": [
    "# I. Numerical Differentiation\n",
    "https://www.math.ubc.ca/~pwalls/math-python/differentiation/differentiation/\n",
    "## Derivative Definition\n",
    "The derivative of a function $f(x)$ at $x=a$ is the limit\n",
    "$$ f'(a) = \\lim_{h \\to 0} \\frac{f(a+h) - f(a)}{h} $$\n",
    "\n",
    "## Numerical Derivative Formulus\n",
    "There are 3 main difference formulas for numerically approximating derivatives.\n",
    "The *forward difference formula* with step size $h$ is\n",
    "$$ f'(a) \\approx \\frac{f(a + h) - f(a)}{h} $$\n",
    "\n",
    "The *backward difference formula* with step size $h$ is\n",
    "$$ f'(a) \\approx \\frac{f(a) - f(a - h)}{h} $$\n",
    "\n",
    "The central difference formula with step size $h$ is the average of the forward and backwards difference formulas\n",
    "$$ f'(a) \\approx \\frac{1}{2} \\left( \\frac{f(a + h) - f(a)}{h} + \\frac{f(a) - f(a - h)}{h} \\right) = \\frac{f(a + h) - f(a - h)}{2h} $$\n",
    "\n",
    "## Error Formulas\n",
    "Natural questions arise: how good are the approximations given by the forward, backwards and central difference formulas? We derive the error formulas from Taylor's Theorem.\n",
    "**Theorem.** The degree $n$ Taylor polynomial of $f(x)$ at $x=a$ with *remainder term* is\n",
    "$$ f(x) = f(a) + f'(a)(x - a) + \\frac{f''(a)}{2}(x-a)^2 + \\cdots + \\frac{f^{(n)}(a)}{n!}(x-a)^n + \\frac{f^{(n+1)}(c)}{(n+1)!}(x-a)^{n+1} $$\n",
    "for some value $C$ between $x$ and $a$.\n",
    "https://www.math.ubc.ca/~pwalls/math-python/differentiation/differentiation/\n",
    "\n",
    "## scipy.misc.derivative\n",
    "The SciPy function *scipy.misc.derivative* computes derivatives using the central difference formula. <br>\n",
    "from scipy.misc import derivative"
   ]
  },
  {
   "cell_type": "markdown",
   "metadata": {},
   "source": [
    "# II. Numerical Integration\n",
    "https://www.math.ubc.ca/~pwalls/math-python/integration/integrals/\n",
    "## 1. Definite Integrals\n",
    "The **definite integral** of a function $f(x)$ over an interval $[a,b]$ is the limit\n",
    "$$ \\int_a^b f(x) \\, dx = \\lim_{N \\to \\infty} \\sum_{i=1}^N f(x_i^ * ) (x_i - x_{i-1}) \\ \\ , \\ x_i^* \\in [x_{i-1},x_i] $$\n",
    "\n",
    "where, for each $N$,\n",
    "$$ x_0 = a < x_1 < \\cdots < x_N = b $$\n",
    "is a partition of $[a,b]$ with $N$ subintervals and the values $x_i^ * \\in [x_{i-1},x_i]$ chosen in each subinterval is arbitrary.\n",
    "\n",
    "The formula in the definition is not very intuitive and almost impossible to use in practice but the basic idea is simple:\n",
    "$$ \\int_a^b f(x) \\, dx = \\text{(net) area under the curve } y = f(x) \\text{ on } [a,b]  $$\n",
    "\n",
    "The value of the definite integral represents the (net) area under the curve of the graph of $y=f(x)$ on the interval $[a,b]$. The term \"net\" means that area above the x-axis is positive and the area under the x-axis counts as negative area.\n",
    "\n",
    "In our introductory calculus courses, we focus on integrals which we can solve exactly by the *Fundamental Theorem of Calculus* such as\n",
    "$$ \\int_0^{\\pi/2} \\cos(x) \\, dx = \\sin(\\pi/2) - \\sin(0) = 1 $$\n",
    "\n",
    "However, most definite integrals are impossible to solve exactly. For example, the famous *error function* in probability\n",
    "$$ \\mathrm{erf}(x) = \\frac{2}{\\sqrt{\\pi}} \\int_0^x e^{-t^2} dt $$\n",
    "is a definite integral for which there is no explicit formula.\n",
    "\n",
    "## 2. Numerical integration\n",
    "The idea behind numerical integration is to use simple geometric shapes to approximate the area under the curve $y=f(x)$ to estimate definite integrals. The simplest methods of numerical integration: Riemann sums, the trapezoid rule and Simpson's rule.\n",
    "## Riemann Sums\n",
    "\n",
    "## trapezoid rule\n",
    "The SciPy subpackage scipy.integrate contains several functions for approximating definite integrals and numerically solving differential equations. The function scipy.integrate.trapz computes the approximation of a definite by the trapezoid rule.\n",
    "\n",
    "## Simpson's Rule\n",
    "Simpson's rule uses a quadratic polynomial on each subinterval of a partition to approximate the function $f(x)$ and to compute the definite integral. This is an improvement over the trapezoid rule which approximates $f(x)$ by a straight line on each subinterval of a partition.\n",
    "\n",
    "The formula for Simpson's rule is\n",
    "$$ S_N(f) = \\frac{\\Delta x}{3} \\sum_{i=1}^{N/2} \\left( f(x_{2i-2}) + 4 f(x_{2i-1}) + f(x_{2i}) \\right) $$\n",
    "where $N$ is an even number of subintervals of $[a,b]$, $\\Delta x = (b - a)/N$ and $x_i = a + i \\Delta x$.\n",
    "The function scipy.integrate.simps computes the approximation of a definite integral by Simpson's rule. \n",
    "\n",
    "## 3. scipy.integrate\n",
    "The scipy.integrate sub-package provides several integration techniques including an ordinary differential equation integrator. <br>\n",
    "* Methods for Integrating Functions given function object.\n",
    "   - quad          -- General purpose integration.\n",
    "   - dblquad       -- General purpose double integration.\n",
    "   - tplquad       -- General purpose triple integration.\n",
    "   - fixed_quad    -- Integrate func(x) using Gaussian quadrature of order n.\n",
    "   - quadrature    -- Integrate with given tolerance using Gaussian quadrature.\n",
    "   - romberg       -- Integrate func using Romberg integration.\n",
    "\n",
    "* Methods for Integrating Functions given fixed samples (data points).\n",
    "   - trapz         -- Use trapezoidal rule to compute integral from samples.\n",
    "   - cumtrapz      -- Use trapezoidal rule to cumulatively compute integral.\n",
    "   - simps         -- Use Simpson's rule to compute integral from samples.\n",
    "   - romb          -- Use Romberg Integration to compute integral from\n",
    "                    (2**k + 1) evenly-spaced samples."
   ]
  },
  {
   "cell_type": "markdown",
   "metadata": {},
   "source": [
    "http://hplgit.github.io/prog4comp/doc/pub/p4c-sphinx-Python/._pylight004.html  <br>\n",
    "Calculating an integral is traditionally done by\n",
    "$$ \\int_a^b f(x)\\,dx = F(b) - F(a) $$\n",
    "where $$ f(x) = \\frac{dF}{dx} $$"
   ]
  },
  {
   "cell_type": "code",
   "execution_count": 61,
   "metadata": {},
   "outputs": [
    {
     "name": "stdout",
     "output_type": "stream",
     "text": [
      "[[1 2]\n",
      " [3 4]\n",
      " [5 6]]\n"
     ]
    }
   ],
   "source": [
    "# array of arrays of the same sizes\n",
    "a = np.array([np.array([1,2]), np.array([3,4]), np.array([5, 6])])\n",
    "print(a)"
   ]
  },
  {
   "cell_type": "code",
   "execution_count": 67,
   "metadata": {},
   "outputs": [
    {
     "name": "stdout",
     "output_type": "stream",
     "text": [
      "[[1, 2], array([3, 4])]\n"
     ]
    }
   ],
   "source": [
    "b = []\n",
    "a = [1,2]\n",
    "c = np.array([3,4])\n",
    "b.append(a)\n",
    "b.append(c)\n",
    "print(b)"
   ]
  },
  {
   "cell_type": "code",
   "execution_count": null,
   "metadata": {},
   "outputs": [],
   "source": []
  }
 ],
 "metadata": {
  "kernelspec": {
   "display_name": "Python 3 (ipykernel)",
   "language": "python",
   "name": "python3"
  },
  "language_info": {
   "codemirror_mode": {
    "name": "ipython",
    "version": 3
   },
   "file_extension": ".py",
   "mimetype": "text/x-python",
   "name": "python",
   "nbconvert_exporter": "python",
   "pygments_lexer": "ipython3",
   "version": "3.7.13"
  }
 },
 "nbformat": 4,
 "nbformat_minor": 4
}
