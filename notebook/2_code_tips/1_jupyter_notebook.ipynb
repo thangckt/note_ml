{
  "cells": [
    {
      "cell_type": "markdown",
      "metadata": {
        "id": "5bUCw3BDJjO0"
      },
      "source": [
        "# Jupyter Notebook\n",
        "\n",
        "Some notes on using Jupyter Notebooks\n",
        "\n",
        "# Path\n",
        "\n",
        "## Running dir of jupyter notebook\n",
        "\n",
        "**current directory**\n",
        "- `globals()['_dh'][0]` return jupyter-dir (folder contain the current jupyter file)\n",
        "    - Return a string with python < 3.7  (now regarded as `dir_nb`)\n",
        "    - Return `pathlib` obj object with python > 3.7 (now regarded as `path_nb`)\n",
        "- change to use `pathlib` module: \n",
        "    - `Path(globals()['_dh'][0])` returns jupyter-dir\n",
        "    - `Path().resolve()` also returns jupyter-dir when running on first cell (should not use, when the codes change to some folder, then use this cannot give jupyter-dir)\n",
        "\n"
      ]
    },
    {
      "cell_type": "code",
      "execution_count": null,
      "metadata": {
        "id": "QjCruX6LJjO4",
        "outputId": "2d1e5db2-57cf-4e37-9e8b-5b27a6e6ff04"
      },
      "outputs": [
        {
          "data": {
            "text/plain": [
              "WindowsPath('c:/Users/thang/Desktop/lec_note/note_ml/notebook/2_code_tips')"
            ]
          },
          "execution_count": 3,
          "metadata": {},
          "output_type": "execute_result"
        }
      ],
      "source": [
        "## python > 3.7\n",
        "path_nb = globals()['_dh'][0]\n",
        "path_nb"
      ]
    },
    {
      "cell_type": "code",
      "execution_count": null,
      "metadata": {
        "id": "VNR8FYEsJjO5",
        "outputId": "1db05ae0-9cea-4ce9-ff04-43a90cedc1b7"
      },
      "outputs": [
        {
          "data": {
            "text/plain": [
              "WindowsPath('c:/Users/thang/Desktop/lec_note/note_ml/notebook/2_code_tips')"
            ]
          },
          "execution_count": 4,
          "metadata": {},
          "output_type": "execute_result"
        }
      ],
      "source": [
        "## python < 3.7\n",
        "from pathlib        import Path\n",
        "dir_nb = Path(globals()['_dh'][0])   # jupyter-dir: Path object    .__str__() \n",
        "dir_nb"
      ]
    },
    {
      "cell_type": "markdown",
      "source": [
        "my convention for directory contains jupyter notebook file\n",
        "- `dir_nb`: string \n",
        "- `path_nb`: path-obj\n",
        "```\n",
        "## Convert path_nb to dir_nb\n",
        "dir_nb = str(path_nb)\n",
        "```"
      ],
      "metadata": {
        "id": "28X2rDmzwfnA"
      }
    },
    {
      "cell_type": "markdown",
      "metadata": {
        "id": "g7Vi_CbiJjO6"
      },
      "source": [
        "## Append libraries"
      ]
    },
    {
      "cell_type": "code",
      "execution_count": null,
      "metadata": {
        "id": "tWf4FyLFJjO6"
      },
      "outputs": [],
      "source": [
        "import sys                                     \n",
        "sys.path.append( str(dir_nb.parents[1]/\"code/src_thatool\") )     # sys.path.append(r\"D:/code/thatool_package\")"
      ]
    },
    {
      "cell_type": "markdown",
      "metadata": {
        "id": "xryIArIFJjO7"
      },
      "source": [
        "## make folder\n",
        "\n",
        "Below commands are similar between `pathlib` obj and normal path string\n",
        "```\n",
        "# pathlib\n",
        "    if not dir_out.is_dir():  dir_out.mkdir()\n",
        "# string_name\n",
        "    if not os.path.exists(dir_out):  os.mkdir(dir_out) \n",
        "```"
      ]
    },
    {
      "cell_type": "markdown",
      "source": [
        "## Path of .py file\n"
      ],
      "metadata": {
        "id": "GGMIthpjrGeF"
      }
    },
    {
      "cell_type": "code",
      "source": [
        "from pathlib        import Path\n",
        "dir_file = Path(__file__).parent.resolve()  "
      ],
      "metadata": {
        "id": "q-Y4d9UorOUe"
      },
      "execution_count": null,
      "outputs": []
    },
    {
      "cell_type": "markdown",
      "metadata": {
        "id": "cpCBk0TCJjO7"
      },
      "source": [
        "# Interactive plot\n",
        "\n",
        "**zoom figure** Matplotlib use magic command: \n",
        " - %matplotlib \n",
        " - %matplotlib inline\n",
        " \n",
        "**general font Matplot error**: clean .cache/matplotlib"
      ]
    },
    {
      "cell_type": "markdown",
      "metadata": {
        "id": "xF4gUy1srDF3"
      },
      "source": [
        "## MPI in jupyter\n",
        "\n",
        "https://ipython.org/ipython-doc/3/parallel/parallel_mpi.html"
      ]
    }
  ],
  "metadata": {
    "colab": {
      "provenance": []
    },
    "kernelspec": {
      "display_name": "py311",
      "language": "python",
      "name": "python3"
    },
    "language_info": {
      "codemirror_mode": {
        "name": "ipython",
        "version": 3
      },
      "file_extension": ".py",
      "mimetype": "text/x-python",
      "name": "python",
      "nbconvert_exporter": "python",
      "pygments_lexer": "ipython3",
      "version": "3.11.0"
    },
    "vscode": {
      "interpreter": {
        "hash": "5c79f991f86eb27795e10a995cddc62632fb02f5594cc68269302f756ca9db70"
      }
    }
  },
  "nbformat": 4,
  "nbformat_minor": 0
}