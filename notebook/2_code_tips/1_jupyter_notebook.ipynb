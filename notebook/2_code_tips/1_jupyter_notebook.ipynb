{
 "cells": [
  {
   "attachments": {},
   "cell_type": "markdown",
   "metadata": {},
   "source": [
    "Some notes on using Jupyter Notebooks\n",
    "\n",
    "# Path\n",
    "\n",
    "## Running dir of jupyter notebook\n",
    "\n",
    "**current directory**\n",
    "- `globals()['_dh'][0]` return jupyter-dir (folder contain the current jupyter file)\n",
    "    - Return a string with python < 3.7\n",
    "    - Return `pathlib` obj object with python > 3.7\n",
    "- change to use `pathlib` module: \n",
    "    - `Path(globals()['_dh'][0])` returns jupyter-dir\n",
    "    - `Path().resolve()` also returns jupyter-dir when running on first cell (should not use, when the codes change to some folder, then use this cannot give jupyter-dir)"
   ]
  },
  {
   "cell_type": "code",
   "execution_count": 3,
   "metadata": {},
   "outputs": [
    {
     "data": {
      "text/plain": [
       "WindowsPath('c:/Users/thang/Desktop/lec_note/note_ml/notebook/2_code_tips')"
      ]
     },
     "execution_count": 3,
     "metadata": {},
     "output_type": "execute_result"
    }
   ],
   "source": [
    "## python > 3.7\n",
    "dir_nb = globals()['_dh'][0]\n",
    "dir_nb"
   ]
  },
  {
   "cell_type": "code",
   "execution_count": 4,
   "metadata": {},
   "outputs": [
    {
     "data": {
      "text/plain": [
       "WindowsPath('c:/Users/thang/Desktop/lec_note/note_ml/notebook/2_code_tips')"
      ]
     },
     "execution_count": 4,
     "metadata": {},
     "output_type": "execute_result"
    }
   ],
   "source": [
    "## python < 3.7\n",
    "from pathlib        import Path\n",
    "dir_nb = Path(globals()['_dh'][0])   # jupyter-dir: Path object    .__str__() \n",
    "dir_nb"
   ]
  },
  {
   "attachments": {},
   "cell_type": "markdown",
   "metadata": {},
   "source": [
    "## Append libraries"
   ]
  },
  {
   "cell_type": "code",
   "execution_count": null,
   "metadata": {},
   "outputs": [],
   "source": [
    "import sys                                     \n",
    "sys.path.append( str(dir_nb.parents[1]/\"code/src_thatool\") )     # sys.path.append(r\"D:/code/thatool_package\")"
   ]
  },
  {
   "attachments": {},
   "cell_type": "markdown",
   "metadata": {},
   "source": [
    "## make folder\n",
    "\n",
    "Below commands are similar between `pathlib` obj and normal path string\n",
    "```\n",
    "# pathlib\n",
    "    if not dir_out.is_dir():  dir_out.mkdir()\n",
    "# string_name\n",
    "    if not os.path.exists(dir_out):  os.mkdir(dir_out) \n",
    "```"
   ]
  },
  {
   "attachments": {},
   "cell_type": "markdown",
   "metadata": {},
   "source": [
    "# Interactive plot\n",
    "\n",
    "**zoom figure** Matplotlib use magic command: \n",
    " - %matplotlib \n",
    " - %matplotlib inline\n",
    " \n",
    "**general font Matplot error**: clean .cache/matplotlib"
   ]
  }
 ],
 "metadata": {
  "kernelspec": {
   "display_name": "py311",
   "language": "python",
   "name": "python3"
  },
  "language_info": {
   "codemirror_mode": {
    "name": "ipython",
    "version": 3
   },
   "file_extension": ".py",
   "mimetype": "text/x-python",
   "name": "python",
   "nbconvert_exporter": "python",
   "pygments_lexer": "ipython3",
   "version": "3.11.0"
  },
  "vscode": {
   "interpreter": {
    "hash": "5c79f991f86eb27795e10a995cddc62632fb02f5594cc68269302f756ca9db70"
   }
  }
 },
 "nbformat": 4,
 "nbformat_minor": 4
}
