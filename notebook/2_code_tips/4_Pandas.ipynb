{
  "cells": [
    {
      "cell_type": "markdown",
      "metadata": {
        "id": "view-in-github",
        "colab_type": "text"
      },
      "source": [
        "<a href=\"https://colab.research.google.com/github/thangckt/note_ml/blob/main/notebook/2_code_tips/4_Pandas.ipynb\" target=\"_parent\"><img src=\"https://colab.research.google.com/assets/colab-badge.svg\" alt=\"Open In Colab\"/></a>"
      ]
    },
    {
      "cell_type": "markdown",
      "metadata": {
        "id": "SpNqXbO8vKfk"
      },
      "source": [
        "# work with Pandas\n",
        "\n",
        "## 1. Many ways to create DataFrame\n",
        "https://www.geeksforgeeks.org/different-ways-to-create-pandas-dataframe/"
      ]
    },
    {
      "cell_type": "code",
      "execution_count": null,
      "metadata": {
        "id": "H7G1OaJSvKfl",
        "outputId": "e55b9552-336a-4925-f719-225b12401ccc"
      },
      "outputs": [
        {
          "name": "stdout",
          "output_type": "stream",
          "text": [
            "[[2 3 4]\n",
            " [5 6 7]] \n",
            "\n",
            "   0  1  2\n",
            "0  2  3  4\n",
            "1  5  6  7 \n",
            "\n",
            "        col1  col2  col3\n",
            "index1     2     3     4\n",
            "index2     5     6     7 \n",
            "\n",
            "        0  1  2\n",
            "index1  2  3  4\n",
            "index2  5  6  7 \n",
            "\n"
          ]
        }
      ],
      "source": [
        "import pandas as pd\n",
        "import numpy as np\n",
        "\n",
        "a = np.array([[2,3,4],[5,6,7]])\n",
        "print(a, \"\\n\")\n",
        "\n",
        "b = pd.DataFrame(a)     # no colume-name, no row-names\n",
        "print(b, \"\\n\")\n",
        "\n",
        "c = pd.DataFrame(a, columns=['col1', 'col2', 'col3'], index=['index1', 'index2'])  # with colume-name and row-names\n",
        "print(c, \"\\n\")\n",
        "\n",
        "d = pd.DataFrame(a, index=['index1', 'index2']) \n",
        "print(d, \"\\n\")"
      ]
    },
    {
      "cell_type": "markdown",
      "metadata": {
        "id": "S2KOa2RZvKfm"
      },
      "source": [
        "## 2. Extract data from DataFrame\n",
        "https://stackoverflow.com/questions/11285613/selecting-multiple-columns-in-a-pandas-dataframe\n",
        "* loc gets rows (or columns) with particular labels from the index.\n",
        "* iloc gets rows (or columns) at particular positions in the index (so it only takes integers).\n",
        "Here s.iloc[:6] returns the first 6 rows of the Series as expected. However, s.loc[:6] raises a KeyError since 6 is not in the index.\n",
        "https://stackoverflow.com/questions/31593201/how-are-iloc-ix-and-loc-different"
      ]
    },
    {
      "cell_type": "code",
      "execution_count": null,
      "metadata": {
        "id": "nJswT7PlvKfm",
        "outputId": "ff4be2f0-b221-4f0c-9eaf-ea03937cb73d"
      },
      "outputs": [
        {
          "name": "stdout",
          "output_type": "stream",
          "text": [
            "        col1  col3\n",
            "index1     2     4\n",
            "index2     5     7\n",
            "        col1  col3\n",
            "index1     2     4\n",
            "index2     5     7\n"
          ]
        }
      ],
      "source": [
        "# 1. access by column-name\n",
        "df = c[['col1','col3']]      # produce a copy \n",
        "print(df)\n",
        "\n",
        "# 2. access by integer index\n",
        "df1 = c.iloc[:,[0,2]].copy()        \n",
        "print(df1)"
      ]
    },
    {
      "cell_type": "code",
      "execution_count": null,
      "metadata": {
        "id": "gIhChsoPvKfm",
        "outputId": "84b7e47b-9d39-4938-8fa4-039a3201bb86"
      },
      "outputs": [
        {
          "name": "stdout",
          "output_type": "stream",
          "text": [
            "        col1  col3\n",
            "index1     2     4\n",
            "index2     5     7\n"
          ]
        }
      ],
      "source": [
        "df1 = c.iloc[:,0:2]          #  not produce copy\n",
        "print(df1)\n",
        "\n",
        "df1 = c.iloc[:,0:2].copy()          #  produce copy, To avoid the case where changing df1 also changes df\n",
        "print(df1)"
      ]
    },
    {
      "cell_type": "code",
      "execution_count": null,
      "metadata": {
        "id": "TNh5YNtYvKfm"
      },
      "outputs": [],
      "source": [
        "# 3.To index a DataFrame with integer rows and named columns (labeled columns):\n",
        "df.loc[df.index[i], 'NAME']              #      where i is a valid integer index and NAME is the name of the column."
      ]
    },
    {
      "cell_type": "markdown",
      "metadata": {
        "id": "klTPeZpDvKfm"
      },
      "source": [
        "## Extract column\n",
        "df['col1'] or df.col1"
      ]
    },
    {
      "cell_type": "markdown",
      "metadata": {
        "id": "2drgmnpMvKfm"
      },
      "source": [
        "## 3. assign value for DataFrame"
      ]
    },
    {
      "cell_type": "code",
      "execution_count": null,
      "metadata": {
        "id": "UFPw1o7xvKfn",
        "outputId": "6e7ee589-b449-4e2b-8c0c-f443d4cc37af"
      },
      "outputs": [
        {
          "data": {
            "text/html": [
              "<div>\n",
              "<style scoped>\n",
              "    .dataframe tbody tr th:only-of-type {\n",
              "        vertical-align: middle;\n",
              "    }\n",
              "\n",
              "    .dataframe tbody tr th {\n",
              "        vertical-align: top;\n",
              "    }\n",
              "\n",
              "    .dataframe thead th {\n",
              "        text-align: right;\n",
              "    }\n",
              "</style>\n",
              "<table border=\"1\" class=\"dataframe\">\n",
              "  <thead>\n",
              "    <tr style=\"text-align: right;\">\n",
              "      <th></th>\n",
              "      <th>LC1</th>\n",
              "      <th>LC2</th>\n",
              "      <th>LC3</th>\n",
              "      <th>LCmean</th>\n",
              "    </tr>\n",
              "  </thead>\n",
              "  <tbody>\n",
              "    <tr>\n",
              "      <th>0</th>\n",
              "      <td>0.0</td>\n",
              "      <td>0.0</td>\n",
              "      <td>0.0</td>\n",
              "      <td>0.0</td>\n",
              "    </tr>\n",
              "    <tr>\n",
              "      <th>1</th>\n",
              "      <td>0.0</td>\n",
              "      <td>0.0</td>\n",
              "      <td>0.0</td>\n",
              "      <td>0.0</td>\n",
              "    </tr>\n",
              "    <tr>\n",
              "      <th>2</th>\n",
              "      <td>0.0</td>\n",
              "      <td>0.0</td>\n",
              "      <td>0.0</td>\n",
              "      <td>0.0</td>\n",
              "    </tr>\n",
              "  </tbody>\n",
              "</table>\n",
              "</div>"
            ],
            "text/plain": [
              "   LC1  LC2  LC3  LCmean\n",
              "0  0.0  0.0  0.0     0.0\n",
              "1  0.0  0.0  0.0     0.0\n",
              "2  0.0  0.0  0.0     0.0"
            ]
          },
          "execution_count": 6,
          "metadata": {},
          "output_type": "execute_result"
        }
      ],
      "source": [
        "# create Zeros Frame\n",
        "df = pd.DataFrame([[0.0]*4]*3, columns=['LC'+str(i+1) for i in range(3)] +[\"LCmean\"])\n",
        "df"
      ]
    },
    {
      "cell_type": "code",
      "execution_count": null,
      "metadata": {
        "id": "25_al9vtvKfn",
        "outputId": "16e24174-acd6-4023-d3d0-9c0338c3fbd1"
      },
      "outputs": [
        {
          "name": "stdout",
          "output_type": "stream",
          "text": [
            "   LC1  LC2  LC3  LCmean\n",
            "0  0.0  0.0  0.0     0.0\n",
            "1  0.0  1.0  2.0     3.0\n",
            "2  0.0  0.0  0.0   100.0 \n",
            "\n",
            "   LC1  LC2  LC3  LCmean\n",
            "0  0.0  0.0  0.0     0.0\n",
            "1  0.0  1.0  2.0     3.0\n",
            "2  0.0  0.0  0.0   100.0\n"
          ]
        }
      ],
      "source": [
        "## Extract value\n",
        "df.iloc[1, :] = np.arange(4)\n",
        "print(df, \"\\n\")\n",
        "\n",
        "df.iloc[2, 3] = 100\n",
        "print(df)"
      ]
    },
    {
      "cell_type": "code",
      "execution_count": null,
      "metadata": {
        "id": "Xzqv36Y9vKfn",
        "outputId": "b6824d21-3fd1-4df6-887a-f4d8fdfbda71"
      },
      "outputs": [
        {
          "data": {
            "text/plain": [
              "LC1        0.000000\n",
              "LC2        0.333333\n",
              "LC3        0.666667\n",
              "LCmean    34.333333\n",
              "dtype: float64"
            ]
          },
          "execution_count": 73,
          "metadata": {},
          "output_type": "execute_result"
        }
      ],
      "source": [
        "## mean of each column\n",
        "a = df.mean(axis=0)\n",
        "a"
      ]
    },
    {
      "cell_type": "markdown",
      "metadata": {
        "id": "eM4Tsm44vKfn"
      },
      "source": [
        "# Change Column Names and Row Indexes in Pandas?\n",
        "https://cmdlinetips.com/2018/03/how-to-change-column-names-and-row-indexes-in-pandas/\n",
        "* df.columns assign new names directly --> set for all columns\n",
        "* df.rename(...)      --> can change name of 1 column"
      ]
    },
    {
      "cell_type": "markdown",
      "metadata": {
        "id": "QXzvbt7mvKfn"
      },
      "source": [
        "## Read files\n",
        "Use pd.read_fwf() to read files with fixed-width. But this looks ugly, so use np.loadtxt, after that convert data into pandas frame\n",
        "https://pandas.pydata.org/pandas-docs/stable/user_guide/io.html\n",
        "\n",
        "### the path of the current ipynb file from within IPython? \n",
        "https://github.com/ipython/ipython/issues/10123\n",
        "\n",
        "myInfo01 = !echo %cd% # under windows\n",
        "myInfo02 = !pwd # under linux/mac\n",
        "\n",
        "## note on Matplotlib\n",
        "* if use subplot: plt.sth = ax1.set_sth\n",
        "\n",
        "## Disable iPython Notebook Autoscrolling\n",
        "* Individual cells: \n",
        " - Cell->Current Outputs->Toggle Scrolling\n",
        " - right-click on output --> disable Crolling\n",
        "* All cells: Cell->All Outputs->Toggle Scrolling"
      ]
    },
    {
      "cell_type": "markdown",
      "metadata": {
        "id": "JVoaoebtvKfn"
      },
      "source": [
        "# 4. Hierarchical indexing\n",
        "for working with higher dimensional data: 3d, 4d,...\n",
        "https://pandas.pydata.org/pandas-docs/stable/user_guide/advanced.html\n",
        "* NOTE: iloc, loc, ix : just use to extract index (row), cannot use to extract columns. For extracting column, must use df['col']"
      ]
    },
    {
      "cell_type": "code",
      "execution_count": null,
      "metadata": {
        "id": "Q50bz2x3vKfn",
        "outputId": "f55abdb8-d842-4327-b4bd-3a8b187c8f54"
      },
      "outputs": [
        {
          "data": {
            "text/html": [
              "<div>\n",
              "<style scoped>\n",
              "    .dataframe tbody tr th:only-of-type {\n",
              "        vertical-align: middle;\n",
              "    }\n",
              "\n",
              "    .dataframe tbody tr th {\n",
              "        vertical-align: top;\n",
              "    }\n",
              "\n",
              "    .dataframe thead th {\n",
              "        text-align: right;\n",
              "    }\n",
              "</style>\n",
              "<table border=\"1\" class=\"dataframe\">\n",
              "  <thead>\n",
              "    <tr style=\"text-align: right;\">\n",
              "      <th></th>\n",
              "      <th></th>\n",
              "      <th>0</th>\n",
              "      <th>1</th>\n",
              "    </tr>\n",
              "  </thead>\n",
              "  <tbody>\n",
              "    <tr>\n",
              "      <th rowspan=\"2\" valign=\"top\">bar</th>\n",
              "      <th>one</th>\n",
              "      <td>0.083715</td>\n",
              "      <td>-0.161591</td>\n",
              "    </tr>\n",
              "    <tr>\n",
              "      <th>two</th>\n",
              "      <td>-1.714780</td>\n",
              "      <td>-1.211817</td>\n",
              "    </tr>\n",
              "    <tr>\n",
              "      <th rowspan=\"2\" valign=\"top\">baz</th>\n",
              "      <th>one</th>\n",
              "      <td>-1.172680</td>\n",
              "      <td>0.652009</td>\n",
              "    </tr>\n",
              "    <tr>\n",
              "      <th>two</th>\n",
              "      <td>-0.814605</td>\n",
              "      <td>0.643798</td>\n",
              "    </tr>\n",
              "    <tr>\n",
              "      <th rowspan=\"2\" valign=\"top\">foo</th>\n",
              "      <th>one</th>\n",
              "      <td>-0.530733</td>\n",
              "      <td>-0.858860</td>\n",
              "    </tr>\n",
              "    <tr>\n",
              "      <th>two</th>\n",
              "      <td>0.623773</td>\n",
              "      <td>0.473498</td>\n",
              "    </tr>\n",
              "    <tr>\n",
              "      <th rowspan=\"2\" valign=\"top\">qux</th>\n",
              "      <th>one</th>\n",
              "      <td>-0.158116</td>\n",
              "      <td>0.578128</td>\n",
              "    </tr>\n",
              "    <tr>\n",
              "      <th>two</th>\n",
              "      <td>1.707150</td>\n",
              "      <td>-0.429988</td>\n",
              "    </tr>\n",
              "  </tbody>\n",
              "</table>\n",
              "</div>"
            ],
            "text/plain": [
              "                0         1\n",
              "bar one  0.083715 -0.161591\n",
              "    two -1.714780 -1.211817\n",
              "baz one -1.172680  0.652009\n",
              "    two -0.814605  0.643798\n",
              "foo one -0.530733 -0.858860\n",
              "    two  0.623773  0.473498\n",
              "qux one -0.158116  0.578128\n",
              "    two  1.707150 -0.429988"
            ]
          },
          "execution_count": 6,
          "metadata": {},
          "output_type": "execute_result"
        }
      ],
      "source": [
        "import pandas as pd\n",
        "import numpy as np\n",
        "arrays = [np.array(['bar', 'bar', 'baz', 'baz', 'foo', 'foo', 'qux', 'qux']),\n",
        "            np.array(['one', 'two', 'one', 'two', 'one', 'two', 'one', 'two'])]\n",
        "df = pd.DataFrame(np.random.randn(8,2), index=arrays)\n",
        "df"
      ]
    },
    {
      "cell_type": "code",
      "execution_count": null,
      "metadata": {
        "id": "ZsfpoEP6vKfo",
        "outputId": "d7ad31cc-91bd-4452-95a9-ad030bcc89cc"
      },
      "outputs": [
        {
          "name": "stdout",
          "output_type": "stream",
          "text": [
            "MultiIndex([('bar', 'one'),\n",
            "            ('bar', 'two'),\n",
            "            ('baz', 'one'),\n",
            "            ('baz', 'two'),\n",
            "            ('foo', 'one'),\n",
            "            ('foo', 'two'),\n",
            "            ('qux', 'one'),\n",
            "            ('qux', 'two')],\n",
            "           )\n",
            "[['bar', 'baz', 'foo', 'qux'], ['one', 'two']]\n"
          ]
        }
      ],
      "source": [
        "print(df.index)\n",
        "print(df.index.levels)"
      ]
    },
    {
      "cell_type": "code",
      "execution_count": null,
      "metadata": {
        "id": "tyhDtcHGvKfo",
        "outputId": "94051d53-5c9f-4952-80f6-8e1f262d0b69"
      },
      "outputs": [
        {
          "data": {
            "text/plain": [
              "array([[ 0.08371492, -0.16159087],\n",
              "       [-1.71477955, -1.21181671],\n",
              "       [-1.17267952,  0.65200889],\n",
              "       [-0.81460496,  0.64379787],\n",
              "       [-0.5307326 , -0.85886016],\n",
              "       [ 0.62377341,  0.47349806],\n",
              "       [-0.158116  ,  0.57812815],\n",
              "       [ 1.70715025, -0.42998762]])"
            ]
          },
          "execution_count": 9,
          "metadata": {},
          "output_type": "execute_result"
        }
      ],
      "source": [
        "df.values"
      ]
    },
    {
      "cell_type": "markdown",
      "metadata": {
        "id": "9UM5Iy8HvKfo"
      },
      "source": [
        "## Basic indexing on axis with MultiIndex\n",
        "https://pandas.pydata.org/pandas-docs/stable/user_guide/advanced.html#basic-indexing-on-axis-with-multiindex\n",
        "* axis with multiIndex, use form of tuples: df.loc[('bar', 'two')]"
      ]
    },
    {
      "cell_type": "code",
      "execution_count": null,
      "metadata": {
        "id": "Mh7FaFYavKfo",
        "outputId": "2e294c14-6626-4f4b-f7bd-bfa0e6cc4608"
      },
      "outputs": [
        {
          "data": {
            "text/html": [
              "<div>\n",
              "<style scoped>\n",
              "    .dataframe tbody tr th:only-of-type {\n",
              "        vertical-align: middle;\n",
              "    }\n",
              "\n",
              "    .dataframe tbody tr th {\n",
              "        vertical-align: top;\n",
              "    }\n",
              "\n",
              "    .dataframe thead th {\n",
              "        text-align: right;\n",
              "    }\n",
              "</style>\n",
              "<table border=\"1\" class=\"dataframe\">\n",
              "  <thead>\n",
              "    <tr style=\"text-align: right;\">\n",
              "      <th></th>\n",
              "      <th>0</th>\n",
              "      <th>1</th>\n",
              "    </tr>\n",
              "  </thead>\n",
              "  <tbody>\n",
              "    <tr>\n",
              "      <th>one</th>\n",
              "      <td>0.083715</td>\n",
              "      <td>-0.161591</td>\n",
              "    </tr>\n",
              "    <tr>\n",
              "      <th>two</th>\n",
              "      <td>-1.714780</td>\n",
              "      <td>-1.211817</td>\n",
              "    </tr>\n",
              "  </tbody>\n",
              "</table>\n",
              "</div>"
            ],
            "text/plain": [
              "            0         1\n",
              "one  0.083715 -0.161591\n",
              "two -1.714780 -1.211817"
            ]
          },
          "execution_count": 28,
          "metadata": {},
          "output_type": "execute_result"
        }
      ],
      "source": [
        "df.loc['bar']"
      ]
    },
    {
      "cell_type": "code",
      "execution_count": null,
      "metadata": {
        "id": "Gz9x-ByKvKfo",
        "outputId": "001d4c3a-a0ed-4431-e970-2e454ff891fa"
      },
      "outputs": [
        {
          "data": {
            "text/plain": [
              "0    0.083715\n",
              "1   -0.161591\n",
              "Name: (bar, one), dtype: float64"
            ]
          },
          "execution_count": 29,
          "metadata": {},
          "output_type": "execute_result"
        }
      ],
      "source": [
        "df.loc[('bar','one')]"
      ]
    },
    {
      "cell_type": "code",
      "execution_count": null,
      "metadata": {
        "id": "Jy-QddAdvKfo",
        "outputId": "eb309b48-1a89-4a33-fa1a-ef17270620dc"
      },
      "outputs": [
        {
          "data": {
            "text/plain": [
              "one    0.083715\n",
              "two   -1.714780\n",
              "Name: 0, dtype: float64"
            ]
          },
          "execution_count": 30,
          "metadata": {},
          "output_type": "execute_result"
        }
      ],
      "source": [
        "df.loc['bar'][0]"
      ]
    },
    {
      "cell_type": "markdown",
      "metadata": {
        "id": "viZO6rPPvKfo"
      },
      "source": [
        "## Get the mean across multiple Pandas DataFrames\n",
        "https://stackoverflow.com/questions/25057835/get-the-mean-across-multiple-pandas-dataframes"
      ]
    },
    {
      "cell_type": "code",
      "execution_count": null,
      "metadata": {
        "id": "65ZWxIN8vKfo",
        "outputId": "5be5ade1-01cb-4b30-bb3a-628449e9c023"
      },
      "outputs": [
        {
          "data": {
            "text/html": [
              "<div>\n",
              "<style scoped>\n",
              "    .dataframe tbody tr th:only-of-type {\n",
              "        vertical-align: middle;\n",
              "    }\n",
              "\n",
              "    .dataframe tbody tr th {\n",
              "        vertical-align: top;\n",
              "    }\n",
              "\n",
              "    .dataframe thead th {\n",
              "        text-align: right;\n",
              "    }\n",
              "</style>\n",
              "<table border=\"1\" class=\"dataframe\">\n",
              "  <thead>\n",
              "    <tr style=\"text-align: right;\">\n",
              "      <th></th>\n",
              "      <th>0</th>\n",
              "      <th>1</th>\n",
              "    </tr>\n",
              "  </thead>\n",
              "  <tbody>\n",
              "    <tr>\n",
              "      <th>one</th>\n",
              "      <td>-0.444453</td>\n",
              "      <td>0.052422</td>\n",
              "    </tr>\n",
              "    <tr>\n",
              "      <th>two</th>\n",
              "      <td>-0.049615</td>\n",
              "      <td>-0.131127</td>\n",
              "    </tr>\n",
              "  </tbody>\n",
              "</table>\n",
              "</div>"
            ],
            "text/plain": [
              "            0         1\n",
              "one -0.444453  0.052422\n",
              "two -0.049615 -0.131127"
            ]
          },
          "execution_count": 35,
          "metadata": {},
          "output_type": "execute_result"
        }
      ],
      "source": [
        "B=df.groupby(level=1)\n",
        "B.mean()"
      ]
    },
    {
      "cell_type": "markdown",
      "metadata": {
        "id": "gZnJ8bsBvKfo"
      },
      "source": [
        "# II. Combine multiple DataFrames\n",
        "https://www.kite.com/blog/python/pandas-merge-join-concat/  <br>\n",
        "* "
      ]
    },
    {
      "cell_type": "code",
      "execution_count": null,
      "metadata": {
        "id": "4B8cpsEFvKfo"
      },
      "outputs": [],
      "source": []
    },
    {
      "cell_type": "markdown",
      "metadata": {
        "id": "ueeIamHCvKfo"
      },
      "source": [
        "## Filter\n",
        "\n",
        "Regex multiple conditions in pandas `df.filter(regex='ti|d')`"
      ]
    }
  ],
  "metadata": {
    "kernelspec": {
      "display_name": "Python 3 (ipykernel)",
      "language": "python",
      "name": "python3"
    },
    "language_info": {
      "codemirror_mode": {
        "name": "ipython",
        "version": 3
      },
      "file_extension": ".py",
      "mimetype": "text/x-python",
      "name": "python",
      "nbconvert_exporter": "python",
      "pygments_lexer": "ipython3",
      "version": "3.7.9"
    },
    "colab": {
      "provenance": [],
      "include_colab_link": true
    }
  },
  "nbformat": 4,
  "nbformat_minor": 0
}