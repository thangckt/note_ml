{
  "cells": [
    {
      "cell_type": "markdown",
      "metadata": {
        "id": "view-in-github",
        "colab_type": "text"
      },
      "source": [
        "<a href=\"https://colab.research.google.com/github/thangckt/note_ml/blob/main/notebook/2_code_tips/6_fitting_roots.ipynb\" target=\"_parent\"><img src=\"https://colab.research.google.com/assets/colab-badge.svg\" alt=\"Open In Colab\"/></a>"
      ]
    },
    {
      "cell_type": "markdown",
      "metadata": {
        "id": "OSzZMsisvRqE"
      },
      "source": [
        "# I. Curve fitting (scipy)\n",
        "## I.1. Curve fitting with scipy.opmtimize\n",
        "https://scipy-lectures.org/intro/scipy/auto_examples/plot_curve_fit.html"
      ]
    },
    {
      "cell_type": "code",
      "execution_count": null,
      "metadata": {
        "id": "CyxJu52VvRqF",
        "outputId": "eafff72d-506f-48da-b3dd-e52bb9c4b723"
      },
      "outputs": [
        {
          "data": {
            "image/png": "[encoded data removed]",
            "text/plain": [
              "<Figure size 432x288 with 1 Axes>"
            ]
          },
          "metadata": {
            "needs_background": "light"
          },
          "output_type": "display_data"
        }
      ],
      "source": [
        "import numpy as np\n",
        "x_data = np.linspace(-5, 5, num=50)\n",
        "y_data = 2.9 * np.sin(1.5 * x_data) + np.random.normal(size=50)\n",
        "\n",
        "import matplotlib.pyplot as plt\n",
        "plt.scatter(x_data, y_data)\n",
        "plt.show()"
      ]
    },
    {
      "cell_type": "code",
      "execution_count": null,
      "metadata": {
        "id": "ggmMCzYmvRqG",
        "outputId": "0afd2a58-d204-40f3-a0b4-91d49834d7d6"
      },
      "outputs": [
        {
          "name": "stdout",
          "output_type": "stream",
          "text": [
            "[3.0384518  1.52782469]\n"
          ]
        }
      ],
      "source": [
        "# Now fit a simple sine function to the data\n",
        "from scipy import optimize\n",
        "def test_func(x, a, b):\n",
        "    return a * np.sin(b * x)\n",
        "##-- fitting\n",
        "params, params_covariance = optimize.curve_fit(test_func, x_data, y_data, p0=[2, 2])\n",
        "print(params)"
      ]
    },
    {
      "cell_type": "code",
      "execution_count": null,
      "metadata": {
        "id": "8Zl9kSXnvRqG",
        "outputId": "3faaf972-7f63-43fa-ae55-aa4da092605d"
      },
      "outputs": [
        {
          "data": {
            "text/plain": [
              "array([[ 0.04632637, -0.00058567],\n",
              "       [-0.00058567,  0.00057484]])"
            ]
          },
          "execution_count": 8,
          "metadata": {},
          "output_type": "execute_result"
        }
      ],
      "source": [
        "params_covariance"
      ]
    },
    {
      "cell_type": "code",
      "execution_count": null,
      "metadata": {
        "id": "2jbrmts8vRqG",
        "outputId": "6842698b-86db-437e-8060-39495a10d986"
      },
      "outputs": [
        {
          "data": {
            "image/png": "[encoded data removed]",
            "text/plain": [
              "<Figure size 432x288 with 1 Axes>"
            ]
          },
          "metadata": {
            "needs_background": "light"
          },
          "output_type": "display_data"
        }
      ],
      "source": [
        "plt.scatter(x_data, y_data, label='Data')\n",
        "plt.plot(x_data, test_func(x_data, params[0], params[1]),'r', label='Fitted function')\n",
        "\n",
        "plt.legend(loc='best')\n",
        "plt.show()"
      ]
    },
    {
      "cell_type": "markdown",
      "metadata": {
        "id": "a39tCS_cvRqH"
      },
      "source": [
        "# I.2. Curve fitting with LMFIT\n",
        "https://lmfit.github.io/lmfit-py/model.html    <br>\n",
        "The main task is to write an \"objective function\". The chi-square $(\\chi^2)$ statistic is often defined as:\n",
        "$$ \\chi^2 =  \\sum_i^{N} \\frac{[y^{\\rm meas}_i - y_i^{\\rm model}({\\bf{v}})]^2}{\\epsilon_i^2} $$\n",
        "where $y_i^{\\rm meas}$ is the set of measured data, $y_i^{\\rm\n",
        "model}({\\bf{v}})$ is the model calculation, $\\bf{v}$ is the set of variables in the model to be optimized in the fit, and $\\epsilon_i$ is the estimated uncertainty in the data. <br>\n",
        "In a traditional non-linear fit, one writes an objective function that takes the variable values and calculates the residual array $y^{\\rm\n",
        "meas}_i - y_i^{\\rm model}({\\bf{v}})$, or the residual array scaled by the data uncertainties, $[y^{\\rm meas}_i - y_i^{\\rm\n",
        "model}({\\bf{v}})]/{\\epsilon_i}$, or some other weighting factor.  <br>\n",
        "Non-Linear Least-Squares Minimization and Curve-Fitting for Python (LMFIT) is the package provides simple tools to help you build complex fitting models for non-linear least-squares problems. The Model class in lmfit (lmfit.Model) provides a simple and flexible approach to curve-fitting problems."
      ]
    },
    {
      "cell_type": "code",
      "execution_count": null,
      "metadata": {
        "id": "P5RFNwncvRqH",
        "outputId": "33df22d0-4edb-495a-e850-0e0b5bbc2169"
      },
      "outputs": [
        {
          "name": "stdout",
          "output_type": "stream",
          "text": [
            "parameter names: ['amp', 'cen', 'wid']\n",
            "independent variables: ['x']\n"
          ]
        }
      ],
      "source": [
        "## work with lmfit.Model\n",
        "from lmfit import Model\n",
        "\n",
        "def gaussian(x, amp, cen, wid):\n",
        "    \"\"\"1-d gaussian: gaussian(x, amp, cen, wid)\"\"\"\n",
        "    return (amp / (sqrt(2*pi) * wid)) * exp(-(x-cen)**2 / (2*wid**2))\n",
        "\n",
        "gmodel = Model(gaussian)\n",
        "print('parameter names: {}'.format(gmodel.param_names))\n",
        "print('independent variables: {}'.format(gmodel.independent_vars))"
      ]
    },
    {
      "cell_type": "code",
      "execution_count": null,
      "metadata": {
        "id": "_TCNP0jIvRqH",
        "outputId": "68807c92-ea5a-4881-b9d3-16f00f8a8fe1"
      },
      "outputs": [
        {
          "data": {
            "text/plain": [
              "['amp', 'cen', 'wid']"
            ]
          },
          "execution_count": 3,
          "metadata": {},
          "output_type": "execute_result"
        }
      ],
      "source": [
        "gmodel.param_names"
      ]
    },
    {
      "cell_type": "code",
      "execution_count": null,
      "metadata": {
        "id": "XaCSvDosvRqH",
        "outputId": "52a00f58-a274-48ea-fc0e-fc6ab301aeba"
      },
      "outputs": [
        {
          "name": "stdout",
          "output_type": "stream",
          "text": [
            "[[Model]]\n",
            "    Model(gaussian)\n",
            "[[Fit Statistics]]\n",
            "    # fitting method   = leastsq\n",
            "    # function evals   = 70\n",
            "    # data points      = 1000\n",
            "    # variables        = 3\n",
            "    chi-square         = 250.103847\n",
            "    reduced chi-square = 0.25085642\n",
            "    Akaike info crit   = -1379.87906\n",
            "    Bayesian info crit = -1365.15580\n",
            "[[Variables]]\n",
            "    amp: -1.50918372 +/- 87647.1572 (5807587.00%) (init = 5)\n",
            "    cen:  2.61049184 +/- 5316.96789 (203676.86%) (init = 0.5)\n",
            "    wid:  0.24714425 +/- 5811.24995 (2351359.56%) (init = 1)\n",
            "[[Correlations]] (unreported correlations are < 0.100)\n",
            "    C(amp, wid) =  1.000\n",
            "    C(amp, cen) =  1.000\n",
            "    C(cen, wid) =  1.000\n"
          ]
        }
      ],
      "source": [
        "import numpy as np\n",
        "\n",
        "# generate data\n",
        "mu, sigma = 0, 0.5 # mean and standard deviation\n",
        "s = np.random.normal(mu, sigma, 1000)\n",
        "##--\n",
        "x = np.arange(1000)\n",
        "y = s\n",
        "##-- fitting\n",
        "result = gmodel.fit(y, x=x, amp=5, cen=0.5, wid=1)\n",
        "print(result.fit_report())"
      ]
    },
    {
      "cell_type": "markdown",
      "metadata": {
        "id": "u3TafyN1vRqI"
      },
      "source": [
        "## analysis reults\n",
        "https://lmfit.github.io/lmfit-py/fitting.html\n",
        "When comparing fits with different numbers of varying parameters, one typically selects the model with **lowest** reduced chi-square, Akaike information criterion, and/or Bayesian information criterion. Generally, the Bayesian information criterion is considered the most conservative of these statistics.\n",
        "https://lmfit.github.io/lmfit-py/model.html#modelresult-methods"
      ]
    },
    {
      "cell_type": "code",
      "execution_count": null,
      "metadata": {
        "id": "MmbWwUmDvRqI",
        "outputId": "95cceda3-bfd3-4a63-9910-90a891f671ca"
      },
      "outputs": [
        {
          "data": {
            "text/html": [
              "<table><tr><th> name </th><th> value </th><th> standard error </th><th> relative error </th><th> initial value </th><th> min </th><th> max </th><th> vary </th></tr><tr><td> amp </td><td> -1.50918372 </td><td>  87647.1572 </td><td> (5807587.00%) </td><td> 5 </td><td>        -inf </td><td>         inf </td><td> True </td></tr><tr><td> cen </td><td>  2.61049184 </td><td>  5316.96789 </td><td> (203676.86%) </td><td> 0.5 </td><td>        -inf </td><td>         inf </td><td> True </td></tr><tr><td> wid </td><td>  0.24714425 </td><td>  5811.24995 </td><td> (2351359.56%) </td><td> 1 </td><td>        -inf </td><td>         inf </td><td> True </td></tr></table>"
            ],
            "text/plain": [
              "Parameters([('amp',\n",
              "             <Parameter 'amp', value=-1.5091837154387298 +/- 8.76e+04, bounds=[-inf:inf]>),\n",
              "            ('cen',\n",
              "             <Parameter 'cen', value=2.610491842162422 +/- 5.32e+03, bounds=[-inf:inf]>),\n",
              "            ('wid',\n",
              "             <Parameter 'wid', value=0.24714424978824912 +/- 5.81e+03, bounds=[-inf:inf]>)])"
            ]
          },
          "execution_count": 36,
          "metadata": {},
          "output_type": "execute_result"
        }
      ],
      "source": [
        "# result.best_fit\n",
        "result.params"
      ]
    },
    {
      "cell_type": "code",
      "execution_count": null,
      "metadata": {
        "id": "pFiFEIwYvRqI",
        "outputId": "92da99a5-888c-4743-f75d-5a9f3262e085"
      },
      "outputs": [
        {
          "data": {
            "text/plain": [
              "250.10384654228395"
            ]
          },
          "execution_count": 38,
          "metadata": {},
          "output_type": "execute_result"
        }
      ],
      "source": [
        "result.chisqr"
      ]
    },
    {
      "cell_type": "code",
      "execution_count": null,
      "metadata": {
        "id": "sF_BKaOZvRqI",
        "outputId": "a2d22111-1867-4a80-9f5f-92c4becebc1e"
      },
      "outputs": [
        {
          "data": {
            "text/html": [
              "<h2>Fit Statistics</h2><table><tr><td>fitting method</td><td>leastsq</td><td></td></tr><tr><td># function evals</td><td>10</td><td></td></tr><tr><td># data points</td><td>1000</td><td></td></tr><tr><td># variables</td><td>3</td><td></td></tr><tr><td>chi-square</td><td> 250.103831</td><td></td></tr><tr><td>reduced chi-square</td><td> 0.25085640</td><td></td></tr><tr><td>Akaike info crit.</td><td>-1379.87912</td><td></td></tr><tr><td>Bayesian info crit.</td><td>-1365.15586</td><td></td></tr></table><h2>Variables</h2><table><tr><th> name </th><th> value </th><th> standard error </th><th> relative error </th><th> initial value </th><th> min </th><th> max </th><th> vary </th></tr><tr><td> amp </td><td> -1.53268785 </td><td>  200335.972 </td><td> (13070891.94%) </td><td> -1.5091837154387298 </td><td>        -inf </td><td>         inf </td><td> True </td></tr><tr><td> cen </td><td>  2.60975030 </td><td>  10139.4365 </td><td> (388521.33%) </td><td> 2.610491842162422 </td><td>        -inf </td><td>         inf </td><td> True </td></tr><tr><td> wid </td><td>  0.24625289 </td><td>  11339.7654 </td><td> (4604926.87%) </td><td> 0.24714424978824912 </td><td>        -inf </td><td>         inf </td><td> True </td></tr></table><h2>Correlations (unreported correlations are < 0.100)</h2><table><tr><td>amp</td><td>wid</td><td>1.0000</td></tr><tr><td>amp</td><td>cen</td><td>1.0000</td></tr><tr><td>cen</td><td>wid</td><td>1.0000</td></tr></table>"
            ],
            "text/plain": [
              "<lmfit.minimizer.MinimizerResult at 0x28ebf6fdb08>"
            ]
          },
          "execution_count": 41,
          "metadata": {},
          "output_type": "execute_result"
        }
      ],
      "source": [
        "# Goodness-of-Fit Statistics\n",
        "result.minimize()"
      ]
    },
    {
      "cell_type": "markdown",
      "metadata": {
        "id": "-SCy5CXbvRqI"
      },
      "source": [
        "## Built-in Fitting Models in the models module: \n",
        "https://lmfit.github.io/lmfit-py/builtin_models.html#builtin-models-chapter  <br>\n",
        "Lmfit provides several built-in fitting models in the models module. These pre-defined models each subclass from the Model class and wrap relatively well-known functional forms, such as Gaussians, Lorentzian, and Exponentials"
      ]
    },
    {
      "cell_type": "code",
      "execution_count": null,
      "metadata": {
        "id": "X_aMs2zWvRqI",
        "outputId": "f64254b7-31e4-4970-dade-f3436ea8aff2"
      },
      "outputs": [
        {
          "data": {
            "text/plain": [
              "['slope', 'intercept']"
            ]
          },
          "execution_count": 42,
          "metadata": {},
          "output_type": "execute_result"
        }
      ],
      "source": [
        "from lmfit import models\n",
        "\n",
        "fun = models.LinearModel()\n",
        "fun.param_names"
      ]
    },
    {
      "cell_type": "code",
      "execution_count": null,
      "metadata": {
        "id": "vEK4l-0gvRqI",
        "outputId": "69070f48-ef03-4e07-b0b0-27036d89489e"
      },
      "outputs": [
        {
          "data": {
            "text/plain": [
              "['c0', 'c1', 'c2', 'c3']"
            ]
          },
          "execution_count": 47,
          "metadata": {},
          "output_type": "execute_result"
        }
      ],
      "source": [
        "fun = models.PolynomialModel(3)\n",
        "fun.param_names"
      ]
    },
    {
      "cell_type": "code",
      "execution_count": null,
      "metadata": {
        "id": "VO4EJFnHvRqI",
        "outputId": "36c0cf7f-15dc-41cb-ced5-f5dea7b2cfae"
      },
      "outputs": [
        {
          "ename": "NameError",
          "evalue": "name 'models' is not defined",
          "output_type": "error",
          "traceback": [
            "\u001b[1;31m---------------------------------------------------------------------------\u001b[0m",
            "\u001b[1;31mNameError\u001b[0m                                 Traceback (most recent call last)",
            "\u001b[1;32m<ipython-input-2-fc3727b718ee>\u001b[0m in \u001b[0;36m<module>\u001b[1;34m\u001b[0m\n\u001b[1;32m----> 1\u001b[1;33m \u001b[0mfun\u001b[0m \u001b[1;33m=\u001b[0m \u001b[0mmodels\u001b[0m\u001b[1;33m.\u001b[0m\u001b[0mQuadraticModel\u001b[0m\u001b[1;33m(\u001b[0m\u001b[1;33m)\u001b[0m\u001b[1;33m\u001b[0m\u001b[1;33m\u001b[0m\u001b[0m\n\u001b[0m\u001b[0;32m      2\u001b[0m \u001b[0mfun\u001b[0m\u001b[1;33m.\u001b[0m\u001b[0mparams\u001b[0m\u001b[1;33m\u001b[0m\u001b[1;33m\u001b[0m\u001b[0m\n",
            "\u001b[1;31mNameError\u001b[0m: name 'models' is not defined"
          ]
        }
      ],
      "source": [
        "fun = models.LinearModel()\n",
        "fun.param_names"
      ]
    },
    {
      "cell_type": "code",
      "execution_count": null,
      "metadata": {
        "id": "33uZUOALvRqI",
        "outputId": "47d6ebd1-5662-402e-ec34-a03945f5312c"
      },
      "outputs": [
        {
          "ename": "TypeError",
          "evalue": "guess() missing 1 required positional argument: 'data'",
          "output_type": "error",
          "traceback": [
            "\u001b[1;31m---------------------------------------------------------------------------\u001b[0m",
            "\u001b[1;31mTypeError\u001b[0m                                 Traceback (most recent call last)",
            "\u001b[1;32m<ipython-input-54-26105c540052>\u001b[0m in \u001b[0;36m<module>\u001b[1;34m\u001b[0m\n\u001b[1;32m----> 1\u001b[1;33m \u001b[0mfun\u001b[0m\u001b[1;33m.\u001b[0m\u001b[0mguess\u001b[0m\u001b[1;33m(\u001b[0m\u001b[1;33m)\u001b[0m\u001b[1;33m.\u001b[0m\u001b[0m__doc__\u001b[0m\u001b[1;33m\u001b[0m\u001b[1;33m\u001b[0m\u001b[0m\n\u001b[0m",
            "\u001b[1;31mTypeError\u001b[0m: guess() missing 1 required positional argument: 'data'"
          ]
        }
      ],
      "source": [
        "fun.guess().__doc__"
      ]
    },
    {
      "cell_type": "markdown",
      "metadata": {
        "id": "63IZEsTavRqI"
      },
      "source": [
        "## USER defined forms"
      ]
    },
    {
      "cell_type": "code",
      "execution_count": null,
      "metadata": {
        "id": "OEkaYg6tvRqI",
        "outputId": "8024e0a0-42f8-4673-cd34-af7fce2c44ee"
      },
      "outputs": [
        {
          "data": {
            "text/plain": [
              "['A1', 'A2', 't', 'a', 'n']"
            ]
          },
          "execution_count": 1,
          "metadata": {},
          "output_type": "execute_result"
        }
      ],
      "source": [
        "import sys\n",
        "sys.path.append(\"D:/work/Tool_codes/Tools_Python\")\n",
        "import thaTool \n",
        "from lmfit import Model\n",
        "\n",
        "myModel = Model(thaTool.UserModelLmfit.Carreau)\n",
        "myModel.make_params(A1=-3.3, A2=-2.9, t=2.0, a=2.2, n=0.2)\n",
        "myModel.param_names"
      ]
    },
    {
      "cell_type": "code",
      "execution_count": null,
      "metadata": {
        "id": "l7hFut-qvRqI",
        "outputId": "ae14b564-5c3a-4e03-ce85-74ce1bd08681"
      },
      "outputs": [
        {
          "ename": "AttributeError",
          "evalue": "'Model' object has no attribute 'init_params'",
          "output_type": "error",
          "traceback": [
            "\u001b[1;31m---------------------------------------------------------------------------\u001b[0m",
            "\u001b[1;31mAttributeError\u001b[0m                            Traceback (most recent call last)",
            "\u001b[1;32m<ipython-input-2-da6c417bd841>\u001b[0m in \u001b[0;36m<module>\u001b[1;34m\u001b[0m\n\u001b[1;32m----> 1\u001b[1;33m \u001b[0mmyModel\u001b[0m\u001b[1;33m.\u001b[0m\u001b[0minit_params\u001b[0m\u001b[1;33m\u001b[0m\u001b[1;33m\u001b[0m\u001b[0m\n\u001b[0m",
            "\u001b[1;31mAttributeError\u001b[0m: 'Model' object has no attribute 'init_params'"
          ]
        }
      ],
      "source": [
        "myModel.init_params"
      ]
    },
    {
      "cell_type": "code",
      "execution_count": null,
      "metadata": {
        "id": "-aCRGzzzvRqI",
        "outputId": "543d3d5e-368b-42d5-b817-69aabb1c87f8"
      },
      "outputs": [
        {
          "data": {
            "text/plain": [
              "['amp1', 'amp2', 'amp3', 'cen1', 'cen2', 'cen3', 'sigma1', 'sigma2', 'sigma3']"
            ]
          },
          "execution_count": 3,
          "metadata": {},
          "output_type": "execute_result"
        }
      ],
      "source": [
        "myModel = Model(thaTool.UserModelLmfit.sum_3unNormalGaussian)\n",
        "myModel.param_names"
      ]
    },
    {
      "cell_type": "markdown",
      "metadata": {
        "id": "UEBElcG6vRqJ"
      },
      "source": [
        "Example"
      ]
    },
    {
      "cell_type": "code",
      "execution_count": null,
      "metadata": {
        "id": "ZZHksjxtvRqJ"
      },
      "outputs": [],
      "source": [
        "from lmfit import models \n",
        "### =============================================================================\n",
        "### Fitting Thermal Expansion Coeff\n",
        "### =============================================================================\n",
        "x1, y1 = df['Temp'], df['LatConst']\n",
        "yModel = models.PolynomialModel(3)         # PolynomialModel(1)\n",
        "pars = yModel.guess(y1, x=x1)\n",
        "yFit = yModel.fit(y1, pars, x=x1)             # yFit.best_fit: yValue   , yFit.best_values: coeff\n",
        "a0, a1, a2, a3 = yFit.best_values['c0'], yFit.best_values['c1'], yFit.best_values['c2'], yFit.best_values['c3']"
      ]
    },
    {
      "cell_type": "markdown",
      "metadata": {
        "id": "G8OeqBiMvRqJ"
      },
      "source": [
        "# II. Finding Root of a non-linear function\n",
        "https://docs.scipy.org/doc/scipy/reference/generated/scipy.optimize.root_scalar.html#scipy.optimize.root_scalar\n",
        "\n",
        "Example: find root of equation: $ \\large f(x)=(x^3-1) $"
      ]
    },
    {
      "cell_type": "code",
      "execution_count": null,
      "metadata": {
        "id": "TxfeMEgxvRqJ",
        "outputId": "f69ceb1b-e90f-4d46-db78-44ba478d6226"
      },
      "outputs": [
        {
          "name": "stdout",
          "output_type": "stream",
          "text": [
            "1.0\n",
            "11\n",
            "22\n"
          ]
        }
      ],
      "source": [
        "from scipy import optimize\n",
        "def f(x):\n",
        "    return (x**3 - 1)  # only one real root at x = 1\n",
        "\n",
        "def fprime(x):\n",
        "    return 3*x**2\n",
        "##--------\n",
        "sol = optimize.root_scalar(f, x0=0.2, fprime=fprime, method='newton')\n",
        "\n",
        "print(sol.root)\n",
        "print(sol.iterations) \n",
        "print(sol.function_calls)"
      ]
    },
    {
      "cell_type": "markdown",
      "metadata": {
        "id": "K8BhIb8NvRqJ"
      },
      "source": [
        "# 2. Find intersect of 2 lines of decrete datas (using Shapely)\n",
        "https://stackoverflow.com/questions/28766692/intersection-of-two-graphs-in-python-find-the-x-value\n",
        "\n",
        "https://stackoverflow.com/questions/28766692/intersection-of-two-graphs-in-python-find-the-x-value/51145981#51145981\n",
        "\n",
        "https://stackoverflow.com/questions/22417842/how-do-i-find-the-intersection-of-two-line-segments\n",
        "Using Shapely (https://pypi.python.org/pypi/Shapely) the code can look as simple as this:"
      ]
    },
    {
      "cell_type": "code",
      "execution_count": null,
      "metadata": {
        "id": "tgkha448vRqJ",
        "outputId": "fbd59558-f3db-4663-847a-1f1a99812243"
      },
      "outputs": [
        {
          "data": {
            "image/png": "[encoded data removed]",
            "text/plain": [
              "<Figure size 450x360 with 1 Axes>"
            ]
          },
          "metadata": {
            "needs_background": "light"
          },
          "output_type": "display_data"
        }
      ],
      "source": [
        "import numpy as np\n",
        "import matplotlib.pyplot as plt\n",
        "from shapely.geometry import LineString\n",
        "\n",
        "# dataPoint1 = np.array([[0,0], [0.5,0], [1,1], [1.5,0]])\n",
        "dataPoint1 = np.array([[0,0], [0.5,0], [1,1]])\n",
        "dataPoint2 = np.array([[0,1], [0.5,0.5], [1.5,1]])\n",
        "# find intersect                                              \n",
        "line1 = LineString(dataPoint1)\n",
        "line2 = LineString(dataPoint2)\n",
        "\n",
        "intersectPoint = line1.intersection(line2)\n",
        "Points = np.array(intersectPoint)                  # Points = np.asarray(intersectPoint).reshape(-1,2)\n",
        "if Points.ndim==1:                      \n",
        "    Points = Points.reshape(1,2)\n",
        "\n",
        "# plot\n",
        "fig1,ax1 = plt.subplots(nrows=1,ncols=1,figsize=(3, 2.4), dpi=150) \n",
        "\n",
        "ax1.plot(dataPoint1[:,0], dataPoint1[:,1], 'b-', label='Solid') \n",
        "ax1.plot(dataPoint2[:,0], dataPoint2[:,1], 'r-', label='Liquid') \n",
        "\n",
        "ax1.plot(Points[:,0], Points[:,1], 'go' ) \n",
        "plt.show()"
      ]
    },
    {
      "cell_type": "code",
      "execution_count": null,
      "metadata": {
        "id": "fl3A8933vRqJ",
        "outputId": "70049ab8-a872-49f2-a388-74e5536de764"
      },
      "outputs": [
        {
          "data": {
            "text/plain": [
              "True"
            ]
          },
          "execution_count": 19,
          "metadata": {},
          "output_type": "execute_result"
        }
      ],
      "source": [
        "import shapely.geometry as geom\n",
        "isinstance(intersectPoint, geom.Point)"
      ]
    },
    {
      "cell_type": "code",
      "execution_count": null,
      "metadata": {
        "id": "tgTJU4TrvRqJ",
        "outputId": "e86709f1-27e2-49d4-dcf6-f5cc85c3dd94"
      },
      "outputs": [
        {
          "ename": "TypeError",
          "evalue": "'Point' object is not iterable",
          "output_type": "error",
          "traceback": [
            "\u001b[1;31m---------------------------------------------------------------------------\u001b[0m",
            "\u001b[1;31mTypeError\u001b[0m                                 Traceback (most recent call last)",
            "\u001b[1;32m<ipython-input-8-464f1cfbe918>\u001b[0m in \u001b[0;36m<module>\u001b[1;34m\u001b[0m\n\u001b[0;32m      2\u001b[0m \u001b[1;31m# https://gis.stackexchange.com/questions/252764/converting-a-list-of-shapely-geometry-to-numpy-array\u001b[0m\u001b[1;33m\u001b[0m\u001b[1;33m\u001b[0m\u001b[1;33m\u001b[0m\u001b[0m\n\u001b[0;32m      3\u001b[0m \u001b[1;33m\u001b[0m\u001b[0m\n\u001b[1;32m----> 4\u001b[1;33m \u001b[1;32mfor\u001b[0m \u001b[0mp\u001b[0m \u001b[1;32min\u001b[0m \u001b[0mintersectPoint\u001b[0m\u001b[1;33m:\u001b[0m\u001b[1;33m\u001b[0m\u001b[1;33m\u001b[0m\u001b[0m\n\u001b[0m\u001b[0;32m      5\u001b[0m     \u001b[0mprint\u001b[0m\u001b[1;33m(\u001b[0m\u001b[0mp\u001b[0m\u001b[1;33m)\u001b[0m\u001b[1;33m\u001b[0m\u001b[1;33m\u001b[0m\u001b[0m\n",
            "\u001b[1;31mTypeError\u001b[0m: 'Point' object is not iterable"
          ]
        }
      ],
      "source": [
        "## convert POINT type to numpy\n",
        "# https://gis.stackexchange.com/questions/252764/converting-a-list-of-shapely-geometry-to-numpy-array\n",
        "\n",
        "for p in intersectPoint:\n",
        "    print(p)"
      ]
    },
    {
      "cell_type": "code",
      "execution_count": null,
      "metadata": {
        "id": "JAF4tHkVvRqJ",
        "outputId": "850987dd-e20b-49c9-8497-79c05a6247fb"
      },
      "outputs": [
        {
          "name": "stdout",
          "output_type": "stream",
          "text": [
            "POINT (0.8333333333333334 0.6666666666666666)\n",
            "[[0.83333333 0.66666667]]\n",
            "<class 'numpy.ndarray'>\n"
          ]
        }
      ],
      "source": [
        "print(intersectPoint)\n",
        "print(Points)\n",
        "print(type(Points))"
      ]
    },
    {
      "cell_type": "code",
      "execution_count": null,
      "metadata": {
        "id": "vBiT2SJwvRqJ",
        "outputId": "842dd13b-566e-4cfa-fcc3-1efe76301927"
      },
      "outputs": [
        {
          "name": "stdout",
          "output_type": "stream",
          "text": [
            "[[0.  0. ]\n",
            " [0.5 0. ]\n",
            " [1.  1. ]]\n",
            "<class 'numpy.ndarray'>\n"
          ]
        }
      ],
      "source": [
        "print(dataPoint1)\n",
        "print(type(dataPoint1))"
      ]
    },
    {
      "cell_type": "code",
      "execution_count": null,
      "metadata": {
        "id": "986IYLPEvRqJ",
        "outputId": "ab32aec1-37ce-4b03-9052-e175dd2d3509"
      },
      "outputs": [
        {
          "name": "stdout",
          "output_type": "stream",
          "text": [
            "[[0.83333333 0.66666667]]\n"
          ]
        }
      ],
      "source": [
        "import sys, os\n",
        "sys.path.append(\"D:/work/Tool_codes/Tools_Python\")\n",
        "import thaTool \n",
        "import numpy as np\n",
        "import matplotlib.pyplot as plt\n",
        "from shapely.geometry import LineString\n",
        "\n",
        "# dataPoint1 = np.array([[0,0], [0.5,0], [1,1], [1.5,0]])\n",
        "dataPoint1 = np.array([[0,0], [0.5,0], [1,1]])\n",
        "dataPoint2 = np.array([[0,1], [0.5,0.5], [1.5,1]])\n",
        "# find intersect                                              \n",
        "line1 = LineString(dataPoint1)\n",
        "line2 = LineString(dataPoint2)\n",
        "\n",
        "Points = thaTool.intersectPoint(dataPoint1, dataPoint2)\n",
        "print(Points)"
      ]
    },
    {
      "cell_type": "code",
      "execution_count": null,
      "metadata": {
        "id": "A_eqXjMNvRqJ",
        "outputId": "1d8c2907-66cb-4ed4-e271-4e3dcf6798db"
      },
      "outputs": [
        {
          "data": {
            "text/plain": [
              "False"
            ]
          },
          "execution_count": 14,
          "metadata": {},
          "output_type": "execute_result"
        }
      ],
      "source": []
    },
    {
      "cell_type": "markdown",
      "metadata": {
        "id": "mONUCUeEvRqJ"
      },
      "source": [
        "## Note for MULTILINE of GEOMETRYCOLLECTION type\n",
        "https://gis.stackexchange.com/questions/252764/converting-a-list-of-shapely-geometry-to-numpy-array"
      ]
    },
    {
      "cell_type": "code",
      "execution_count": null,
      "metadata": {
        "id": "oHzzseryvRqJ"
      },
      "outputs": [],
      "source": [
        "A = np.loadtxt('Helmholtz_RSpath_Solid_Bulk_100K_Langevin_noCM.dat', usecols=(0,1))\n",
        "B = np.loadtxt('Helmholtz_RSpath_Liquid_Bulk_1300K_Langevin_noCM.dat', usecols=(0,1))"
      ]
    },
    {
      "cell_type": "code",
      "execution_count": null,
      "metadata": {
        "id": "Y5cBFNekvRqJ",
        "outputId": "7e6a26b0-40a9-437d-a486-e4e2bc3e48f5"
      },
      "outputs": [
        {
          "name": "stdout",
          "output_type": "stream",
          "text": [
            "GEOMETRYCOLLECTION (POINT (903.122 -3.633331), POINT (903.125 -3.633333), POINT (903.133 -3.633338), POINT (903.136 -3.63334), LINESTRING (903.127 -3.633334, 903.128 -3.633335), LINESTRING (903.128 -3.633335, 903.129 -3.633336), LINESTRING (903.129 -3.633336, 903.13 -3.633336), LINESTRING (903.13 -3.633336, 903.131 -3.633337))\n"
          ]
        }
      ],
      "source": [
        "import shapely.geometry as geom\n",
        "\n",
        "# find intersect                                              \n",
        "line1 = LineString(A)\n",
        "line2 = LineString(B)\n",
        "intersectPoint = line1.intersection(line2)\n",
        "print(intersectPoint)"
      ]
    },
    {
      "cell_type": "code",
      "execution_count": null,
      "metadata": {
        "id": "apw8i0d5vRqJ",
        "outputId": "6b5b555a-704f-4ddf-968a-6605e5c77f16"
      },
      "outputs": [
        {
          "data": {
            "text/plain": [
              "[array([903.122   ,  -3.633331]),\n",
              " array([903.125   ,  -3.633333]),\n",
              " array([903.133   ,  -3.633338]),\n",
              " array([903.136  ,  -3.63334]),\n",
              " array([903.127   ,  -3.633334]),\n",
              " array([903.128   ,  -3.633335]),\n",
              " array([903.129   ,  -3.633336]),\n",
              " array([903.13    ,  -3.633336])]"
            ]
          },
          "execution_count": 23,
          "metadata": {},
          "output_type": "execute_result"
        }
      ],
      "source": [
        "list_arrays = [ np.array((geom.xy[0][0], geom.xy[1][0])) for geom in intersectPoint ]\n",
        "list_arrays"
      ]
    },
    {
      "cell_type": "code",
      "execution_count": null,
      "metadata": {
        "id": "ABzgBHAHvRqJ"
      },
      "outputs": [],
      "source": []
    },
    {
      "cell_type": "code",
      "execution_count": null,
      "metadata": {
        "id": "Lwtx2CHEvRqJ",
        "outputId": "9120ff0a-2b26-425b-c110-c0921277357a"
      },
      "outputs": [
        {
          "ename": "TypeError",
          "evalue": "float() argument must be a string or a number, not 'Point'",
          "output_type": "error",
          "traceback": [
            "\u001b[1;31m---------------------------------------------------------------------------\u001b[0m",
            "\u001b[1;31mTypeError\u001b[0m                                 Traceback (most recent call last)",
            "\u001b[1;32m<ipython-input-24-d2309f6ad041>\u001b[0m in \u001b[0;36m<module>\u001b[1;34m\u001b[0m\n\u001b[0;32m      2\u001b[0m     \u001b[0mlist_arrays\u001b[0m \u001b[1;33m=\u001b[0m \u001b[1;33m[\u001b[0m \u001b[0mnp\u001b[0m\u001b[1;33m.\u001b[0m\u001b[0marray\u001b[0m\u001b[1;33m(\u001b[0m\u001b[1;33m(\u001b[0m\u001b[0mgeom\u001b[0m\u001b[1;33m.\u001b[0m\u001b[0mxy\u001b[0m\u001b[1;33m[\u001b[0m\u001b[1;36m0\u001b[0m\u001b[1;33m]\u001b[0m\u001b[1;33m[\u001b[0m\u001b[1;36m0\u001b[0m\u001b[1;33m]\u001b[0m\u001b[1;33m,\u001b[0m \u001b[0mgeom\u001b[0m\u001b[1;33m.\u001b[0m\u001b[0mxy\u001b[0m\u001b[1;33m[\u001b[0m\u001b[1;36m1\u001b[0m\u001b[1;33m]\u001b[0m\u001b[1;33m[\u001b[0m\u001b[1;36m0\u001b[0m\u001b[1;33m]\u001b[0m\u001b[1;33m)\u001b[0m\u001b[1;33m)\u001b[0m \u001b[1;32mfor\u001b[0m \u001b[0mgeom\u001b[0m \u001b[1;32min\u001b[0m \u001b[0mintersectPoint\u001b[0m \u001b[1;33m]\u001b[0m\u001b[1;33m\u001b[0m\u001b[1;33m\u001b[0m\u001b[0m\n\u001b[0;32m      3\u001b[0m     \u001b[0mPoints\u001b[0m \u001b[1;33m=\u001b[0m \u001b[0mnp\u001b[0m\u001b[1;33m.\u001b[0m\u001b[0marray\u001b[0m\u001b[1;33m(\u001b[0m\u001b[0mlist_arrays\u001b[0m\u001b[1;33m)\u001b[0m\u001b[1;33m\u001b[0m\u001b[1;33m\u001b[0m\u001b[0m\n\u001b[1;32m----> 4\u001b[1;33m \u001b[1;32melse\u001b[0m\u001b[1;33m:\u001b[0m\u001b[0mPoints\u001b[0m \u001b[1;33m=\u001b[0m \u001b[0mnp\u001b[0m\u001b[1;33m.\u001b[0m\u001b[0marray\u001b[0m\u001b[1;33m(\u001b[0m\u001b[0mintersectPoint\u001b[0m\u001b[1;33m)\u001b[0m                  \u001b[1;31m# Points = np.asarray(intersectPoint).reshape(-1,2)\u001b[0m\u001b[1;33m\u001b[0m\u001b[1;33m\u001b[0m\u001b[0m\n\u001b[0m\u001b[0;32m      5\u001b[0m \u001b[1;33m\u001b[0m\u001b[0m\n\u001b[0;32m      6\u001b[0m \u001b[0mprint\u001b[0m\u001b[1;33m(\u001b[0m\u001b[0mPoints\u001b[0m\u001b[1;33m)\u001b[0m\u001b[1;33m\u001b[0m\u001b[1;33m\u001b[0m\u001b[0m\n",
            "\u001b[1;31mTypeError\u001b[0m: float() argument must be a string or a number, not 'Point'"
          ]
        }
      ],
      "source": [
        "if isinstance(intersectPoint, geom.MultiLineString):\n",
        "    list_arrays = [ np.array((geom.xy[0][0], geom.xy[1][0])) for geom in intersectPoint ]\n",
        "    Points = np.array(list_arrays)\n",
        "else:Points = np.array(intersectPoint)                  # Points = np.asarray(intersectPoint).reshape(-1,2)\n",
        "    \n",
        "print(Points)"
      ]
    },
    {
      "cell_type": "code",
      "execution_count": null,
      "metadata": {
        "id": "cACPR5pgvRqK"
      },
      "outputs": [],
      "source": [
        "## USE this way\n",
        "if isinstance(intersectPoint, geom.Point):\n",
        "    Points = np.array(intersectPoint)                  # Points = np.asarray(intersectPoint).reshape(-1,2)\n",
        "else:\n",
        "    list_arrays = [ np.array((geom.xy[0][0], geom.xy[1][0])) for geom in intersectPoint ]\n",
        "    Points = np.array(list_arrays)"
      ]
    },
    {
      "cell_type": "code",
      "execution_count": null,
      "metadata": {
        "id": "yFO5mdwfvRqK",
        "outputId": "0a436816-facb-44d4-d5bd-55fbd36ece25"
      },
      "outputs": [
        {
          "data": {
            "text/plain": [
              "array([[903.122   ,  -3.633331],\n",
              "       [903.125   ,  -3.633333],\n",
              "       [903.133   ,  -3.633338],\n",
              "       [903.136   ,  -3.63334 ],\n",
              "       [903.127   ,  -3.633334],\n",
              "       [903.128   ,  -3.633335],\n",
              "       [903.129   ,  -3.633336],\n",
              "       [903.13    ,  -3.633336]])"
            ]
          },
          "execution_count": 27,
          "metadata": {},
          "output_type": "execute_result"
        }
      ],
      "source": [
        "Points"
      ]
    },
    {
      "cell_type": "code",
      "execution_count": null,
      "metadata": {
        "id": "5mj9zsodvRqK"
      },
      "outputs": [],
      "source": []
    },
    {
      "cell_type": "code",
      "execution_count": null,
      "metadata": {
        "id": "HdwDIYwfvRqK",
        "outputId": "2274bceb-cd03-4921-b300-12095d14d215"
      },
      "outputs": [
        {
          "name": "stdout",
          "output_type": "stream",
          "text": [
            "[array([884.7016  ,  -3.620597]), array([884.7046  ,  -3.620599]), array([884.706 ,  -3.6206]), array([884.708   ,  -3.620601]), array([884.711   ,  -3.620603])]\n"
          ]
        }
      ],
      "source": [
        "list_arrays = [ np.array((geom.xy[0][0], geom.xy[1][0])) for geom in intersectPoint ]\n",
        "print(list_arrays)"
      ]
    },
    {
      "cell_type": "code",
      "execution_count": null,
      "metadata": {
        "id": "UfPNNYNVvRqK",
        "outputId": "59d98b1f-8a5e-48e6-fd74-7aba0ccc48ee"
      },
      "outputs": [
        {
          "name": "stdout",
          "output_type": "stream",
          "text": [
            "[[884.7016    -3.620597]\n",
            " [884.7046    -3.620599]\n",
            " [884.706     -3.6206  ]\n",
            " [884.708     -3.620601]\n",
            " [884.711     -3.620603]]\n"
          ]
        }
      ],
      "source": [
        "print(np.asarray(list_arrays))"
      ]
    },
    {
      "cell_type": "code",
      "execution_count": null,
      "metadata": {
        "id": "PpDP6-Z5vRqK",
        "outputId": "0841b9ba-5760-426a-c702-4cd27902e822"
      },
      "outputs": [
        {
          "data": {
            "text/plain": [
              "shapely.geometry.multilinestring.MultiLineString"
            ]
          },
          "execution_count": 38,
          "metadata": {},
          "output_type": "execute_result"
        }
      ],
      "source": [
        "type(intersectPoint)"
      ]
    },
    {
      "cell_type": "code",
      "execution_count": null,
      "metadata": {
        "id": "_4km6tjPvRqK",
        "outputId": "eca82692-7e5a-4173-c052-c93441237f34"
      },
      "outputs": [
        {
          "data": {
            "text/plain": [
              "True"
            ]
          },
          "execution_count": 41,
          "metadata": {},
          "output_type": "execute_result"
        }
      ],
      "source": [
        "import shapely.geometry as geom\n",
        "isinstance(intersectPoint, geom.MultiLineString)"
      ]
    },
    {
      "cell_type": "code",
      "execution_count": null,
      "metadata": {
        "id": "gXc41LfLvRqK",
        "outputId": "0174f0bf-50fe-4b65-ec04-540e255d5a20"
      },
      "outputs": [
        {
          "name": "stdout",
          "output_type": "stream",
          "text": [
            "[[884.7016    -3.620597]\n",
            " [884.7046    -3.620599]\n",
            " [884.706     -3.6206  ]\n",
            " [884.708     -3.620601]\n",
            " [884.711     -3.620603]]\n"
          ]
        }
      ],
      "source": [
        "Points = thaTool.intersectPoint(A, B)\n",
        "print(Points)"
      ]
    },
    {
      "cell_type": "markdown",
      "metadata": {
        "id": "M3nvDLIHvRqK"
      },
      "source": [
        "## finding root\n",
        "http://people.duke.edu/~ccc14/sta-663-2016/13_Optimization.html#Finding-roots"
      ]
    },
    {
      "cell_type": "markdown",
      "metadata": {
        "id": "I2VgwRQUvRqK"
      },
      "source": [
        "# II. Propagation of uncertainty\n",
        "to estimate Error of y, due to error of parameters in fitting\n",
        "\n",
        "https://en.wikipedia.org/wiki/Propagation_of_uncertainty\n",
        "\n",
        "https://stackoverflow.com/questions/54843932/how-do-i-specify-error-of-y-variable-when-fitting-with-lmfit"
      ]
    }
  ],
  "metadata": {
    "kernelspec": {
      "display_name": "Python 3",
      "language": "python",
      "name": "python3"
    },
    "language_info": {
      "codemirror_mode": {
        "name": "ipython",
        "version": 3
      },
      "file_extension": ".py",
      "mimetype": "text/x-python",
      "name": "python",
      "nbconvert_exporter": "python",
      "pygments_lexer": "ipython3",
      "version": "3.7.8"
    },
    "colab": {
      "provenance": [],
      "include_colab_link": true
    }
  },
  "nbformat": 4,
  "nbformat_minor": 0
}