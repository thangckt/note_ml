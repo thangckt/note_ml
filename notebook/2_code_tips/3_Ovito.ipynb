{
 "cells": [
  {
   "attachments": {},
   "cell_type": "markdown",
   "metadata": {},
   "source": [
    "# Visuallize by Ovito\n",
    "\n",
    "https://www.ovito.org/docs/current/python/modules/ovito_vis.html#ovito.vis.Viewport\n",
    "```\n",
    "conda install --strict-channel-priority -c https://conda.ovito.org -c conda-forge ovito=3\n",
    "```\n",
    "Render from session state: modify particle types and save as session file *.ovito\n",
    "\n",
    "## NOTE:\n",
    "- use load session *.ovito, the properties are computed as in GUI\n",
    "- use import_files, we must define everything from scratch \n",
    "- for greek symbol, can use latex package [pylatexenc](https://pylatexenc.readthedocs.io), but cannot write subscript/superscript\n",
    "  + so, use [Greek Unicode](http://kestrel.nmt.edu/~raymond/software/howtos/greekscape.xhtml) and use [html text](https://doc.qt.io/qt-6/richtext-html-subset.html) for subscript/superscript.\n"
   ]
  }
 ],
 "metadata": {
  "kernelspec": {
   "display_name": "py311",
   "language": "python",
   "name": "python3"
  },
  "language_info": {
   "codemirror_mode": {
    "name": "ipython",
    "version": 3
   },
   "file_extension": ".py",
   "mimetype": "text/x-python",
   "name": "python",
   "nbconvert_exporter": "python",
   "pygments_lexer": "ipython3",
   "version": "3.11.0"
  },
  "vscode": {
   "interpreter": {
    "hash": "5c79f991f86eb27795e10a995cddc62632fb02f5594cc68269302f756ca9db70"
   }
  }
 },
 "nbformat": 4,
 "nbformat_minor": 4
}
