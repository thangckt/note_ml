{
  "cells": [
    {
      "cell_type": "markdown",
      "metadata": {
        "id": "view-in-github",
        "colab_type": "text"
      },
      "source": [
        "<a href=\"https://colab.research.google.com/github/thangckt/note_ml/blob/main/notebook/2_code_tips/2_Matplotlib.ipynb\" target=\"_parent\"><img src=\"https://colab.research.google.com/assets/colab-badge.svg\" alt=\"Open In Colab\"/></a>"
      ]
    },
    {
      "cell_type": "markdown",
      "metadata": {
        "id": "-XuF-Hy7VEMU"
      },
      "source": [
        "# Tips to use Matplotlib\n",
        "\n",
        "## Setting plot style\n",
        "\n",
        "### Use *.mplstyle\n"
      ]
    },
    {
      "cell_type": "code",
      "execution_count": null,
      "metadata": {
        "id": "wjaofna7VEMb",
        "outputId": "d0d00449-a3d8-4c60-ee34-d01370d6f326"
      },
      "outputs": [
        {
          "data": {
            "text/plain": [
              "['Solarize_Light2',\n",
              " '_classic_test_patch',\n",
              " '_mpl-gallery',\n",
              " '_mpl-gallery-nogrid',\n",
              " 'bmh',\n",
              " 'classic',\n",
              " 'dark_background',\n",
              " 'fast',\n",
              " 'fivethirtyeight',\n",
              " 'ggplot',\n",
              " 'grayscale',\n",
              " 'seaborn-v0_8',\n",
              " 'seaborn-v0_8-bright',\n",
              " 'seaborn-v0_8-colorblind',\n",
              " 'seaborn-v0_8-dark',\n",
              " 'seaborn-v0_8-dark-palette',\n",
              " 'seaborn-v0_8-darkgrid',\n",
              " 'seaborn-v0_8-deep',\n",
              " 'seaborn-v0_8-muted',\n",
              " 'seaborn-v0_8-notebook',\n",
              " 'seaborn-v0_8-paper',\n",
              " 'seaborn-v0_8-pastel',\n",
              " 'seaborn-v0_8-poster',\n",
              " 'seaborn-v0_8-talk',\n",
              " 'seaborn-v0_8-ticks',\n",
              " 'seaborn-v0_8-white',\n",
              " 'seaborn-v0_8-whitegrid',\n",
              " 'tableau-colorblind10']"
            ]
          },
          "execution_count": 2,
          "metadata": {},
          "output_type": "execute_result"
        }
      ],
      "source": [
        "import matplotlib.pyplot as plt\n",
        "plt.style.available"
      ]
    },
    {
      "cell_type": "code",
      "execution_count": null,
      "metadata": {
        "id": "RSsma-SUVEMe",
        "outputId": "4ad27a95-fb84-4f07-a661-28711af49742"
      },
      "outputs": [
        {
          "ename": "NameError",
          "evalue": "name 'dark_background' is not defined",
          "output_type": "error",
          "traceback": [
            "\u001b[1;31m---------------------------------------------------------------------------\u001b[0m",
            "\u001b[1;31mNameError\u001b[0m                                 Traceback (most recent call last)",
            "Cell \u001b[1;32mIn[6], line 1\u001b[0m\n\u001b[1;32m----> 1\u001b[0m plt\u001b[39m.\u001b[39mstyle\u001b[39m.\u001b[39muse(dark_background)\n",
            "\u001b[1;31mNameError\u001b[0m: name 'dark_background' is not defined"
          ]
        }
      ],
      "source": [
        "plt.style.use(dark_background)"
      ]
    },
    {
      "cell_type": "markdown",
      "metadata": {
        "id": "jb9gkYZoVEMf"
      },
      "source": [
        "### Use rcParam"
      ]
    },
    {
      "cell_type": "markdown",
      "source": [
        "# Save image files\n",
        "\n",
        "## Save single figure to single file"
      ],
      "metadata": {
        "id": "bAXAtVyUVLN-"
      }
    },
    {
      "cell_type": "code",
      "source": [
        "import matplotlib.pyplot as plt\n",
        "\n",
        "fig1, ax1 = plt.subplots()\n",
        "\n",
        "fig1.savefig('test.pdf', dpi=300, bbox_inches='tight', pad_inches=0.05)  "
      ],
      "metadata": {
        "id": "R-hx8eFgWMBv"
      },
      "execution_count": null,
      "outputs": []
    },
    {
      "cell_type": "markdown",
      "source": [
        "## Save list of figures to a same file"
      ],
      "metadata": {
        "id": "NGIunVC0WG_Y"
      }
    },
    {
      "cell_type": "code",
      "execution_count": null,
      "metadata": {
        "id": "N_r9meUzVEMf"
      },
      "outputs": [],
      "source": [
        "from matplotlib.backends.backend_pdf import PdfPages\n",
        "import matplotlib.pyplot as plt\n",
        "\n",
        "fig1, ax1 = plt.subplots()\n",
        "fig2, ax2 = plt.subplots()\n",
        "\n",
        "with PdfPages('test.pdf') as myPDF:             \n",
        "    myPDF.savefig(fig1, dpi=300, bbox_inches='tight', pad_inches=0.05)  \n",
        "    myPDF.savefig(fig2, dpi=300, bbox_inches='tight', pad_inches=0.05)  "
      ]
    },
    {
      "cell_type": "markdown",
      "source": [
        "# Set properties\n",
        "\n",
        "## use `ax.set()`\n",
        "Set multiple properties at once."
      ],
      "metadata": {
        "id": "ZpPo5wBMM9it"
      }
    }
  ],
  "metadata": {
    "kernelspec": {
      "display_name": "py311",
      "language": "python",
      "name": "python3"
    },
    "language_info": {
      "codemirror_mode": {
        "name": "ipython",
        "version": 3
      },
      "file_extension": ".py",
      "mimetype": "text/x-python",
      "name": "python",
      "nbconvert_exporter": "python",
      "pygments_lexer": "ipython3",
      "version": "3.11.0"
    },
    "vscode": {
      "interpreter": {
        "hash": "5c79f991f86eb27795e10a995cddc62632fb02f5594cc68269302f756ca9db70"
      }
    },
    "colab": {
      "provenance": [],
      "toc_visible": true,
      "include_colab_link": true
    }
  },
  "nbformat": 4,
  "nbformat_minor": 0
}