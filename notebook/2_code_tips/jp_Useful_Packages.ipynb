{
 "cells": [
  {
   "cell_type": "markdown",
   "metadata": {},
   "source": [
    "# I. MD trajectories analysis\n",
    "## 1. freud\n",
    "https://freud.readthedocs.io/en/stable/ <br>\n",
    "\n",
    "## 2. MDtraj\n",
    "https://mdtraj.org/1.9.4/analysis.html\n",
    "\n",
    "## 3. MDAnalysis \n",
    "https://www.mdanalysis.org/about/\n",
    "\n",
    "## work with DATA file Lammps\n",
    "https://docs.mdanalysis.org/stable/documentation_pages/coordinates/LAMMPS.html <br>\n",
    "https://userguide.mdanalysis.org/1.0.0/formats/reference/data.html\n",
    "\n",
    "* DATA file: MDAnalysis.Universe('fileName', format='data', atom_style='id resid x y z n1 n2 n3')   # atom_style='id resid x y z' 'atomic'  'full'\n",
    "* DUMP file: MDAnalysis.Universe('fileName', format='lammpsdump') \n",
    "\n",
    "*NOTE: just support reader, work primary on MDA.atoms"
   ]
  },
  {
   "cell_type": "code",
   "execution_count": 2,
   "metadata": {},
   "outputs": [],
   "source": [
    "import MDAnalysis, os\n",
    "### Working folder\n",
    "dataDIR=r\"D:\\work\\myCodes\\code_Python\\#JupyNotebooks\\readWriteData\" \n",
    "os.chdir(dataDIR)"
   ]
  },
  {
   "cell_type": "code",
   "execution_count": 3,
   "metadata": {},
   "outputs": [
    {
     "data": {
      "text/plain": [
       "array([[-2.851055, -4.032   ,  0.      ],\n",
       "       [-2.851055, -4.032   ,  2.851055],\n",
       "       [-2.851055, -4.032   ,  5.702109],\n",
       "       [-2.851055, -4.032   ,  8.553164],\n",
       "       [-1.425527, -2.016   ,  1.425527],\n",
       "       [-1.425527, -2.016   ,  4.276582],\n",
       "       [-1.425527, -2.016   ,  7.127636],\n",
       "       [-1.425527, -2.016   ,  9.978691],\n",
       "       [ 0.      , -4.032   ,  0.      ],\n",
       "       [ 0.      , -4.032   ,  2.851055],\n",
       "       [ 0.      , -4.032   ,  5.702109],\n",
       "       [ 0.      , -4.032   ,  8.553164],\n",
       "       [ 1.425527, -2.016   ,  1.425527],\n",
       "       [ 1.425527, -2.016   ,  4.276582],\n",
       "       [ 1.425527, -2.016   ,  7.127636],\n",
       "       [ 1.425527, -2.016   ,  9.978691]], dtype=float32)"
      ]
     },
     "execution_count": 3,
     "metadata": {},
     "output_type": "execute_result"
    }
   ],
   "source": [
    "## load an example DATA file\n",
    "mdaTraj = MDAnalysis.Universe('Model.dat', format='data', atom_style='id type x y z n1 n2 n3') \n",
    "mdaTraj.atoms.positions"
   ]
  },
  {
   "cell_type": "code",
   "execution_count": 8,
   "metadata": {},
   "outputs": [
    {
     "data": {
      "text/plain": [
       "array([[-16.257025, -16.257025,   0.      ],\n",
       "       [  8.12851 ,  -8.128512, 113.799164]], dtype=float32)"
      ]
     },
     "execution_count": 8,
     "metadata": {},
     "output_type": "execute_result"
    }
   ],
   "source": [
    "mdaTraj.atoms.bbox()"
   ]
  },
  {
   "cell_type": "code",
   "execution_count": 7,
   "metadata": {},
   "outputs": [
    {
     "data": {
      "text/plain": [
       "array([[-16.257025, -16.257025,   0.      ],\n",
       "       [  8.12851 ,  -8.128512, 113.799164]], dtype=float32)"
      ]
     },
     "execution_count": 7,
     "metadata": {},
     "output_type": "execute_result"
    }
   ],
   "source": [
    "## load an example DUMP file\n",
    "mdaTraj = MDAnalysis.Universe('Model.cfg', format='lammpsdump') \n",
    "mdaTraj.atoms.bbox()"
   ]
  },
  {
   "cell_type": "code",
   "execution_count": 9,
   "metadata": {},
   "outputs": [
    {
     "data": {
      "text/plain": [
       "['_SETATTR_WHITELIST',\n",
       " '__add__',\n",
       " '__and__',\n",
       " '__class__',\n",
       " '__contains__',\n",
       " '__delattr__',\n",
       " '__dict__',\n",
       " '__dir__',\n",
       " '__doc__',\n",
       " '__eq__',\n",
       " '__format__',\n",
       " '__ge__',\n",
       " '__getattr__',\n",
       " '__getattribute__',\n",
       " '__getitem__',\n",
       " '__gt__',\n",
       " '__hash__',\n",
       " '__init__',\n",
       " '__init_subclass__',\n",
       " '__le__',\n",
       " '__len__',\n",
       " '__lt__',\n",
       " '__module__',\n",
       " '__ne__',\n",
       " '__new__',\n",
       " '__or__',\n",
       " '__radd__',\n",
       " '__reduce__',\n",
       " '__reduce_ex__',\n",
       " '__repr__',\n",
       " '__setattr__',\n",
       " '__sizeof__',\n",
       " '__str__',\n",
       " '__sub__',\n",
       " '__subclasshook__',\n",
       " '__weakref__',\n",
       " '__xor__',\n",
       " '_add_prop',\n",
       " '_cache',\n",
       " '_derived_class',\n",
       " '_is_group',\n",
       " '_ix',\n",
       " '_mix',\n",
       " '_subclass',\n",
       " '_u',\n",
       " '_unique_restore_mask',\n",
       " 'accumulate',\n",
       " 'align_principal_axis',\n",
       " 'angle',\n",
       " 'asphericity',\n",
       " 'atoms',\n",
       " 'bbox',\n",
       " 'bond',\n",
       " 'bsphere',\n",
       " 'center',\n",
       " 'center_of_geometry',\n",
       " 'center_of_mass',\n",
       " 'centroid',\n",
       " 'cmap',\n",
       " 'concatenate',\n",
       " 'convert_to',\n",
       " 'copy',\n",
       " 'difference',\n",
       " 'dihedral',\n",
       " 'dimensions',\n",
       " 'forces',\n",
       " 'groupby',\n",
       " 'guess_bonds',\n",
       " 'ids',\n",
       " 'improper',\n",
       " 'indices',\n",
       " 'intersection',\n",
       " 'is_strict_subset',\n",
       " 'is_strict_superset',\n",
       " 'isdisjoint',\n",
       " 'issubset',\n",
       " 'issuperset',\n",
       " 'isunique',\n",
       " 'ix',\n",
       " 'ix_array',\n",
       " 'level',\n",
       " 'masses',\n",
       " 'moment_of_inertia',\n",
       " 'n_atoms',\n",
       " 'n_residues',\n",
       " 'n_segments',\n",
       " 'pack_into_box',\n",
       " 'positions',\n",
       " 'principal_axes',\n",
       " 'radius_of_gyration',\n",
       " 'resids',\n",
       " 'residues',\n",
       " 'resindices',\n",
       " 'resnums',\n",
       " 'rotate',\n",
       " 'rotateby',\n",
       " 'segids',\n",
       " 'segindices',\n",
       " 'segments',\n",
       " 'select_atoms',\n",
       " 'shape_parameter',\n",
       " 'split',\n",
       " 'subtract',\n",
       " 'symmetric_difference',\n",
       " 'total_mass',\n",
       " 'transform',\n",
       " 'translate',\n",
       " 'ts',\n",
       " 'types',\n",
       " 'union',\n",
       " 'unique',\n",
       " 'universe',\n",
       " 'unwrap',\n",
       " 'ureybradley',\n",
       " 'velocities',\n",
       " 'wrap',\n",
       " 'write']"
      ]
     },
     "execution_count": 9,
     "metadata": {},
     "output_type": "execute_result"
    }
   ],
   "source": [
    "dir(mdaTraj.atoms)"
   ]
  },
  {
   "cell_type": "markdown",
   "metadata": {},
   "source": [
    "## 4. TRAVIS\n",
    "https://aip.scitation.org/doi/10.1063/5.0005078\n",
    "\n",
    "## 5. pytim\n",
    "https://aip.scitation.org/doi/10.1063/5.0005078\n",
    "\n",
    "## 6. pytraj\n",
    "https://amber-md.github.io/pytraj/latest/tutorials/index.html\n",
    "\n",
    "## 7. RDkit\n",
    "https://www.rdkit.org/docs/index.html"
   ]
  },
  {
   "cell_type": "markdown",
   "metadata": {},
   "source": [
    "# II. More tools\n",
    "1. Voronoi: tess  \n",
    "2. Shapely\n",
    "\n"
   ]
  },
  {
   "cell_type": "markdown",
   "metadata": {},
   "source": [
    "# III.Compute SASA\n",
    "## 1. Pytim\n",
    "## 2. MDtraj\n",
    "## 3. RDkit\n"
   ]
  },
  {
   "cell_type": "code",
   "execution_count": 61,
   "metadata": {},
   "outputs": [
    {
     "name": "stdout",
     "output_type": "stream",
     "text": [
      "[[1 2]\n",
      " [3 4]\n",
      " [5 6]]\n"
     ]
    }
   ],
   "source": [
    "# array of arrays of the same sizes\n",
    "a = np.array([np.array([1,2]), np.array([3,4]), np.array([5, 6])])\n",
    "print(a)"
   ]
  },
  {
   "cell_type": "code",
   "execution_count": 67,
   "metadata": {},
   "outputs": [
    {
     "name": "stdout",
     "output_type": "stream",
     "text": [
      "[[1, 2], array([3, 4])]\n"
     ]
    }
   ],
   "source": [
    "b = []\n",
    "a = [1,2]\n",
    "c = np.array([3,4])\n",
    "b.append(a)\n",
    "b.append(c)\n",
    "print(b)"
   ]
  },
  {
   "cell_type": "markdown",
   "metadata": {},
   "source": [
    "# IV. Visualization Tools\n",
    "## 1. Ovito\n",
    "## 2. NGLView\n",
    "https://ambermd.org/tutorials/analysis/tutorial_notebooks/nglview_movie/index.html"
   ]
  },
  {
   "cell_type": "code",
   "execution_count": 1,
   "metadata": {},
   "outputs": [
    {
     "data": {
      "application/vnd.jupyter.widget-view+json": {
       "model_id": "8c87c52416904dbab03189417fdf4c59",
       "version_major": 2,
       "version_minor": 0
      },
      "text/plain": [
       "NGLWidget()"
      ]
     },
     "metadata": {},
     "output_type": "display_data"
    }
   ],
   "source": [
    "import nglview\n",
    "view = nglview.show_pdbid(\"3pqr\")  # load \"3pqr\" from RCSB PDB and display viewer widget\n",
    "view"
   ]
  },
  {
   "cell_type": "code",
   "execution_count": null,
   "metadata": {},
   "outputs": [],
   "source": []
  }
 ],
 "metadata": {
  "kernelspec": {
   "display_name": "Python 3 (ipykernel)",
   "language": "python",
   "name": "python3"
  },
  "language_info": {
   "codemirror_mode": {
    "name": "ipython",
    "version": 3
   },
   "file_extension": ".py",
   "mimetype": "text/x-python",
   "name": "python",
   "nbconvert_exporter": "python",
   "pygments_lexer": "ipython3",
   "version": "3.7.13"
  }
 },
 "nbformat": 4,
 "nbformat_minor": 4
}
