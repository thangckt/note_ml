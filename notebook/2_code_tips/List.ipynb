{
 "cells": [
  {
   "cell_type": "markdown",
   "metadata": {},
   "source": [
    "# I. Work with LIST\n",
    "* array-of-arrays can be used as index\n",
    "* list-of-arrays can not be used as index, but list-of-arrays is more convenient for insert, append new elements\n",
    "## 1. Use list.insert instead np.insert:\n",
    "* dont use np.append array since it will make copy whole array to new one, but convert to list for appending, after that convert again to numpy array, mean dont use np.insert but use list.insert"
   ]
  },
  {
   "cell_type": "code",
   "execution_count": 2,
   "metadata": {},
   "outputs": [
    {
     "name": "stdout",
     "output_type": "stream",
     "text": [
      "[array([1, 2]) array([3, 4, 5]) array([3, 4, 5, 6])]\n"
     ]
    },
    {
     "name": "stderr",
     "output_type": "stream",
     "text": [
      "C:\\DevProgram\\miniconda3\\envs\\py37\\lib\\site-packages\\ipykernel_launcher.py:3: VisibleDeprecationWarning: Creating an ndarray from ragged nested sequences (which is a list-or-tuple of lists-or-tuples-or ndarrays with different lengths or shapes) is deprecated. If you meant to do this, you must specify 'dtype=object' when creating the ndarray\n",
      "  This is separate from the ipykernel package so we can avoid doing imports until\n"
     ]
    }
   ],
   "source": [
    "import numpy as np\n",
    "# array of arrays of diffrence sizes\n",
    "a = np.array([np.array([1,2]), np.array([3,4,5]), np.array([3,4,5, 6])])\n",
    "print(a)"
   ]
  },
  {
   "cell_type": "markdown",
   "metadata": {},
   "source": [
    "## insert vs append 1 element\n",
    "* Insert 1 elem at position i\n",
    "* append 1 elem x at the end of list  <br>\n",
    "a[len(a):] = [x]"
   ]
  },
  {
   "cell_type": "code",
   "execution_count": 56,
   "metadata": {},
   "outputs": [
    {
     "name": "stdout",
     "output_type": "stream",
     "text": [
      "[array([1, 2]), array([1, 0]), array([3, 4, 5]), array([3, 4, 5, 6]), array([1, 0])]\n"
     ]
    }
   ],
   "source": [
    "b=np.array([1,0])\n",
    "c = list(a)\n",
    "c.insert(1,b)\n",
    "c.append(b)\n",
    "print(c)"
   ]
  },
  {
   "cell_type": "code",
   "execution_count": 61,
   "metadata": {},
   "outputs": [
    {
     "name": "stdout",
     "output_type": "stream",
     "text": [
      "[[1 2]\n",
      " [3 4]\n",
      " [5 6]]\n"
     ]
    }
   ],
   "source": [
    "# array of arrays of the same sizes\n",
    "a = np.array([np.array([1,2]), np.array([3,4]), np.array([5, 6])])\n",
    "print(a)"
   ]
  },
  {
   "cell_type": "code",
   "execution_count": 67,
   "metadata": {},
   "outputs": [
    {
     "name": "stdout",
     "output_type": "stream",
     "text": [
      "[[1, 2], array([3, 4])]\n"
     ]
    }
   ],
   "source": [
    "b = []\n",
    "a = [1,2]\n",
    "c = np.array([3,4])\n",
    "b.append(a)\n",
    "b.append(c)\n",
    "print(b)"
   ]
  },
  {
   "cell_type": "markdown",
   "metadata": {},
   "source": [
    "## insert vs append sublist in to list\n",
    "* Insert sublist into a list at position i\n",
    "* append sublist into a list at the end of list of list"
   ]
  },
  {
   "cell_type": "code",
   "execution_count": null,
   "metadata": {},
   "outputs": [],
   "source": [
    "# Insert sublist into a list at position i\n",
    "a[i:i] = sublist\n",
    "\n",
    "# append sublist into a list at the end of list of list\n",
    "a[len(a):] = sublist         # or a[len(a):len(a)] = sublist\n",
    "a.extend(sublist)"
   ]
  },
  {
   "cell_type": "markdown",
   "metadata": {},
   "source": [
    "## Extract a not in b\n",
    "use extraction of 2 list "
   ]
  },
  {
   "cell_type": "code",
   "execution_count": 53,
   "metadata": {},
   "outputs": [
    {
     "name": "stdout",
     "output_type": "stream",
     "text": [
      "[5, 6]\n",
      "{3}\n"
     ]
    }
   ],
   "source": [
    "a = [0,2,3]\n",
    "b = [0,2,5,6]\n",
    "c = list(set(b)-set(a))\n",
    "d = set(a)-set(b)\n",
    "print(c)\n",
    "print(d)"
   ]
  },
  {
   "cell_type": "code",
   "execution_count": 59,
   "metadata": {},
   "outputs": [
    {
     "data": {
      "text/plain": [
       "array([5, 6])"
      ]
     },
     "execution_count": 59,
     "metadata": {},
     "output_type": "execute_result"
    }
   ],
   "source": [
    "a = np.array([0,2,3])\n",
    "b = np.array([0,2,5,6])\n",
    "np.array(list(set(b)-set(a)))"
   ]
  },
  {
   "cell_type": "code",
   "execution_count": 60,
   "metadata": {},
   "outputs": [
    {
     "data": {
      "text/plain": [
       "3"
      ]
     },
     "execution_count": 60,
     "metadata": {},
     "output_type": "execute_result"
    }
   ],
   "source": [
    "a[-1]"
   ]
  },
  {
   "cell_type": "markdown",
   "metadata": {},
   "source": [
    "## NOTE:\n",
    "1. set dtype when creat numpy \"array of strings\" to avoid truncation of strings\n",
    "Solve this by set \"dtype='U256'\" when create numpy array\n",
    "https://www.geeksforgeeks.org/modify-numpy-array-to-store-an-arbitrary-length-string/\n",
    "\n",
    "2. use np.copy to avoid changing value of original array"
   ]
  },
  {
   "cell_type": "code",
   "execution_count": 49,
   "metadata": {},
   "outputs": [
    {
     "name": "stdout",
     "output_type": "stream",
     "text": [
      "[[1, 2], None, None, None]\n"
     ]
    }
   ],
   "source": [
    "a = [None]*4\n",
    "a[0] = [1, 2]\n",
    "print(a)"
   ]
  },
  {
   "cell_type": "markdown",
   "metadata": {},
   "source": [
    "## slicing list\n",
    "https://stackoverflow.com/questions/646644/how-to-get-last-items-of-a-list-in-python\n",
    "* get n begin elements: list[:n]\n",
    "* get n last elements: list[-n:]"
   ]
  },
  {
   "cell_type": "code",
   "execution_count": 6,
   "metadata": {},
   "outputs": [
    {
     "data": {
      "text/plain": [
       "[4, 4]"
      ]
     },
     "execution_count": 6,
     "metadata": {},
     "output_type": "execute_result"
    }
   ],
   "source": [
    "a = [1,3,4,4]\n",
    "a[-2:]"
   ]
  },
  {
   "cell_type": "markdown",
   "metadata": {},
   "source": [
    "## Check empty list"
   ]
  },
  {
   "cell_type": "code",
   "execution_count": 4,
   "metadata": {},
   "outputs": [
    {
     "name": "stdout",
     "output_type": "stream",
     "text": [
      "True\n",
      "False\n"
     ]
    }
   ],
   "source": [
    "x=[]\n",
    "print(not(list(x)) )\n",
    "\n",
    "x=np.array([3,4])\n",
    "print( not(list(x)) )"
   ]
  },
  {
   "attachments": {},
   "cell_type": "markdown",
   "metadata": {},
   "source": [
    "[Return 2 lists from list comprehension](https://stackoverflow.com/questions/10479319/possible-to-return-two-lists-from-a-list-comprehension)"
   ]
  },
  {
   "cell_type": "code",
   "execution_count": 3,
   "metadata": {},
   "outputs": [
    {
     "data": {
      "text/plain": [
       "(0, 12, 24, 36)"
      ]
     },
     "execution_count": 3,
     "metadata": {},
     "output_type": "execute_result"
    }
   ],
   "source": [
    "rr,tt = zip(* [(i*10, i*12) for i in range(4)] )\n",
    "rr"
   ]
  },
  {
   "cell_type": "markdown",
   "metadata": {},
   "source": [
    "# II. Work with Numpy arrays\n",
    "## \"(*args, **kwargs)\": arguments and Keyword arguments\n",
    "https://www.digitalocean.com/community/tutorials/how-to-use-args-and-kwargs-in-python-3\n",
    "## convert numpy to list\n",
    "a.tolist()\n",
    "## detect empty use for both: list and array\n",
    "not(list(x))"
   ]
  },
  {
   "cell_type": "code",
   "execution_count": 2,
   "metadata": {},
   "outputs": [
    {
     "data": {
      "text/plain": [
       "array([ 0.5,  0.5, -1. ])"
      ]
     },
     "execution_count": 2,
     "metadata": {},
     "output_type": "execute_result"
    }
   ],
   "source": [
    "import numpy as np\n",
    "\n",
    "a = np.asarray([1, 1, -2])\n",
    "a/max(abs(a))"
   ]
  },
  {
   "cell_type": "code",
   "execution_count": 3,
   "metadata": {},
   "outputs": [
    {
     "data": {
      "text/plain": [
       "2.449489742783178"
      ]
     },
     "execution_count": 3,
     "metadata": {},
     "output_type": "execute_result"
    }
   ],
   "source": [
    "np.linalg .norm(a)"
   ]
  },
  {
   "cell_type": "markdown",
   "metadata": {},
   "source": [
    "## II.1 detect sign change\n",
    "https://stackoverflow.com/questions/2652368/how-to-detect-a-sign-change-for-elements-in-a-numpy-array"
   ]
  },
  {
   "cell_type": "code",
   "execution_count": 1,
   "metadata": {},
   "outputs": [
    {
     "data": {
      "image/png": "[encoded data removed]",
      "text/plain": [
       "<Figure size 432x288 with 1 Axes>"
      ]
     },
     "metadata": {
      "needs_background": "light"
     },
     "output_type": "display_data"
    }
   ],
   "source": [
    "import numpy as np\n",
    "import matplotlib.pyplot as plt\n",
    "x=np.arange(0,10,0.1)\n",
    "y=np.sin(x)\n",
    "plt.plot(x,y)\n",
    "plt.show()"
   ]
  },
  {
   "cell_type": "code",
   "execution_count": 31,
   "metadata": {},
   "outputs": [
    {
     "data": {
      "text/plain": [
       "array([16, 48, 79], dtype=int64)"
      ]
     },
     "execution_count": 31,
     "metadata": {},
     "output_type": "execute_result"
    }
   ],
   "source": [
    "a = np.gradient(y,x)\n",
    "# detect sign change\n",
    "idx = np.where( np.sign(a[:-1]) != np.sign(a[1:]) )[0] + 1\n",
    "idx"
   ]
  },
  {
   "cell_type": "code",
   "execution_count": 2,
   "metadata": {},
   "outputs": [
    {
     "data": {
      "text/plain": [
       "array([16, 48, 79], dtype=int64)"
      ]
     },
     "execution_count": 2,
     "metadata": {},
     "output_type": "execute_result"
    }
   ],
   "source": [
    "import sys, os, glob\n",
    "sys.path.append(\"D:\\work\\myCodes\\code_Python\")\n",
    "import thaTool \n",
    "thaTool.detectSignChange(y,x) "
   ]
  },
  {
   "cell_type": "markdown",
   "metadata": {},
   "source": [
    "# III. Code in more Pythonic Style\n",
    "## 1. Use generator (lazy evaluation)\n",
    "to save memory\n",
    "https://www.youtube.com/watch?v=bD05uGo_sVI\n",
    "\n",
    "https://www.programiz.com/python-programming/generator"
   ]
  },
  {
   "cell_type": "code",
   "execution_count": 1,
   "metadata": {},
   "outputs": [],
   "source": [
    "import sys, os, glob, time, random\n",
    "sys.path.append(\"D:\\work\\myCodes\\code_Python\")\n",
    "import thaTool \n",
    "import numpy as np\n",
    "%load_ext memory_profiler"
   ]
  },
  {
   "cell_type": "markdown",
   "metadata": {},
   "source": [
    "## Generator function"
   ]
  },
  {
   "cell_type": "code",
   "execution_count": 16,
   "metadata": {},
   "outputs": [
    {
     "ename": "SyntaxError",
     "evalue": "invalid syntax (<ipython-input-16-93c0caaeeb4e>, line 4)",
     "output_type": "error",
     "traceback": [
      "\u001b[1;36m  File \u001b[1;32m\"<ipython-input-16-93c0caaeeb4e>\"\u001b[1;36m, line \u001b[1;32m4\u001b[0m\n\u001b[1;33m    ...something here\u001b[0m\n\u001b[1;37m               ^\u001b[0m\n\u001b[1;31mSyntaxError\u001b[0m\u001b[1;31m:\u001b[0m invalid syntax\n"
     ]
    }
   ],
   "source": [
    "def people_list(num_people):\n",
    "    result = []\n",
    "    for i in range(num_people):\n",
    "        ...something here\n",
    "        result.append(person)\n",
    "    return result   # return a list \n",
    "\n",
    "def people_generator(num_people):\n",
    "    for i in range(num_people):\n",
    "        result[i] = ...something here\n",
    "        yield result[i] # return generator"
   ]
  },
  {
   "cell_type": "code",
   "execution_count": 3,
   "metadata": {},
   "outputs": [],
   "source": [
    "names = ['John', 'Corey', 'Adam', 'Steve', 'Rick', 'Thomas']\n",
    "majors = ['Math', 'Engineering', 'CompSci', 'Arts', 'Business']\n",
    "\n",
    "def people_list(num_people):\n",
    "    result = []\n",
    "    for i in range(num_people):\n",
    "        person = {\n",
    "                    'id': i,\n",
    "                    'name': random.choice(names),\n",
    "                    'major': random.choice(majors)\n",
    "                }\n",
    "        result.append(person)\n",
    "    return result\n",
    "\n",
    "def people_generator(num_people):\n",
    "    for i in range(num_people):\n",
    "        person = {\n",
    "                    'id': i,\n",
    "                    'name': random.choice(names),\n",
    "                    'major': random.choice(majors)\n",
    "                }\n",
    "        yield person"
   ]
  },
  {
   "cell_type": "code",
   "execution_count": 4,
   "metadata": {},
   "outputs": [
    {
     "name": "stdout",
     "output_type": "stream",
     "text": [
      "Memory (Before): 83.8125Mb\n",
      "Memory (After) : 370.68359375Mb\n",
      "Took 1.609375 Seconds\n"
     ]
    }
   ],
   "source": [
    "print( 'Memory (Before): {}Mb'.format(thaTool.memory_usage_psutil()) )\n",
    "\n",
    "t1 = time.process_time()\n",
    "people = people_list(1000000)\n",
    "t2 = time.process_time()\n",
    "\n",
    "# t1 = time.process_time()\n",
    "# people = people_generator(1000000)\n",
    "# t2 = time.process_time()\n",
    "\n",
    "print( 'Memory (After) : {}Mb'.format(thaTool.memory_usage_psutil()) )\n",
    "print( 'Took {} Seconds'.format(t2-t1) )"
   ]
  },
  {
   "cell_type": "code",
   "execution_count": 17,
   "metadata": {},
   "outputs": [
    {
     "name": "stdout",
     "output_type": "stream",
     "text": [
      "peak memory: 165.57 MiB, increment: 0.48 MiB\n"
     ]
    },
    {
     "name": "stderr",
     "output_type": "stream",
     "text": [
      "IOPub data rate exceeded.\n",
      "The Jupyter server will temporarily stop sending output\n",
      "to the client in order to avoid crashing it.\n",
      "To change this limit, set the config variable\n",
      "`--ServerApp.iopub_data_rate_limit`.\n",
      "\n",
      "Current values:\n",
      "ServerApp.iopub_data_rate_limit=1000000.0 (bytes/sec)\n",
      "ServerApp.rate_limit_window=3.0 (secs)\n",
      "\n"
     ]
    }
   ],
   "source": [
    "%memit\n",
    "people = people_list(1000000)\n",
    "print(people)"
   ]
  },
  {
   "cell_type": "code",
   "execution_count": 18,
   "metadata": {},
   "outputs": [
    {
     "name": "stdout",
     "output_type": "stream",
     "text": [
      "peak memory: 366.64 MiB, increment: 0.00 MiB\n",
      "<generator object people_generator at 0x000002201EF22E48>\n"
     ]
    }
   ],
   "source": [
    "%memit\n",
    "people = people_generator(1000000)\n",
    "print(people)"
   ]
  },
  {
   "cell_type": "markdown",
   "metadata": {},
   "source": [
    "## Generator list\n",
    "- comprehansion of list --> list\n",
    "- comprehansion of tuple --> generator"
   ]
  },
  {
   "cell_type": "code",
   "execution_count": 12,
   "metadata": {},
   "outputs": [
    {
     "name": "stdout",
     "output_type": "stream",
     "text": [
      "[1, 4, 9, 16, 25]\n"
     ]
    }
   ],
   "source": [
    "my_nums = [x*x for x in [1,2,3,4,5]]\n",
    "print (my_nums) "
   ]
  },
  {
   "cell_type": "code",
   "execution_count": 28,
   "metadata": {},
   "outputs": [
    {
     "name": "stdout",
     "output_type": "stream",
     "text": [
      "<generator object <genexpr> at 0x000002201EF43048>\n"
     ]
    }
   ],
   "source": [
    "my_gen = (x*x for x in [1,2,3,4,5])\n",
    "print (my_nums) "
   ]
  },
  {
   "cell_type": "markdown",
   "metadata": {},
   "source": [
    "## extract element from generator"
   ]
  },
  {
   "cell_type": "code",
   "execution_count": 22,
   "metadata": {},
   "outputs": [
    {
     "name": "stdout",
     "output_type": "stream",
     "text": [
      "[1, 4, 9, 16, 25]\n"
     ]
    }
   ],
   "source": [
    "print (list(my_nums) )"
   ]
  },
  {
   "cell_type": "code",
   "execution_count": 24,
   "metadata": {},
   "outputs": [
    {
     "name": "stdout",
     "output_type": "stream",
     "text": [
      "1\n",
      "4\n",
      "9\n",
      "16\n",
      "25\n"
     ]
    }
   ],
   "source": [
    "my_gen = (x*x for x in [1,2,3,4,5])\n",
    "for num in my_gen:           #for i,num in enumerate(my_gen):\n",
    "    print(num)"
   ]
  },
  {
   "cell_type": "markdown",
   "metadata": {},
   "source": [
    "## get an element from generator\n",
    "NOTE: GEN just can be used ONE-TIME, so this way can not be put in a loop"
   ]
  },
  {
   "cell_type": "code",
   "execution_count": 56,
   "metadata": {},
   "outputs": [
    {
     "data": {
      "text/plain": [
       "25"
      ]
     },
     "execution_count": 56,
     "metadata": {},
     "output_type": "execute_result"
    }
   ],
   "source": [
    "import itertools\n",
    "my_gen = (x*x for x in [1,2,3,4,5])   \n",
    "next(itertools.islice(my_gen, 4, None)) "
   ]
  },
  {
   "cell_type": "code",
   "execution_count": 69,
   "metadata": {},
   "outputs": [
    {
     "data": {
      "text/plain": [
       "25"
      ]
     },
     "execution_count": 69,
     "metadata": {},
     "output_type": "execute_result"
    }
   ],
   "source": [
    "my_gen = (x*x for x in [1,2,3,4,5])\n",
    "gen1 = my_gen\n",
    "[elem for i,elem in enumerate(my_gen) if i==4][0]"
   ]
  },
  {
   "cell_type": "code",
   "execution_count": 68,
   "metadata": {},
   "outputs": [
    {
     "ename": "IndexError",
     "evalue": "list index out of range",
     "output_type": "error",
     "traceback": [
      "\u001b[1;31m---------------------------------------------------------------------------\u001b[0m",
      "\u001b[1;31mIndexError\u001b[0m                                Traceback (most recent call last)",
      "\u001b[1;32m<ipython-input-68-19b858cea626>\u001b[0m in \u001b[0;36m<module>\u001b[1;34m\u001b[0m\n\u001b[1;32m----> 1\u001b[1;33m \u001b[1;33m[\u001b[0m\u001b[0melem\u001b[0m \u001b[1;32mfor\u001b[0m \u001b[0mi\u001b[0m\u001b[1;33m,\u001b[0m\u001b[0melem\u001b[0m \u001b[1;32min\u001b[0m \u001b[0menumerate\u001b[0m\u001b[1;33m(\u001b[0m\u001b[0mgen1\u001b[0m\u001b[1;33m)\u001b[0m \u001b[1;32mif\u001b[0m \u001b[0mi\u001b[0m\u001b[1;33m==\u001b[0m\u001b[1;36m4\u001b[0m\u001b[1;33m]\u001b[0m\u001b[1;33m[\u001b[0m\u001b[1;36m0\u001b[0m\u001b[1;33m]\u001b[0m\u001b[1;33m\u001b[0m\u001b[1;33m\u001b[0m\u001b[0m\n\u001b[0m",
      "\u001b[1;31mIndexError\u001b[0m: list index out of range"
     ]
    }
   ],
   "source": [
    "[elem for i,elem in enumerate(gen1) if i==4][0]"
   ]
  },
  {
   "cell_type": "code",
   "execution_count": 71,
   "metadata": {},
   "outputs": [
    {
     "data": {
      "text/plain": [
       "[]"
      ]
     },
     "execution_count": 71,
     "metadata": {},
     "output_type": "execute_result"
    }
   ],
   "source": [
    "list(gen1)"
   ]
  },
  {
   "cell_type": "markdown",
   "metadata": {},
   "source": [
    "## 2 generators at the same time\n",
    "- use zip(gen1,gen2)\n",
    "- NOTE: this work even different sizes"
   ]
  },
  {
   "cell_type": "code",
   "execution_count": 6,
   "metadata": {},
   "outputs": [
    {
     "name": "stdout",
     "output_type": "stream",
     "text": [
      "1 1\n",
      "2 4\n",
      "3 9\n",
      "4 16\n",
      "5 25\n",
      "6 36\n"
     ]
    }
   ],
   "source": [
    "gen1 = (x for x in [1,2,3,4,5,6])\n",
    "gen2 = (x*x for x in [1,2,3,4,5,6,7])\n",
    "for num1,num2 in zip(gen1,gen2):           #for i,num in enumerate(my_gen):\n",
    "    print(num1,num2)"
   ]
  },
  {
   "cell_type": "markdown",
   "metadata": {},
   "source": [
    "## III.2 Decorator\n",
    "https://www.programiz.com/python-programming/decorator"
   ]
  },
  {
   "cell_type": "markdown",
   "metadata": {},
   "source": [
    "## III.3 Tricks"
   ]
  },
  {
   "cell_type": "code",
   "execution_count": null,
   "metadata": {},
   "outputs": [],
   "source": [
    "if condition: \n",
    "    x=1\n",
    "else:\n",
    "    x=0\n",
    "    \n",
    "## USE\n",
    "x=1 if condition else x=0"
   ]
  },
  {
   "cell_type": "code",
   "execution_count": null,
   "metadata": {},
   "outputs": [],
   "source": [
    "fileID = open(fileName,'r')\n",
    "C = fileID.read().splitlines()              # a list of strings\n",
    "fileID.close() \n",
    "\n",
    "## USE:\n",
    "with open(fileName,'r') as fileID:\n",
    "    C = fileID.read().splitlines() "
   ]
  },
  {
   "cell_type": "code",
   "execution_count": null,
   "metadata": {},
   "outputs": [],
   "source": [
    "## Unpack\n",
    "a,b,*c,d = [2,3,5,4,4,6,7]"
   ]
  },
  {
   "cell_type": "markdown",
   "metadata": {},
   "source": [
    "## str.format() function\n",
    "https://www.geeksforgeeks.org/python-format-function/"
   ]
  },
  {
   "cell_type": "code",
   "execution_count": 2,
   "metadata": {},
   "outputs": [
    {
     "name": "stdout",
     "output_type": "stream",
     "text": [
      "GeeksforGeeks, A computer science portal for geeks.\n",
      "This article is written in Python\n",
      "Hello, I am 18 years old !\n"
     ]
    }
   ],
   "source": [
    "## Single Formatter: { }.format(value)\n",
    "# using format option in a simple string\n",
    "print (\"{}, A computer science portal for geeks.\".format(\"GeeksforGeeks\"))\n",
    "\n",
    "# value stored in a variable\n",
    "str = \"This article is written in {}\"\n",
    "print (str.format(\"Python\"))\n",
    " \n",
    "# formatting a string using a numeric constant\n",
    "print (\"Hello, I am {} years old !\".format(18))"
   ]
  },
  {
   "cell_type": "code",
   "execution_count": 5,
   "metadata": {},
   "outputs": [
    {
     "name": "stdout",
     "output_type": "stream",
     "text": [
      "GeeksforGeeks, is a computer science portal for geeks\n"
     ]
    }
   ],
   "source": [
    "## Multiple Formatters: { }{ }.format(value1, value2)\n",
    "my_string = \"{}, is a {} science portal for {}\"\n",
    "print (my_string.format(\"GeeksforGeeks\", \"computer\", \"geeks\"))"
   ]
  },
  {
   "cell_type": "code",
   "execution_count": 6,
   "metadata": {},
   "outputs": [
    {
     "name": "stdout",
     "output_type": "stream",
     "text": [
      "Geeks love GeeksforGeeks!!\n"
     ]
    }
   ],
   "source": [
    "# Reverse the index numbers with the parameters of the placeholders\n",
    "print(\"{1} love {0}!!\".format(\"GeeksforGeeks\",\n",
    "                                    \"Geeks\"))"
   ]
  },
  {
   "cell_type": "markdown",
   "metadata": {},
   "source": [
    "## Type Specifying :\n",
    "More parameters can be included within the curly braces of our syntax. Use the format code syntax {field_name: conversion}, where field_name specifies the index number of the argument to the str.format() method, and conversion refers to the conversion code of the data type."
   ]
  },
  {
   "cell_type": "code",
   "execution_count": 8,
   "metadata": {},
   "outputs": [
    {
     "name": "stdout",
     "output_type": "stream",
     "text": [
      "The temperature today is 35.57 degrees outside !\n"
     ]
    }
   ],
   "source": [
    "## {field_name:conversion}.format(value)\n",
    "print(\"The temperature today is {0:.2f} degrees outside !\".format(35.567))"
   ]
  },
  {
   "cell_type": "code",
   "execution_count": 9,
   "metadata": {},
   "outputs": [
    {
     "name": "stdout",
     "output_type": "stream",
     "text": [
      "The temperature today is 35.57 degrees outside !\n"
     ]
    }
   ],
   "source": [
    "print(\"The temperature today is {:.2f} degrees outside !\".format(35.567))"
   ]
  },
  {
   "cell_type": "code",
   "execution_count": 11,
   "metadata": {},
   "outputs": [
    {
     "name": "stdout",
     "output_type": "stream",
     "text": [
      "     2      4      8     16\n"
     ]
    }
   ],
   "source": [
    "i=2\n",
    "print(\"{:6d} {:6d} {:6d} {:6d}\" .format(i, i ** 2, i ** 3, i ** 4))"
   ]
  },
  {
   "cell_type": "code",
   "execution_count": null,
   "metadata": {},
   "outputs": [],
   "source": []
  }
 ],
 "metadata": {
  "kernelspec": {
   "display_name": "base",
   "language": "python",
   "name": "python3"
  },
  "language_info": {
   "codemirror_mode": {
    "name": "ipython",
    "version": 3
   },
   "file_extension": ".py",
   "mimetype": "text/x-python",
   "name": "python",
   "nbconvert_exporter": "python",
   "pygments_lexer": "ipython3",
   "version": "3.11.0"
  },
  "vscode": {
   "interpreter": {
    "hash": "2b6e7cfdce5ef245d32482b7f80393907c6182a3f3a40203474e09cb3d62b454"
   }
  }
 },
 "nbformat": 4,
 "nbformat_minor": 4
}
