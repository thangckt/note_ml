{
 "cells": [
  {
   "attachments": {},
   "cell_type": "markdown",
   "metadata": {},
   "source": [
    "# What is a neural network?\n",
    "\n",
    "The *deep* in deep learning means we have many layers in our neural networks. What is a neural network? Without loss of generality, we can view neural networks as 2 components: \n",
    "- (1) a nonlinear function $g(\\cdot)$ which operates on our input features $\\mathbf{X}$ and outputs a new set of features $\\mathbf{H} = g(\\mathbf{X})$ \n",
    "- and (2) a linear model like we saw in our {doc}`/1_1_ml_supervised_unsuppersives`. \n",
    "\n",
    "Our model equation for deep learning regression is:\n",
    "\n",
    "\\begin{equation}\n",
    "   \\hat{y} = \\vec{w}g(\\vec{x}) + b\n",
    "\\end{equation}\n",
    "\n",
    "One of the main discussion points in our ML chapters was how arcane and difficult it is to choose features. Here, we have replaced our features with a set of trainable features $g(\\vec{x})$ and then use the same linear model as before. So how do we design $g(\\vec{x})$? That is the deep learning part. $g(\\vec{x})$ is a differentiable function composed of **layers**, which are themselves differentiable functions each with trainable weights (free variables). Deep learning is a mature field and there is a set of standard layers, each with a different purpose. For example, convolution layers look at a fixed neighborhood around each element of an input tensor. Dropout layers randomly inactivate inputs as a form of regularization. The most commonly used and basic layer is the **dense** (or **fully-connected**) layer.\n",
    "\n",
    "```{margin}\n",
    "Dense means each input element affects each output element. At one point, sparse layers were popular and had a nice analogy with how a brain is connected. However, dense layers do not require deciding which input/output connections to make and sparse layers are very rare now (except incidentally sparse layers, like convolutions).\n",
    "```\n",
    "\n",
    "A dense layer is defined by two things: the desired output feature shape and the **activation**. The equation is:\n",
    "\n",
    "\\begin{equation}\n",
    "     \\vec{h} = \\sigma(\\mathbf{W}\\vec{x} + \\vec{b})\n",
    "\\end{equation}\n",
    "\n",
    "where $\\mathbf{W}$ is a trainable $D \\times F$ matrix, where $D$ is the input vector ($\\vec{x}$) dimension and $F$ is the output vector ($\\vec{h}$) dimension, $\\vec{b}$ is a trainable $F$ dimensional vector, and $\\sigma(\\cdot)$ is the activation function. $F$, the number of output features, is an example of a **hyperparameter**: it is not trainable but is a problem dependent choice. $\\sigma(\\cdot)$ is another hyperparameter. In principle, any differentiable function that has a domain of $(-\\infty, \\infty)$ can be used for activation. However, the function should be nonlinear. If it were linear, then stacking multiple dense layers would be equivalent to one-big matrix multiplication and we'd be back at linear regression. So activations should be nonlinear. Beyond nonlinearity, we typically want activations  that can \"turn on\" and \"off\". That is, they have an output value of zero for some domain of input values. Typically, the activation is zero, or close to, for negative inputs. \n",
    "\n",
    "The most simple activation function that has these two properties is the rectified linear unit (ReLU), which is \n",
    "\n",
    "$$\n",
    "\\sigma(x) = \\left\\{\\begin{array}{lr}\n",
    "x & x > 0\\\\\n",
    "0 & \\textrm{otherwise}\\\\\n",
    "\\end{array}\\right.\n",
    "$$\n",
    "\n",
    "## Universal Approximation Theorem\n",
    "\n",
    "One of the reasons that neural networks are a good choice at approximating unknown functions ($f(\\vec{x})$) is that a neural network can approximate any function with a large enough network depth (number of layers) or width (size of hidden layers). There are many variations of this theorem -- infinitely wide or infinitely deep neural networks. For example, any 1 dimensional function can be approximated by a depth 5 neural network with ReLU activation functions with infinitely wide layers (infinite hidden dimension) {cite}`lu2017expressive`. The universal approximation theorem shows that neural networks are, in the limit of large depth or width, expressive enough to fit any function.\n",
    "\n",
    "\n",
    "## Frameworks\n",
    "\n",
    "Deep learning has lots of \"gotchas\" -- easy to make mistakes that make it difficult to implement things yourself. This is especially true with numerical stability, which only reveals itself when your model fails to learn. We will move to a bit of a more abstract software framework than JAX for some examples. We'll use [Keras](https://keras.io/), which is one of many possible choices for deep learning frameworks. \n",
    "\n",
    "## Discussion\n",
    "\n",
    "When it comes to introducing deep learning, I will be as terse as possible. There are good learning resources out there. You should use some of the reading above and tutorials put out by Keras (or PyTorch) to get familiar with the concepts of neural networks and learning."
   ]
  },
  {
   "cell_type": "code",
   "execution_count": 1,
   "metadata": {},
   "outputs": [],
   "source": [
    "## set env\n",
    "import sys, re, os\n",
    "from pathlib  import Path\n",
    "dir_nb = Path(globals()['_dh'][0])  \n",
    "\n",
    "import tensorflow as tf\n",
    "import pandas as pd\n",
    "import numpy as np\n",
    "import matplotlib.pyplot as plt\n",
    "plt.style.use(str(dir_nb.parents[1]/\"code/light.mplstyle\"))\n",
    "\n",
    "import warnings\n",
    "warnings.filterwarnings(\"ignore\")"
   ]
  },
  {
   "attachments": {},
   "cell_type": "markdown",
   "metadata": {},
   "source": [
    "## Example model\n",
    "\n",
    "We'll see our first example of deep learning by revisiting the solubility dataset with a two layer dense neural network.\n",
    "\n",
    "### Load Data\n",
    "\n",
    "We download the data and load it into a [Pandas](https://pandas.pydata.org/) data frame and then standardize our features as before."
   ]
  },
  {
   "cell_type": "code",
   "execution_count": 2,
   "metadata": {},
   "outputs": [],
   "source": [
    "soldata = pd.read_csv( \"https://github.com/whitead/dmol-book/raw/main/data/curated-solubility-dataset.csv\")\n",
    "features_start_at = list(soldata.columns).index(\"MolWt\")\n",
    "feature_names = soldata.columns[features_start_at:]\n",
    "\n",
    "# standardize the features\n",
    "soldata[feature_names] -= soldata[feature_names].mean()\n",
    "soldata[feature_names] /= soldata[feature_names].std()"
   ]
  },
  {
   "attachments": {},
   "cell_type": "markdown",
   "metadata": {},
   "source": [
    "### Prepare Data for Keras\n",
    "\n",
    "The deep learning libraries simplify many common tasks, like splitting data and building layers. This code below builds our dataset from numpy arrays. "
   ]
  },
  {
   "cell_type": "code",
   "execution_count": 3,
   "metadata": {},
   "outputs": [],
   "source": [
    "full_data = tf.data.Dataset.from_tensor_slices( ( soldata[feature_names].values, soldata[\"Solubility\"].values ) ).shuffle(1000)\n",
    "N = len(soldata)\n",
    "test_N = int(0.1 * N)\n",
    "test_data = full_data.take(test_N).batch(16)\n",
    "train_data = full_data.skip(test_N).batch(16)"
   ]
  },
  {
   "attachments": {},
   "cell_type": "markdown",
   "metadata": {},
   "source": [
    "Notice that we used `skip` and `take` (See {obj}`tf.data.Dataset`) to split our dataset into two pieces and create batches of data.\n",
    "\n",
    "### Neural Network\n",
    "Now we build our neural network model. In this case, our $g(\\vec{x}) = \\sigma\\left(\\mathbf{W^0}\\vec{x} + \\vec{b}\\right)$. We will call the function $g(\\vec{x})$ a *hidden layer*. This is because we do not observe its output. Remember, the solubility will be $y = \\vec{w}g(\\vec{x}) + b$. We'll choose our activation, $\\sigma(\\cdot)$, to be tanh and the output dimension of the hidden-layer to be 32. The choice of tanh is empirical --- there are many choices of nonlinearity and they are typically chosen based on efficiency and empirical accuracy. You can read more about this Keras [API here](https://keras.io/guides/sequential_model/), however you should be able to understand the process from the function names and comments."
   ]
  },
  {
   "cell_type": "code",
   "execution_count": 4,
   "metadata": {},
   "outputs": [],
   "source": [
    "# our hidden layer\n",
    "# We only need to define the output dimension - 32.\n",
    "hidden_layer = tf.keras.layers.Dense(32, activation=\"tanh\")\n",
    "# Last layer - which we want to output one number the predicted solubility.\n",
    "output_layer = tf.keras.layers.Dense(1)\n",
    "\n",
    "# Now we put the layers into a sequential model\n",
    "model = tf.keras.Sequential()\n",
    "model.add(hidden_layer)\n",
    "model.add(output_layer)"
   ]
  },
  {
   "cell_type": "code",
   "execution_count": 5,
   "metadata": {},
   "outputs": [
    {
     "name": "stdout",
     "output_type": "stream",
     "text": [
      "WARNING:tensorflow:Layer dense is casting an input tensor from dtype float64 to the layer's dtype of float32, which is new behavior in TensorFlow 2.  The layer has dtype float32 because it's dtype defaults to floatx.\n",
      "\n",
      "If you intended to run this layer in float32, you can safely ignore this warning. If in doubt, this warning is likely only an issue if you are porting a TensorFlow 1.X model to TensorFlow 2.\n",
      "\n",
      "To change all layers to have dtype float64 by default, call `tf.keras.backend.set_floatx('float64')`. To change just this layer, pass dtype='float64' to the layer constructor. If you are the author of this layer, you can disable autocasting by passing autocast=False to the base Layer constructor.\n",
      "\n"
     ]
    },
    {
     "data": {
      "text/plain": [
       "<tf.Tensor: shape=(3, 1), dtype=float32, numpy=\n",
       "array([[0.5056977 ],\n",
       "       [0.53691995],\n",
       "       [0.20474845]], dtype=float32)>"
      ]
     },
     "execution_count": 5,
     "metadata": {},
     "output_type": "execute_result"
    }
   ],
   "source": [
    "# our model is complete\n",
    "# Try out our model on first few datapoints\n",
    "model(soldata[feature_names].values[:3])"
   ]
  },
  {
   "cell_type": "markdown",
   "metadata": {},
   "source": [
    "```{margin} Jax vs Keras\n",
    "We could have implemented this in Jax, but it would\n",
    "have been a few more lines of code. To keep the focus high level, \n",
    "I've used Keras for this chapter.\n",
    "```\n",
    "\n",
    "We can see our model predicting the solubility for 3 molecules above. There may be a warning about how our Pandas data is using float64 (double precision floating point numbers) but our model is using float32 (single precision), which doesn't matter that much. It warns us because we are technically throwing out a little bit of precision, but our solubility has much more variance than the difference between 32 and 64 bit precision floating point numbers. We can remove this warning by modifying the last line to be:\n",
    "\n",
    "```py\n",
    "model(soldata[feature_names].values[:3].astype(float))\n",
    "```\n",
    "\n",
    "At this point, we've defined how our model structure should work and it can be called on data. Now we need to train it! We prepare the model for training by calling {obj}`model.compile<tf.keras.Model>`, which is where we define our optimization (typically a flavor of stochastic gradient descent) and loss"
   ]
  },
  {
   "cell_type": "code",
   "execution_count": 6,
   "metadata": {},
   "outputs": [],
   "source": [
    "model.compile(optimizer=\"SGD\", loss=\"mean_squared_error\")"
   ]
  },
  {
   "cell_type": "markdown",
   "metadata": {},
   "source": [
    "Look back to the amount of work it took to previously set-up loss and optimization process! Now we can train our model"
   ]
  },
  {
   "cell_type": "code",
   "execution_count": 7,
   "metadata": {
    "tags": [
     "remove-output"
    ]
   },
   "outputs": [
    {
     "name": "stdout",
     "output_type": "stream",
     "text": [
      "Train for 562 steps\n",
      "Epoch 1/50\n",
      "562/562 [==============================] - 1s 1ms/step - loss: 2.2192\n",
      "Epoch 2/50\n",
      "562/562 [==============================] - 0s 732us/step - loss: 1.7783\n",
      "Epoch 3/50\n",
      "562/562 [==============================] - 0s 745us/step - loss: 1.6714\n",
      "Epoch 4/50\n",
      "562/562 [==============================] - 0s 696us/step - loss: 1.5818\n",
      "Epoch 5/50\n",
      "562/562 [==============================] - 0s 728us/step - loss: 1.5503\n",
      "Epoch 6/50\n",
      "562/562 [==============================] - 0s 743us/step - loss: 1.5198\n",
      "Epoch 7/50\n",
      "562/562 [==============================] - 0s 776us/step - loss: 1.4744\n",
      "Epoch 8/50\n",
      "562/562 [==============================] - 0s 723us/step - loss: 1.4667\n",
      "Epoch 9/50\n",
      "562/562 [==============================] - 0s 701us/step - loss: 1.4570\n",
      "Epoch 10/50\n",
      "562/562 [==============================] - 0s 757us/step - loss: 1.4336\n",
      "Epoch 11/50\n",
      "562/562 [==============================] - 0s 728us/step - loss: 1.4395\n",
      "Epoch 12/50\n",
      "562/562 [==============================] - 0s 765us/step - loss: 1.4254\n",
      "Epoch 13/50\n",
      "562/562 [==============================] - 0s 753us/step - loss: 1.3970\n",
      "Epoch 14/50\n",
      "562/562 [==============================] - 0s 748us/step - loss: 1.3903\n",
      "Epoch 15/50\n",
      "562/562 [==============================] - 0s 750us/step - loss: 1.4100\n",
      "Epoch 16/50\n",
      "562/562 [==============================] - 0s 759us/step - loss: 1.4047\n",
      "Epoch 17/50\n",
      "562/562 [==============================] - 0s 711us/step - loss: 1.3958\n",
      "Epoch 18/50\n",
      "562/562 [==============================] - 0s 776us/step - loss: 1.3979\n",
      "Epoch 19/50\n",
      "562/562 [==============================] - 0s 715us/step - loss: 1.3744\n",
      "Epoch 20/50\n",
      "562/562 [==============================] - 0s 731us/step - loss: 1.3654\n",
      "Epoch 21/50\n",
      "562/562 [==============================] - 0s 745us/step - loss: 1.3711\n",
      "Epoch 22/50\n",
      "562/562 [==============================] - 0s 775us/step - loss: 1.3722\n",
      "Epoch 23/50\n",
      "562/562 [==============================] - 0s 746us/step - loss: 1.3858\n",
      "Epoch 24/50\n",
      "562/562 [==============================] - 0s 739us/step - loss: 1.3608\n",
      "Epoch 25/50\n",
      "562/562 [==============================] - 0s 744us/step - loss: 1.3188\n",
      "Epoch 26/50\n",
      "562/562 [==============================] - 0s 716us/step - loss: 1.3470\n",
      "Epoch 27/50\n",
      "562/562 [==============================] - 0s 735us/step - loss: 1.3250\n",
      "Epoch 28/50\n",
      "562/562 [==============================] - 0s 751us/step - loss: 1.3449\n",
      "Epoch 29/50\n",
      "562/562 [==============================] - 0s 756us/step - loss: 1.3356\n",
      "Epoch 30/50\n",
      "562/562 [==============================] - 0s 733us/step - loss: 1.3387\n",
      "Epoch 31/50\n",
      "562/562 [==============================] - 0s 727us/step - loss: 1.3142\n",
      "Epoch 32/50\n",
      "562/562 [==============================] - 0s 780us/step - loss: 1.3136\n",
      "Epoch 33/50\n",
      "562/562 [==============================] - 0s 744us/step - loss: 1.3093\n",
      "Epoch 34/50\n",
      "562/562 [==============================] - 0s 744us/step - loss: 1.3003\n",
      "Epoch 35/50\n",
      "562/562 [==============================] - 0s 745us/step - loss: 1.3017\n",
      "Epoch 36/50\n",
      "562/562 [==============================] - 0s 721us/step - loss: 1.3063\n",
      "Epoch 37/50\n",
      "562/562 [==============================] - 0s 783us/step - loss: 1.3166\n",
      "Epoch 38/50\n",
      "562/562 [==============================] - 0s 769us/step - loss: 1.3138\n",
      "Epoch 39/50\n",
      "562/562 [==============================] - 0s 737us/step - loss: 1.3029\n",
      "Epoch 40/50\n",
      "562/562 [==============================] - 0s 743us/step - loss: 1.3116\n",
      "Epoch 41/50\n",
      "562/562 [==============================] - 0s 734us/step - loss: 1.2975\n",
      "Epoch 42/50\n",
      "562/562 [==============================] - 0s 754us/step - loss: 1.2994\n",
      "Epoch 43/50\n",
      "562/562 [==============================] - 0s 759us/step - loss: 1.2822\n",
      "Epoch 44/50\n",
      "562/562 [==============================] - 0s 736us/step - loss: 1.2819\n",
      "Epoch 45/50\n",
      "562/562 [==============================] - 0s 732us/step - loss: 1.2906\n",
      "Epoch 46/50\n",
      "562/562 [==============================] - 0s 747us/step - loss: 1.2754\n",
      "Epoch 47/50\n",
      "562/562 [==============================] - 0s 739us/step - loss: 1.2543\n",
      "Epoch 48/50\n",
      "562/562 [==============================] - 0s 735us/step - loss: 1.2622\n",
      "Epoch 49/50\n",
      "562/562 [==============================] - 0s 744us/step - loss: 1.2885\n",
      "Epoch 50/50\n",
      "562/562 [==============================] - 0s 728us/step - loss: 1.2592\n"
     ]
    },
    {
     "data": {
      "text/plain": [
       "<tensorflow.python.keras.callbacks.History at 0x18cf342e8c8>"
      ]
     },
     "execution_count": 7,
     "metadata": {},
     "output_type": "execute_result"
    }
   ],
   "source": [
    "model.fit(train_data, epochs=50)"
   ]
  },
  {
   "cell_type": "markdown",
   "metadata": {},
   "source": [
    "That was quite simple!\n",
    "\n",
    "```{margin}\n",
    "An epoch is one iteration over the whole dataset, regardless of batch size.\n",
    "```\n",
    "\n",
    "For reference, we got a loss about as low as 3 in our previous work. It was also much faster, thanks to the optimizations. Now let's see how our model did on the test data"
   ]
  },
  {
   "cell_type": "code",
   "execution_count": 8,
   "metadata": {
    "tags": [
     "remove-output"
    ]
   },
   "outputs": [],
   "source": [
    "# get model predictions on test data and get labels\n",
    "# squeeze to remove extra dimensions\n",
    "yhat = np.squeeze(model.predict(test_data))\n",
    "test_y = soldata[\"Solubility\"].values[:test_N]"
   ]
  },
  {
   "cell_type": "code",
   "execution_count": 12,
   "metadata": {},
   "outputs": [
    {
     "data": {
      "image/png": "[encoded data removed]",
      "text/plain": [
       "<Figure size 438.75x351 with 1 Axes>"
      ]
     },
     "metadata": {},
     "output_type": "display_data"
    }
   ],
   "source": [
    "plt.plot(test_y, yhat, \".\")\n",
    "plt.plot(test_y, test_y, \"-\")\n",
    "plt.xlabel(\"Measured Solubility $y$\")\n",
    "plt.ylabel(\"Predicted Solubility $\\hat{y}$\")\n",
    "plt.text( min(test_y) + 1,  max(test_y) + 2,   f\"correlation = {np.corrcoef(test_y, yhat)[0,1]:.3f}\",)\n",
    "plt.text( min(test_y) + 1,  max(test_y) + 1,   f\"loss = {np.sqrt(np.mean((test_y - yhat)**2)):.3f}\",)\n",
    "plt.show()"
   ]
  },
  {
   "cell_type": "markdown",
   "metadata": {},
   "source": [
    "This performance is better than our simple linear model."
   ]
  },
  {
   "cell_type": "markdown",
   "metadata": {},
   "source": [
    "## Exercises\n",
    "\n",
    "1. Make a plot of the ReLU function. Prove it is nonlinear.\n",
    "2. Try increasing the number of layers in the neural network. Discuss what you see in context of the bias-variance trade off\n",
    "3. Show that a neural network would be equivalent to linear regression if $\\sigma(\\cdot)$ was the identity function\n",
    "4. What are the advantages and disadvantages of using deep learning instead of nonlinear regression for fitting data? When might you choose nonlinear regression over deep learning?"
   ]
  },
  {
   "cell_type": "markdown",
   "metadata": {},
   "source": [
    "## Chapter Summary\n",
    "\n",
    "* Deep learning is a category of machine learning that utilizes neural networks for classification and regression of data. \n",
    "* Neural networks are a series of operations with matrices of adjustable parameters. \n",
    "* A neural network transforms input features into a new set of features that can be subsequently used for regression or classification.\n",
    "* The most common layer is the dense layer. Each input element affects each output element. It is defined by the desired output feature shape and the activation function.\n",
    "* With enough layers or wide enough hidden layers, neural networks can approximate unknown functions. \n",
    "* Hidden layers are called such because we do not observe the output from one. \n",
    "* Using libraries such as TensorFlow, it becomes easy to split data into training and testing, but also to build layers in the neural network. \n",
    "* Building a neural network allows us to predict various properties of molecules, such as solubility. "
   ]
  },
  {
   "attachments": {},
   "cell_type": "markdown",
   "metadata": {},
   "source": [
    "## References\n",
    "\n",
    "```{bibliography}\n",
    ":style: unsrtalpha\n",
    ":filter: docname in docnames\n",
    "```"
   ]
  }
 ],
 "metadata": {
  "celltoolbar": "Tags",
  "kernelspec": {
   "display_name": "base",
   "language": "python",
   "name": "python3"
  },
  "language_info": {
   "codemirror_mode": {
    "name": "ipython",
    "version": 3
   },
   "file_extension": ".py",
   "mimetype": "text/x-python",
   "name": "python",
   "nbconvert_exporter": "python",
   "pygments_lexer": "ipython3",
   "version": "3.11.0 | packaged by conda-forge | (main, Oct 25 2022, 06:12:32) [MSC v.1929 64 bit (AMD64)]"
  },
  "vscode": {
   "interpreter": {
    "hash": "2b6e7cfdce5ef245d32482b7f80393907c6182a3f3a40203474e09cb3d62b454"
   }
  }
 },
 "nbformat": 4,
 "nbformat_minor": 4
}
