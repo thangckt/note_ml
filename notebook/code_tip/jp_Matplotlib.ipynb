{
 "cells": [
  {
   "cell_type": "markdown",
   "metadata": {},
   "source": [
    "# Tips to use Matplotlib\n",
    "\n",
    "## 1. ## Zoom figure matplotlib\n",
    "conda install -y nodejs <br>\n",
    "pip install --upgrade jupyterlab<br>\n",
    "jupyter labextension install @jupyter-widgets/jupyterlab-manager <br>\n",
    "jupyter labextension install jupyter-matplotlib <br>\n",
    "jupyter nbextension enable --py widgetsnbextension <br>\n",
    "## Or use magic command: \n",
    "%matplotlib \n",
    "%matplotlib inline"
   ]
  },
  {
   "cell_type": "code",
   "execution_count": null,
   "metadata": {},
   "outputs": [],
   "source": []
  }
 ],
 "metadata": {
  "kernelspec": {
   "display_name": "Python 3 (ipykernel)",
   "language": "python",
   "name": "python3"
  },
  "language_info": {
   "codemirror_mode": {
    "name": "ipython",
    "version": 3
   },
   "file_extension": ".py",
   "mimetype": "text/x-python",
   "name": "python",
   "nbconvert_exporter": "python",
   "pygments_lexer": "ipython3",
   "version": "3.7.13"
  }
 },
 "nbformat": 4,
 "nbformat_minor": 4
}
