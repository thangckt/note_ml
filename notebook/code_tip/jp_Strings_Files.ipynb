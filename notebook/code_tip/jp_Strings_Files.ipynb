{
 "cells": [
  {
   "cell_type": "code",
   "execution_count": null,
   "metadata": {},
   "outputs": [],
   "source": [
    "## Save ipynb's DIR & change working folder\n",
    "if not 'workbookDIR' in globals(): workbookDIR = os.getcwd()     \n",
    "os.chdir(workbookDIR)"
   ]
  },
  {
   "cell_type": "markdown",
   "metadata": {},
   "source": [
    "# work with File Names\n",
    "\n",
    "\n",
    "## 1. Search strings in file name\n",
    "re module\n",
    "https://docs.python.org/3/library/re.html\n",
    "\n",
    "'a.+b'  match any digit between 'a' and 'b' in input string\n",
    "'\\d+'   match any integer digit in input string"
   ]
  },
  {
   "cell_type": "code",
   "execution_count": 1,
   "metadata": {},
   "outputs": [
    {
     "name": "stdout",
     "output_type": "stream",
     "text": [
      "<_sre.SRE_Match object; span=(3, 9), match='_K300_'>\n",
      "_K300_\n"
     ]
    }
   ],
   "source": [
    "import re\n",
    "\n",
    "name= 'xxx_K300_dd.txt'\n",
    "# extract Temperature from file name\n",
    "subString = re.search('_K.+_', name);\n",
    "\n",
    "print(subString)\n",
    "print(subString[0])"
   ]
  },
  {
   "cell_type": "code",
   "execution_count": 8,
   "metadata": {},
   "outputs": [
    {
     "name": "stdout",
     "output_type": "stream",
     "text": [
      "300.0\n"
     ]
    }
   ],
   "source": [
    "Temp= float(re.search('\\d+', subString[0])[0])\n",
    "print(Temp)"
   ]
  },
  {
   "cell_type": "code",
   "execution_count": 2,
   "metadata": {},
   "outputs": [
    {
     "name": "stdout",
     "output_type": "stream",
     "text": [
      "<_sre.SRE_Match object; span=(3, 8), match='_300K'>\n",
      "False\n",
      "_300K\n"
     ]
    }
   ],
   "source": [
    "name= 'xxx_300K.txt'\n",
    "# extract Temperature from file name\n",
    "subString = re.search('_.+K', name);\n",
    "\n",
    "print(subString)\n",
    "print(subString==None)\n",
    "print(subString[0])"
   ]
  },
  {
   "cell_type": "code",
   "execution_count": 12,
   "metadata": {},
   "outputs": [
    {
     "name": "stdout",
     "output_type": "stream",
     "text": [
      "300.0\n"
     ]
    }
   ],
   "source": [
    "Temp= float(re.search('\\d+', subString[0])[0])\n",
    "print(Temp)"
   ]
  },
  {
   "cell_type": "code",
   "execution_count": 1,
   "metadata": {},
   "outputs": [
    {
     "name": "stdout",
     "output_type": "stream",
     "text": [
      "Subset_30\n",
      "<class 'str'>\n"
     ]
    }
   ],
   "source": [
    "import re\n",
    "a=\"Grid_5x5_Reduced_25_Data1000configs_20191103_Subset_30.txt\"\n",
    "subString = re.search('Subset_\\d+', a) \n",
    "print(subString.group(0))\n",
    "print(type(subString.group(0)))"
   ]
  },
  {
   "cell_type": "code",
   "execution_count": 2,
   "metadata": {},
   "outputs": [
    {
     "name": "stdout",
     "output_type": "stream",
     "text": [
      "Grid_8x8_Reduced_16_Data1000configs_2019-11-01_Subset_6\n"
     ]
    }
   ],
   "source": [
    "a='Grid_8x8_Reduced_16_Data1000configs_2019-11-01_Subset_6.txt'\n",
    "print(a.replace('.txt',''))"
   ]
  },
  {
   "cell_type": "markdown",
   "metadata": {},
   "source": [
    "## Python 2 problem\n",
    "in python 2, cannot access result string with subString[0]. must use subString.group(0)"
   ]
  },
  {
   "cell_type": "code",
   "execution_count": 5,
   "metadata": {},
   "outputs": [
    {
     "name": "stdout",
     "output_type": "stream",
     "text": [
      "300.0\n"
     ]
    }
   ],
   "source": [
    "name= 'xxx_300K.txt'\n",
    "# extract Temperature from file name\n",
    "subString = re.search('_.+K', name)\n",
    "Temp= float(re.search('\\d+', subString.group(0)).group(0))\n",
    "print(Temp)"
   ]
  },
  {
   "cell_type": "markdown",
   "metadata": {},
   "source": [
    "## if not found"
   ]
  },
  {
   "cell_type": "code",
   "execution_count": 6,
   "metadata": {},
   "outputs": [
    {
     "name": "stdout",
     "output_type": "stream",
     "text": [
      "True\n"
     ]
    }
   ],
   "source": [
    "name= 'xxx_300.txt'\n",
    "# extract Temperature from file name\n",
    "subString = re.search('_.+K', name);\n",
    "\n",
    "print(subString==None)\n",
    "# print(subString[0])"
   ]
  },
  {
   "cell_type": "markdown",
   "metadata": {},
   "source": [
    "## 2. glob module \n",
    "https://docs.python.org/3/library/glob.html"
   ]
  },
  {
   "cell_type": "code",
   "execution_count": 2,
   "metadata": {},
   "outputs": [
    {
     "name": "stdout",
     "output_type": "stream",
     "text": [
      "[]\n"
     ]
    }
   ],
   "source": [
    "import numpy as np \n",
    "a = np.asarray([])\n",
    "print(a)"
   ]
  },
  {
   "cell_type": "code",
   "execution_count": 6,
   "metadata": {},
   "outputs": [
    {
     "name": "stdout",
     "output_type": "stream",
     "text": [
      "empty\n"
     ]
    },
    {
     "name": "stderr",
     "output_type": "stream",
     "text": [
      "c:\\devprogram\\python37\\lib\\site-packages\\ipykernel_launcher.py:1: DeprecationWarning: The truth value of an empty array is ambiguous. Returning False, but in future this will result in an error. Use `array.size > 0` to check that an array is not empty.\n",
      "  \"\"\"Entry point for launching an IPython kernel.\n"
     ]
    }
   ],
   "source": [
    "if not a: print(\"empty\")"
   ]
  },
  {
   "cell_type": "markdown",
   "metadata": {},
   "source": [
    "$ x = b \\rho $"
   ]
  },
  {
   "cell_type": "code",
   "execution_count": 2,
   "metadata": {},
   "outputs": [],
   "source": [
    "import numpy as np"
   ]
  },
  {
   "cell_type": "code",
   "execution_count": 7,
   "metadata": {},
   "outputs": [
    {
     "name": "stdout",
     "output_type": "stream",
     "text": [
      "[0, 1, 2, 3, 4]\n",
      "[0 1 2 3 4]\n"
     ]
    }
   ],
   "source": [
    "a = list(range(5))\n",
    "print(a)\n",
    "b = np.arange(5)\n",
    "print(b)"
   ]
  },
  {
   "cell_type": "code",
   "execution_count": 8,
   "metadata": {},
   "outputs": [
    {
     "name": "stdout",
     "output_type": "stream",
     "text": [
      "[2, [0, 1, 2, 3, 4]]\n"
     ]
    }
   ],
   "source": [
    "c = [2, a]\n",
    "print(c)"
   ]
  },
  {
   "cell_type": "code",
   "execution_count": 10,
   "metadata": {},
   "outputs": [
    {
     "data": {
      "text/plain": [
       "array([5, 0, 1, 2, 3, 4])"
      ]
     },
     "execution_count": 10,
     "metadata": {},
     "output_type": "execute_result"
    }
   ],
   "source": [
    "np.insert(b, 0, 5, axis=0)"
   ]
  },
  {
   "cell_type": "code",
   "execution_count": 4,
   "metadata": {},
   "outputs": [
    {
     "name": "stdout",
     "output_type": "stream",
     "text": [
      "1\n",
      "2\n",
      "3\n",
      "4\n"
     ]
    }
   ],
   "source": [
    "for i in range(1,5):\n",
    "    print(i)"
   ]
  },
  {
   "cell_type": "code",
   "execution_count": 8,
   "metadata": {},
   "outputs": [],
   "source": [
    "a=np.loadtxt('Helmholtz_ASpath_Solid_100K.dat',ndmin=2)"
   ]
  },
  {
   "cell_type": "code",
   "execution_count": 9,
   "metadata": {},
   "outputs": [
    {
     "data": {
      "text/plain": [
       "array([[ 1.00000000e+02, -3.33698295e+00, -2.94576400e-11],\n",
       "       [ 1.00000000e+02, -3.34935982e+00, -4.62635700e-11],\n",
       "       [ 1.00000000e+02, -3.34039947e+00, -2.05046500e-11],\n",
       "       [ 1.00000000e+02, -3.33515905e+00, -2.63748000e-11],\n",
       "       [ 1.00000000e+02, -3.33144022e+00, -2.35252600e-11],\n",
       "       [ 1.00000000e+02, -3.32855619e+00, -3.06199000e-11]])"
      ]
     },
     "execution_count": 9,
     "metadata": {},
     "output_type": "execute_result"
    }
   ],
   "source": [
    "a"
   ]
  },
  {
   "cell_type": "code",
   "execution_count": null,
   "metadata": {},
   "outputs": [],
   "source": []
  },
  {
   "cell_type": "markdown",
   "metadata": {},
   "source": [
    "# New style of string Format\n",
    "https://pyformat.info/\n",
    "## repeat format\n",
    "put numbers in a \"tuple\" to print"
   ]
  },
  {
   "cell_type": "code",
   "execution_count": null,
   "metadata": {},
   "outputs": [],
   "source": [
    "## Interpolate Energy as a specific Temperature\n",
    "sol_temp = 100, 900, 880\n",
    "liq_temp = 1300, 900, 880\n",
    "yinter1 = np.interp(sol_temp, RSsol['Temperature'], RSsol['Fave'])\n",
    "yinter2 = np.interp(liq_temp, RSliq['Temperature'][::-1], RSliq['Fave'][::-1])    # note: np.interp only work as xp is increasing, a[::-1] reverse order of array\n",
    "String = 'meltingPoint '+ 'enSolid_%i '*len(sol_temp) +'enLiquid_%i '*len(liq_temp) +'\\n\\n' +'%.6f '*(1+len(sol_temp)+len(liq_temp))\n",
    "print(String  % tuple( np.hstack((sol_temp, liq_temp, meltingPoint, yinter1, yinter2)) ) )"
   ]
  },
  {
   "cell_type": "markdown",
   "metadata": {},
   "source": [
    "# list of all subdirectories in the current directory\n",
    "https://stackoverflow.com/questions/973473/getting-a-list-of-all-subdirectories-in-the-current-directory"
   ]
  },
  {
   "cell_type": "code",
   "execution_count": 5,
   "metadata": {},
   "outputs": [],
   "source": [
    "import os,glob\n",
    "directory = os.getcwd() \n",
    "root = [x[0] for x in os.walk(directory)]\n",
    "dirs = [x[1] for x in os.walk(directory)]\n",
    "files= [x[2] for x in os.walk(directory)]"
   ]
  },
  {
   "cell_type": "code",
   "execution_count": 28,
   "metadata": {},
   "outputs": [],
   "source": [
    "# dirs"
   ]
  },
  {
   "cell_type": "code",
   "execution_count": 29,
   "metadata": {},
   "outputs": [
    {
     "data": {
      "text/plain": [
       "['#Machine_Learning',\n",
       " '.ipynb_checkpoints',\n",
       " 'Add_Atom_Periodic',\n",
       " 'ComputeTI',\n",
       " 'Compute_on_1DumpFile',\n",
       " 'Crystals_Models',\n",
       " 'find_Neighbors_SliceBox',\n",
       " 'find_Roots_fitting',\n",
       " 'FreeEnergy_calculation',\n",
       " 'Generate_EAM_tabular',\n",
       " 'Histrogram_matplotlib',\n",
       " 'localDensity_Voronoi_surfaceDetect',\n",
       " 'LocalStressTensor_KEtensor',\n",
       " 'Local_Order_Parameter',\n",
       " 'Ovito_Interpreter',\n",
       " 'Plumed_PYCV',\n",
       " 'readWriteData',\n",
       " 'RotationMatrix_DirectionalCosine',\n",
       " 'Save_Memory',\n",
       " 'test_MPI']"
      ]
     },
     "execution_count": 29,
     "metadata": {},
     "output_type": "execute_result"
    }
   ],
   "source": [
    "# subfolders = [ f.path for f in os.scandir(directory) if f.is_dir() ]\n",
    "subfolders = [ f.name for f in os.scandir(directory) if f.is_dir() ]\n",
    "subfolders"
   ]
  },
  {
   "cell_type": "markdown",
   "metadata": {},
   "source": [
    "# use glob:  \n",
    "https://stackoverflow.com/questions/14798220/how-can-i-search-sub-folders-using-glob-glob-module <br>\n",
    "There's a lot of confusion on this topic. Let me see if I can clarify it (Python 3.7):\n",
    "\n",
    "  1.  glob.glob('*.txt')                  :matches all files ending in '.txt' in current directory\n",
    "  2.  glob.glob('*/*.txt')                :same as 1\n",
    "  3.  glob.glob('**/*.txt')               :matches all files ending in '.txt' in the immediate subdirectories only, but not in the current directory\n",
    "  4.  glob.glob('*.txt',recursive=True)   :same as 1\n",
    "  5.  glob.glob('*/*.txt',recursive=True) :same as 3\n",
    "  6.  glob.glob('**/*.txt',recursive=True):matches all files ending in '.txt' in the current directory and in all subdirectories\n",
    "  7.  glob.glob(\"*/\")    to return only directories.\n",
    "So it's best to always specify recursive=True.\n",
    "https://stackoverflow.com/questions/6773584/how-is-pythons-glob-glob-ordered"
   ]
  },
  {
   "cell_type": "code",
   "execution_count": 35,
   "metadata": {},
   "outputs": [
    {
     "name": "stdout",
     "output_type": "stream",
     "text": [
      "['ComputeTI\\\\', 'Compute_on_1DumpFile\\\\', 'Crystals_Models\\\\']\n",
      "[['ComputeTI\\\\TI for Bulk Liquid\\\\mySetting.txt', 'ComputeTI\\\\TI for PLATE\\\\molecular_Pressure_100K.txt'], [], []]\n"
     ]
    }
   ],
   "source": [
    "import os,glob\n",
    "subDirs = glob.glob( \"c*/\" )\n",
    "# subDirs = [elem.replace('\\\\','') for elem in  glob.glob( \"c*/\" )]\n",
    "print(subDirs)\n",
    "files = [glob.glob(myDir +\"**/*.txt\", recursive=True) for myDir in subDirs]\n",
    "print(files)"
   ]
  },
  {
   "cell_type": "code",
   "execution_count": 21,
   "metadata": {},
   "outputs": [
    {
     "data": {
      "text/plain": [
       "['D:\\\\work\\\\Tool_codes\\\\Tools_Python\\\\#JupyNotebooks\\\\ComputeTI\\\\TI for Bulk Liquid\\\\mySetting.txt',\n",
       " 'D:\\\\work\\\\Tool_codes\\\\Tools_Python\\\\#JupyNotebooks\\\\ComputeTI\\\\TI for Bulk Liquid\\\\ask_Rodolfo_012020\\\\mySetting.txt',\n",
       " 'D:\\\\work\\\\Tool_codes\\\\Tools_Python\\\\#JupyNotebooks\\\\ComputeTI\\\\TI for PLATE\\\\molecular_Pressure_100K.txt',\n",
       " 'D:\\\\work\\\\Tool_codes\\\\Tools_Python\\\\#JupyNotebooks\\\\LocalStressTensor_KEtensor\\\\kineticTensor_Sheng11_Plate_Al_z001_20x20x20_850K.txt',\n",
       " 'D:\\\\work\\\\Tool_codes\\\\Tools_Python\\\\#JupyNotebooks\\\\Ovito_Interpreter\\\\avesro.txt',\n",
       " 'D:\\\\work\\\\Tool_codes\\\\Tools_Python\\\\#JupyNotebooks\\\\Ovito_Interpreter\\\\test_ClusterAnalysis.txt',\n",
       " 'D:\\\\work\\\\Tool_codes\\\\Tools_Python\\\\#JupyNotebooks\\\\Ovito_Interpreter\\\\test_cluster_sizes.txt',\n",
       " 'D:\\\\work\\\\Tool_codes\\\\Tools_Python\\\\#JupyNotebooks\\\\readWriteData\\\\testWrite.txt',\n",
       " 'D:\\\\work\\\\Tool_codes\\\\Tools_Python\\\\#JupyNotebooks\\\\readWriteData\\\\lammps_Simu\\\\kEinstein.txt',\n",
       " 'D:\\\\work\\\\Tool_codes\\\\Tools_Python\\\\#JupyNotebooks\\\\readWriteData\\\\lammps_Simu\\\\myRDF_1Frame.txt',\n",
       " 'D:\\\\work\\\\Tool_codes\\\\Tools_Python\\\\#JupyNotebooks\\\\readWriteData\\\\lammps_Simu\\\\myRDF_5Frame.txt',\n",
       " 'D:\\\\work\\\\Tool_codes\\\\Tools_Python\\\\#JupyNotebooks\\\\readWriteData\\\\simpleTEXT\\\\colvar.txt',\n",
       " 'D:\\\\work\\\\Tool_codes\\\\Tools_Python\\\\#JupyNotebooks\\\\readWriteData\\\\simpleTEXT\\\\fixAveTime.txt']"
      ]
     },
     "execution_count": 21,
     "metadata": {},
     "output_type": "execute_result"
    }
   ],
   "source": [
    "f = glob.glob(directory + \"/**/*.txt\" , recursive=True )\n",
    "f"
   ]
  },
  {
   "cell_type": "code",
   "execution_count": 22,
   "metadata": {},
   "outputs": [
    {
     "data": {
      "text/plain": [
       "['__add__',\n",
       " '__class__',\n",
       " '__contains__',\n",
       " '__delattr__',\n",
       " '__delitem__',\n",
       " '__dir__',\n",
       " '__doc__',\n",
       " '__eq__',\n",
       " '__format__',\n",
       " '__ge__',\n",
       " '__getattribute__',\n",
       " '__getitem__',\n",
       " '__gt__',\n",
       " '__hash__',\n",
       " '__iadd__',\n",
       " '__imul__',\n",
       " '__init__',\n",
       " '__init_subclass__',\n",
       " '__iter__',\n",
       " '__le__',\n",
       " '__len__',\n",
       " '__lt__',\n",
       " '__mul__',\n",
       " '__ne__',\n",
       " '__new__',\n",
       " '__reduce__',\n",
       " '__reduce_ex__',\n",
       " '__repr__',\n",
       " '__reversed__',\n",
       " '__rmul__',\n",
       " '__setattr__',\n",
       " '__setitem__',\n",
       " '__sizeof__',\n",
       " '__str__',\n",
       " '__subclasshook__',\n",
       " 'append',\n",
       " 'clear',\n",
       " 'copy',\n",
       " 'count',\n",
       " 'extend',\n",
       " 'index',\n",
       " 'insert',\n",
       " 'pop',\n",
       " 'remove',\n",
       " 'reverse',\n",
       " 'sort']"
      ]
     },
     "execution_count": 22,
     "metadata": {},
     "output_type": "execute_result"
    }
   ],
   "source": [
    "dir(f)"
   ]
  },
  {
   "cell_type": "code",
   "execution_count": null,
   "metadata": {},
   "outputs": [],
   "source": []
  }
 ],
 "metadata": {
  "kernelspec": {
   "display_name": "Python 3 (ipykernel)",
   "language": "python",
   "name": "python3"
  },
  "language_info": {
   "codemirror_mode": {
    "name": "ipython",
    "version": 3
   },
   "file_extension": ".py",
   "mimetype": "text/x-python",
   "name": "python",
   "nbconvert_exporter": "python",
   "pygments_lexer": "ipython3",
   "version": "3.7.13"
  }
 },
 "nbformat": 4,
 "nbformat_minor": 4
}
