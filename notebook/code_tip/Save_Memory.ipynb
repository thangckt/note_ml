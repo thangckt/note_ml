{
 "cells": [
  {
   "cell_type": "markdown",
   "metadata": {},
   "source": [
    "# Notes on How to write a memory efficient Python program?\n",
    "https://medium.com/datadriveninvestor/how-does-memory-allocation-work-in-python-and-other-languages-d2d8a9398543\n",
    "\n",
    "## I. Measure memory in Jupyter\n",
    "1. %memit magic command\n",
    "https://timothymonteath.com/articles/monitoring_memory_usage/ <br>\n",
    "pip install memory_profiler\n",
    "\n",
    "%memit magic command that lets us benchmark the memory used by a single Python statement <br>\n",
    "%load_ext memory_profiler\n",
    "%%memit import numpy as np\n",
    "\n",
    "2. resource built-in module\n",
    "https://docs.python.org/2/library/resource.html\n",
    "\n",
    "3. sys.getsizeof \n",
    "https://docs.python.org/3/library/sys.html#sys.getsizeof"
   ]
  },
  {
   "cell_type": "code",
   "execution_count": 6,
   "metadata": {},
   "outputs": [
    {
     "name": "stdout",
     "output_type": "stream",
     "text": [
      "The memory_profiler extension is already loaded. To reload it, use:\n",
      "  %reload_ext memory_profiler\n",
      "peak memory: 51.91 MiB, increment: 0.00 MiB\n"
     ]
    }
   ],
   "source": [
    "%load_ext memory_profiler\n",
    "%memit a = range(0, 10)"
   ]
  },
  {
   "cell_type": "code",
   "execution_count": 7,
   "metadata": {},
   "outputs": [
    {
     "name": "stdout",
     "output_type": "stream",
     "text": [
      "range(0, 10)\n",
      "<class 'range'>\n"
     ]
    }
   ],
   "source": [
    "a = range(0, 10)\n",
    "print(a)\n",
    "print(type(a))"
   ]
  },
  {
   "cell_type": "code",
   "execution_count": 8,
   "metadata": {},
   "outputs": [
    {
     "data": {
      "text/plain": [
       "48"
      ]
     },
     "execution_count": 8,
     "metadata": {},
     "output_type": "execute_result"
    }
   ],
   "source": [
    "import sys\n",
    "sys.getsizeof(a)"
   ]
  },
  {
   "cell_type": "markdown",
   "metadata": {},
   "source": [
    "## Practice 1: Try Not To Blow Off Memory!\n",
    "https://www.codementor.io/satwikkansal/python-practices-for-efficient-code-performance-memory-and-usability-aze6oiq65 <br>\n",
    "Unlike in C/C++, Python’s interpreter performs the memory management and users have no control over it. However, greater insight into how things work and different ways to do things can help you minimize your program's memory usage.\n",
    "* Use generators to calculate large sets of results\n",
    "https://jeffknupp.com/blog/2013/04/07/improve-your-python-yield-and-generators-explained/ <br>\n",
    "https://www.freecodecamp.org/news/how-and-why-you-should-use-python-generators-f6fb56650888/\n",
    "* Don't use + for generating long strings, use ''.join(iterable_object)\n",
    "* Use slots when defining a Python class\n",
    "https://stackoverflow.com/questions/472000/usage-of-slots\n",
    "* Python Idioms and efficiency\n",
    "https://www.memonic.com/user/pneff/folder/python/id/1bufp\n",
    "https://google.github.io/styleguide/pyguide.html\n",
    "* use built-in function whenever possible\n",
    "*  create smaller functions so each variable has a shorter lifetime between creation and being dereferenced when the namespace is removed at function exit.\n",
    "* calling gc.collect() yourself at the end of a loop can help avoid fragmenting memory, which in turn helps keep performance up. I've seen this make a significant difference (~20% runtime IIRC)\n",
    "* Some methods for reduce memory\n",
    "https://habr.com/en/post/458518/\n",
    "* memory of usage: np.array < Tuple < List\n",
    "* memory of usage: list-of-arrays < array-of-arrays"
   ]
  },
  {
   "cell_type": "code",
   "execution_count": 30,
   "metadata": {},
   "outputs": [
    {
     "name": "stdout",
     "output_type": "stream",
     "text": [
      "<class 'list'> <class 'tuple'> <class 'numpy.ndarray'>\n",
      "288\n",
      "208\n",
      "176\n",
      "[0, 1, 2, 3, 4, 5, 6, 7, 8, 9, 10, 11, 12, 13, 14, 15, 16, 17, 18, 19]\n",
      "(0, 1, 2, 3, 4, 5, 6, 7, 8, 9, 10, 11, 12, 13, 14, 15, 16, 17, 18, 19)\n",
      "[ 0  1  2  3  4  5  6  7  8  9 10 11 12 13 14 15 16 17 18 19]\n",
      "2\n",
      "2\n"
     ]
    }
   ],
   "source": [
    "# list vs tuple vs np.array\n",
    "a = list(range(20))\n",
    "b = tuple(range(20))\n",
    "c = np.array(range(20))\n",
    "print(type(a), type(b), type(c))\n",
    "print(sys.getsizeof(a))\n",
    "print(sys.getsizeof(b))\n",
    "print(sys.getsizeof(c))\n",
    "print(a)\n",
    "print(b)\n",
    "print(c)\n",
    "print(a[2])\n",
    "print(b[2])"
   ]
  },
  {
   "cell_type": "code",
   "execution_count": 42,
   "metadata": {},
   "outputs": [
    {
     "name": "stdout",
     "output_type": "stream",
     "text": [
      "[array([0, 1, 2]) array([0, 1, 2, 3, 4])]\n",
      "[array([0, 1, 2]), array([0, 1, 2, 3, 4])]\n",
      "[[0, 1, 2], [0, 1, 2, 3, 4]]\n",
      "<class 'numpy.ndarray'> <class 'list'> <class 'list'>\n",
      "112\n",
      "104\n",
      "104\n"
     ]
    }
   ],
   "source": [
    "# array-of-arrays VS. list-of-arrays VS. list-of-lists\n",
    "a = np.array([np.array(range(3)), np.array(range(5))])\n",
    "b = list([np.array(range(3)), np.array(range(5))])\n",
    "c = list([list(range(3)), list(range(5))])\n",
    "print(a)\n",
    "print(b)\n",
    "print(c)\n",
    "print(type(a), type(b), type(c))\n",
    "print(sys.getsizeof(a))\n",
    "print(sys.getsizeof(b))\n",
    "print(sys.getsizeof(c))"
   ]
  },
  {
   "cell_type": "markdown",
   "metadata": {},
   "source": [
    "### Note with list\n",
    "* Avoid List Slicing\n",
    "* try to use “for item in array” for loops over arrays, before using “for index in range(len(array))” to save space and time."
   ]
  },
  {
   "cell_type": "markdown",
   "metadata": {},
   "source": [
    "### 1. do not create a huge string as the full file body to be written at once, use \"writelines\""
   ]
  },
  {
   "cell_type": "code",
   "execution_count": null,
   "metadata": {},
   "outputs": [],
   "source": [
    "# use writelines\n",
    "f = open(filename, 'w')\n",
    "f.writelines((datum + os.linesep) for datum in data)\n",
    "f.close()\n",
    "\n",
    "#Even better, you could write the file as:\n",
    "items = GetData(url)\n",
    "f = open(filename, 'w')\n",
    "for item in items:\n",
    "    f.write(';'.join(item) + os.linesep)\n",
    "f.close()"
   ]
  },
  {
   "cell_type": "markdown",
   "metadata": {},
   "source": [
    "### 2. Use slots when defining a Python class"
   ]
  },
  {
   "cell_type": "code",
   "execution_count": 14,
   "metadata": {},
   "outputs": [],
   "source": [
    "import sys, os, glob, time, re\n",
    "import numpy as np\n",
    "sys.path.append(\"D:/work/Tool_codes/Tools_Python/FinalCode_py\")\n",
    "import thaFileLammps, thaTool, thaModel\n",
    "\n",
    "# #### read DATA/Dump\n",
    "du = thaFileLammps.DUMP()\n",
    "du.fReadDump('SRO_propa_Al_z001_810K_1000.cfg')"
   ]
  },
  {
   "cell_type": "code",
   "execution_count": 15,
   "metadata": {},
   "outputs": [
    {
     "data": {
      "text/plain": [
       "56"
      ]
     },
     "execution_count": 15,
     "metadata": {},
     "output_type": "execute_result"
    }
   ],
   "source": [
    "sys.getsizeof(du)"
   ]
  },
  {
   "cell_type": "markdown",
   "metadata": {},
   "source": [
    "# II. Using Generator\n",
    "* Iterables are any objects you can get an iterator from (list, string, dictionaries, tuples, sets,...), or iterables are objects with a built-in protocol for visiting each element in a certain order.\n",
    "* Iterators are objects that let you iterate on iterables.\n",
    "* Generator is a lazy \"pending list\" object. A generator is iterable.\n",
    "* yield statement to make \"function return\" as generator\n",
    "https://stackoverflow.com/questions/231767/what-does-the-yield-keyword-do?page=1&tab=votes#tab-top\n",
    "\n",
    "generator = myYieldingFunction(...)\n",
    "x = list(generator)\n",
    "\n",
    "   generator\n",
    "       v\n",
    "[x[0], ..., ???]\n",
    "\n",
    "         generator\n",
    "             v\n",
    "[x[0], x[1], ..., ???]\n",
    "\n",
    "               generator\n",
    "                   v\n",
    "[x[0], x[1], x[2], ..., ???]\n",
    "\n",
    "                       StopIteration exception\n",
    "[x[0], x[1], x[2]]     done\n",
    "\n",
    "list==[x[0], x[1], x[2]]\n",
    "\n",
    "## II.1. eager eavaluation VS. lazy evaluation (return vs. yield)\n",
    "* Use a list:  will return all element of list, so memory depend all len-of-list\n",
    "* Use generator: size of generator is fix, independent on len-of-list\n",
    "https://anandology.com/python-practice-book/iterators.html"
   ]
  },
  {
   "cell_type": "code",
   "execution_count": 18,
   "metadata": {},
   "outputs": [
    {
     "name": "stdout",
     "output_type": "stream",
     "text": [
      "[1, 2, 3]\n",
      "<generator object <genexpr> at 0x00000255D9F8F8C8>\n"
     ]
    }
   ],
   "source": [
    "lista = [1, 2, 3]\n",
    "listb = [x*x for x in range(300000)]\n",
    "mygenerator = (x*x for x in range(300000))\n",
    "print(lista)\n",
    "# print(listb)\n",
    "print(mygenerator)"
   ]
  },
  {
   "cell_type": "code",
   "execution_count": 19,
   "metadata": {},
   "outputs": [
    {
     "name": "stdout",
     "output_type": "stream",
     "text": [
      "2678096\n",
      "120\n"
     ]
    }
   ],
   "source": [
    "import sys\n",
    "print(sys.getsizeof(listb))\n",
    "print(sys.getsizeof(mygenerator))"
   ]
  },
  {
   "cell_type": "markdown",
   "metadata": {},
   "source": [
    "## II.2. generator function (yield)\n",
    "* \"Return\" sends a specified value back to its caller whereas \"Yield\" can produce a sequence of values. We should use yield when we want to iterate over a sequence, but don’t want to store the entire sequence in memory. <br>\n",
    "* Yield are used in Python generators. A generator function is defined like a normal function, but whenever it needs to generate a value, it does so with the yield keyword rather than return. If the body of a def contains yield, the function automatically becomes a generator function."
   ]
  },
  {
   "cell_type": "code",
   "execution_count": 20,
   "metadata": {},
   "outputs": [
    {
     "name": "stdout",
     "output_type": "stream",
     "text": [
      "1\n",
      "2\n",
      "3\n"
     ]
    }
   ],
   "source": [
    "def simpleGeneratorFun(): \n",
    "    yield 1\n",
    "    yield 2\n",
    "    yield 3\n",
    "  \n",
    "# Driver code to check above generator function \n",
    "for value in simpleGeneratorFun():  \n",
    "    print(value) "
   ]
  },
  {
   "cell_type": "markdown",
   "metadata": {},
   "source": [
    "## II.3. access item in generator\n",
    "https://stackoverflow.com/questions/2300756/get-the-nth-item-of-a-generator-in-python\n",
    "### access whole generator:"
   ]
  },
  {
   "cell_type": "code",
   "execution_count": 21,
   "metadata": {},
   "outputs": [
    {
     "name": "stdout",
     "output_type": "stream",
     "text": [
      "0\n",
      "2\n",
      "4\n",
      "6\n",
      "8\n"
     ]
    }
   ],
   "source": [
    "simpleGen = (2*x for x in range(5))\n",
    "for item in simpleGen:\n",
    "    print(item)   "
   ]
  },
  {
   "cell_type": "code",
   "execution_count": 22,
   "metadata": {},
   "outputs": [
    {
     "name": "stdout",
     "output_type": "stream",
     "text": [
      "0 0\n",
      "1 2\n",
      "2 4\n",
      "3 6\n",
      "4 8\n"
     ]
    }
   ],
   "source": [
    "simpleGen = (2*x for x in range(5))\n",
    "for i,item in enumerate(simpleGen):\n",
    "    print(i, item) "
   ]
  },
  {
   "cell_type": "markdown",
   "metadata": {},
   "source": [
    "### access 1 item in generator:"
   ]
  },
  {
   "cell_type": "code",
   "execution_count": 26,
   "metadata": {},
   "outputs": [
    {
     "data": {
      "text/plain": [
       "4"
      ]
     },
     "execution_count": 26,
     "metadata": {},
     "output_type": "execute_result"
    }
   ],
   "source": [
    "from itertools import islice\n",
    "simpleGen = (2*x for x in range(5))\n",
    "n=2\n",
    "next(islice(simpleGen, n, n+1))"
   ]
  },
  {
   "cell_type": "code",
   "execution_count": 33,
   "metadata": {},
   "outputs": [
    {
     "data": {
      "text/plain": [
       "2"
      ]
     },
     "execution_count": 33,
     "metadata": {},
     "output_type": "execute_result"
    }
   ],
   "source": [
    "simpleGen = (2*x for x in range(5))\n",
    "next(x for i,x in enumerate(simpleGen) if i==1)"
   ]
  },
  {
   "cell_type": "code",
   "execution_count": 36,
   "metadata": {},
   "outputs": [
    {
     "data": {
      "text/plain": [
       "6"
      ]
     },
     "execution_count": 36,
     "metadata": {},
     "output_type": "execute_result"
    }
   ],
   "source": [
    "simpleGen = (2*x for x in range(5))\n",
    "next(x for i,x in enumerate(simpleGen) if i==3)"
   ]
  },
  {
   "cell_type": "markdown",
   "metadata": {},
   "source": [
    "* Note: A generator cannot be used morethan 1 time. Solution for this is copying generator useing itertools.tee\n",
    "* But if the number of copys too large, it become list again"
   ]
  }
 ],
 "metadata": {
  "kernelspec": {
   "display_name": "Python 3",
   "language": "python",
   "name": "python3"
  },
  "language_info": {
   "codemirror_mode": {
    "name": "ipython",
    "version": 3
   },
   "file_extension": ".py",
   "mimetype": "text/x-python",
   "name": "python",
   "nbconvert_exporter": "python",
   "pygments_lexer": "ipython3",
   "version": "3.7.5"
  }
 },
 "nbformat": 4,
 "nbformat_minor": 2
}
