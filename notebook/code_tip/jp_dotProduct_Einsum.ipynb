{
 "cells": [
  {
   "cell_type": "markdown",
   "metadata": {},
   "source": [
    "# compute Euclidean Distance\n",
    "Euclidean Distance is a termbase in mathematics; therefore I won’t discuss it at length. Generally speaking, it is a straight-line distance between two points in Euclidean Space. The formula for euclidean distance for two vectors $ u, v ∈ R^n $ is: <br>\n",
    "$$ u=\\begin{bmatrix} u_{1} & u_{2} & u_{3} & \\vdots  & u_{n}  \\end{bmatrix} $$      \n",
    "$$ v=\\begin{bmatrix} v_{1} & v_{2} & v_{3} & \\vdots  & v_{n}  \\end{bmatrix} $$\n",
    "\n",
    "$$ d(v,u)= \\sqrt{ \\sum_{i=1}^{n}|v_i-u_i|^2 } $$\n",
    "\n",
    "\n",
    "how to write Matrix ?\n",
    "\\begin{bmatrix}\n",
    "    x_{11} & x_{12} & x_{13} & \\dots  & x_{1n} \\\\\n",
    "    x_{21} & x_{22} & x_{23} & \\dots  & x_{2n} \\\\\n",
    "    \\vdots & \\vdots & \\vdots & \\ddots & \\vdots \\\\\n",
    "    x_{d1} & x_{d2} & x_{d3} & \\dots  & x_{dn}\n",
    "\\end{bmatrix}\n",
    "\n",
    "## Einsum\n",
    "https://docs.scipy.org/doc/numpy/reference/generated/numpy.einsum.html <br>\n",
    "https://semantive.com/high-performance-computation-in-python-numpy-2/  <br>\n",
    "\n",
    "Einstein Summation Convention is an elegant way to express a common operation on matrices like a dot product, a sum over indices and a matrix transposition. At first, it may look impractical due to the complex syntax, but it will turn out that its implementation is very efficient.\n",
    "\n",
    "![title](https://semantive.com/wp-content/uploads/2019/02/performance_2.png)\n",
    "\n",
    "## numpy.linalg.norm\n",
    "https://docs.scipy.org/doc/numpy/reference/generated/numpy.linalg.norm.html\n",
    "\n",
    "## scipy.spatial.distance\n",
    "https://docs.scipy.org/doc/scipy/reference/generated/scipy.spatial.distance.cdist.html\n"
   ]
  },
  {
   "cell_type": "code",
   "execution_count": null,
   "metadata": {},
   "outputs": [],
   "source": [
    "import numpy as np\n",
    "\n",
    "def dummy_mat(mat_v, mat_u):\n",
    "   return [sum((v_i - u_i)**2 for v_i, u_i in zip(v, u))**0.5 for v, u in zip(mat_v, mat_u)]\n",
    "\n",
    "def bare_numpy_mat(mat_v, mat_u):\n",
    "   return np.sqrt(np.sum((mat_v - mat_u) ** 2, axis=1))\n",
    "\n",
    "def l2_norm_mat(mat_v, mat_u):\n",
    "   return np.linalg.norm(mat_v - mat_u, axis=1)\n",
    "\n",
    "def scipy_distance_mat(mat_v, mat_u):\n",
    "   # Unfortunately, the scipy_distance only works on 1D-arrays, so we are not able to vectorize it again.\n",
    "   return list(map(distance.euclidean, mat_v, mat_u))\n",
    "\n",
    "def einsum_mat(mat_v, mat_u):\n",
    "   mat_z = mat_v - mat_u\n",
    "   return np.sqrt(np.einsum('ij,ij->i', mat_z, mat_z))"
   ]
  },
  {
   "cell_type": "code",
   "execution_count": null,
   "metadata": {},
   "outputs": [],
   "source": [
    "# closest point\n",
    "def closest_node(node, nodes):\n",
    "    node = np.asarray(node);  nodes = np.asarray(nodes)\n",
    "    d = nodes - node                                  # Nx3 array of Rij vectors\n",
    "    dist2 = np.sqrt(np.einsum('ij,ij->i', d, d))      # Nx1 array of distances\n",
    "    return np.argmin(dist2)"
   ]
  },
  {
   "cell_type": "code",
   "execution_count": 11,
   "metadata": {},
   "outputs": [],
   "source": [
    "# distance from node to nodes\n",
    "def dist2_node2nodes(node, nodes):\n",
    "    node = np.asarray(node);  nodes = np.asarray(nodes)\n",
    "    d = nodes - node                                  # Nx3 array of Rij vectors\n",
    "    dist2 = np.sqrt(np.einsum('ij,ij->i', d, d))      # Nx1 array of distances\n",
    "    return dist2, d"
   ]
  },
  {
   "cell_type": "markdown",
   "metadata": {},
   "source": [
    "## test performance"
   ]
  },
  {
   "cell_type": "code",
   "execution_count": 17,
   "metadata": {},
   "outputs": [
    {
     "name": "stdout",
     "output_type": "stream",
     "text": [
      "[[ 0  0  0]\n",
      " [ 1  1  1]\n",
      " [-4 -4 -4]]\n"
     ]
    }
   ],
   "source": [
    "import numpy as np\n",
    "a = np.array([1,1,1])\n",
    "b = np.array([[1,1,1], [2,2,2], [-3,-3,-3]])\n",
    "print(b-a)"
   ]
  },
  {
   "cell_type": "code",
   "execution_count": 61,
   "metadata": {},
   "outputs": [],
   "source": [
    "import numpy as np\n",
    "a = np.array([1,1,1])\n",
    "b = np.arange(3000).reshape(1000,3)\n",
    "d=b-a"
   ]
  },
  {
   "cell_type": "code",
   "execution_count": 65,
   "metadata": {},
   "outputs": [
    {
     "name": "stdout",
     "output_type": "stream",
     "text": [
      "17.9 µs ± 193 ns per loop (mean ± std. dev. of 7 runs, 100000 loops each)\n"
     ]
    }
   ],
   "source": [
    "%%timeit\n",
    "# use bare numpy\n",
    "d1 = np.sqrt((d*d).sum(axis=1))"
   ]
  },
  {
   "cell_type": "code",
   "execution_count": 66,
   "metadata": {},
   "outputs": [
    {
     "name": "stdout",
     "output_type": "stream",
     "text": [
      "11 µs ± 108 ns per loop (mean ± std. dev. of 7 runs, 100000 loops each)\n"
     ]
    }
   ],
   "source": [
    "%%timeit\n",
    "# use einsumn\n",
    "d2 = np.sqrt(np.einsum('ij,ij->i', d, d))"
   ]
  },
  {
   "cell_type": "code",
   "execution_count": 67,
   "metadata": {},
   "outputs": [
    {
     "name": "stdout",
     "output_type": "stream",
     "text": [
      "12.4 µs ± 440 ns per loop (mean ± std. dev. of 7 runs, 100000 loops each)\n"
     ]
    }
   ],
   "source": [
    "%%timeit\n",
    "# dummy use\n",
    "d3 = np.sqrt(d[:,0]**2 + d[:,1]**2 + d[:,2]**2)"
   ]
  },
  {
   "cell_type": "code",
   "execution_count": 71,
   "metadata": {},
   "outputs": [
    {
     "name": "stdout",
     "output_type": "stream",
     "text": [
      "[ 1.41421356  5.38516481 10.48808848 15.65247584 20.83266666 26.01922366\n",
      " 31.20897307 36.40054945 41.59326869 46.78675026]\n",
      "[ 1.41421356  5.38516481 10.48808848 15.65247584 20.83266666 26.01922366\n",
      " 31.20897307 36.40054945 41.59326869 46.78675026]\n",
      "[ 1.41421356  5.38516481 10.48808848 15.65247584 20.83266666 26.01922366\n",
      " 31.20897307 36.40054945 41.59326869 46.78675026]\n"
     ]
    }
   ],
   "source": [
    "import numpy as np\n",
    "a = np.array([1,1,1])\n",
    "b = np.arange(30).reshape(10,3)\n",
    "d=b-a\n",
    "\n",
    "d1 = np.sqrt((d*d).sum(axis=1))\n",
    "d2 = np.sqrt(np.einsum('ij,ij->i', d, d))\n",
    "d3 = np.sqrt(d[:,0]**2 + d[:,1]**2 + d[:,2]**2)\n",
    "\n",
    "print(d1)\n",
    "print(d2)\n",
    "print(d3)"
   ]
  },
  {
   "cell_type": "markdown",
   "metadata": {},
   "source": [
    "# 2. Dot product\n",
    "\n",
    "https://stackoverflow.com/questions/26089893/understanding-numpys-einsum\n",
    "\n",
    "### What does einsum do?\n",
    "Imagine that we have two multi-dimensional arrays, A and B. Now let's suppose we want to...\n",
    "\n",
    "multiply A with B in a particular way to create new array of products; and then maybe\n",
    "sum this new array along particular axes; and then maybe\n",
    "transpose the axes of the new array in a particular order.\n",
    "There's a good chance that einsum will help us do this faster and more memory-efficiently that combinations of the NumPy functions like multiply, sum and transpose will allow.\n",
    "\n",
    "### How does einsum work?\n",
    "Here's a simple (but not completely trivial) example. Take the following two arrays:"
   ]
  },
  {
   "cell_type": "code",
   "execution_count": 16,
   "metadata": {},
   "outputs": [],
   "source": [
    "A = np.array([0, 1, 2])\n",
    "B = np.array([[ 0,  1,  2,  3],\n",
    "              [ 4,  5,  6,  7],\n",
    "              [ 8,  9, 10, 11]])"
   ]
  },
  {
   "cell_type": "markdown",
   "metadata": {},
   "source": [
    "We will multiply A and B element-wise and then sum along the rows of the new array. In \"normal\" NumPy we'd write:"
   ]
  },
  {
   "cell_type": "code",
   "execution_count": 18,
   "metadata": {},
   "outputs": [
    {
     "name": "stdout",
     "output_type": "stream",
     "text": [
      "[[ 0  0  0  0]\n",
      " [ 4  5  6  7]\n",
      " [16 18 20 22]]\n",
      "[ 0 22 76]\n"
     ]
    }
   ],
   "source": [
    "d = A[:, np.newaxis] * B\n",
    "c = d.sum(axis=1)\n",
    "print(d)\n",
    "print(c)"
   ]
  },
  {
   "cell_type": "markdown",
   "metadata": {},
   "source": [
    "So here, the indexing operation on A lines up the first axes of the two arrays so that the multiplication can be broadcast. \n",
    "The rows of the array of products is then summed to return the answer.\n",
    "\n",
    "Now if we wanted to use einsum instead, we could write:"
   ]
  },
  {
   "cell_type": "code",
   "execution_count": 19,
   "metadata": {},
   "outputs": [
    {
     "data": {
      "text/plain": [
       "array([ 0, 22, 76])"
      ]
     },
     "execution_count": 19,
     "metadata": {},
     "output_type": "execute_result"
    }
   ],
   "source": [
    "np.einsum('i,ij->i', A, B)"
   ]
  },
  {
   "cell_type": "markdown",
   "metadata": {},
   "source": [
    "### Here is what happens next:\n",
    "\n",
    "* A has one axis; we've labelled it i. And B has two axes; we've labelled axis 0 as i and axis 1 as j.\n",
    "* By repeating the label i in both input arrays, we are telling einsum that these two axes should be multiplied together. In other words, we're multiplying array A with each column of array B, just like A[:, np.newaxis] * B does.\n",
    "* Notice that j does not appear as a label in our desired output; we've just used i (we want to end up with a 1D array). By omitting the label, we're telling einsum to sum along this axis. In other words, we're summing the rows of the products, just like .sum(axis=1) does.\n",
    "\n",
    "That's basically all you need to know to use einsum. It helps to play about a little; if we leave both labels in the output, 'i,ij->ij', we get back a 2D array of products (same as A[:, np.newaxis] * B). If we say no output labels, 'i,ij->, we get back a single number (same as doing (A[:, np.newaxis] * B).sum()).\n",
    "\n",
    "The great thing about einsum however, is that is does not build a temporary array of products first; it just sums the products as it goes. This can lead to big savings in memory use.\n",
    "\n",
    "https://stackoverflow.com/questions/26089893/understanding-numpys-einsum"
   ]
  },
  {
   "cell_type": "markdown",
   "metadata": {},
   "source": [
    "## a. dot product between a vector and a list of vectors"
   ]
  },
  {
   "cell_type": "code",
   "execution_count": 56,
   "metadata": {},
   "outputs": [],
   "source": [
    "import numpy as np\n",
    "a = np.array([1,1,1])\n",
    "b = np.array([[1,1,1], [2,2,2], [-3,-3,-3], [-3,-3,-3]])"
   ]
  },
  {
   "cell_type": "code",
   "execution_count": 21,
   "metadata": {},
   "outputs": [
    {
     "name": "stdout",
     "output_type": "stream",
     "text": [
      "[ 3  6 -9 -9]\n"
     ]
    }
   ],
   "source": [
    "# dot product a vector and a list of vectors\n",
    "dot = b @ a    # can not use dot = a @ b\n",
    "print(dot)"
   ]
  },
  {
   "cell_type": "code",
   "execution_count": 59,
   "metadata": {},
   "outputs": [
    {
     "name": "stdout",
     "output_type": "stream",
     "text": [
      "[ 3  6 -9 -9]\n"
     ]
    }
   ],
   "source": [
    "# use einsum\n",
    "dot = np.einsum('ij,j->i', b, a)\n",
    "print(dot)"
   ]
  },
  {
   "cell_type": "code",
   "execution_count": 60,
   "metadata": {},
   "outputs": [
    {
     "name": "stdout",
     "output_type": "stream",
     "text": [
      "1.19 µs ± 12.5 ns per loop (mean ± std. dev. of 7 runs, 1000000 loops each)\n"
     ]
    }
   ],
   "source": [
    "%%timeit\n",
    "dot = np.einsum('ij,j->i', b, a)"
   ]
  },
  {
   "cell_type": "code",
   "execution_count": 61,
   "metadata": {},
   "outputs": [
    {
     "name": "stdout",
     "output_type": "stream",
     "text": [
      "751 ns ± 2.51 ns per loop (mean ± std. dev. of 7 runs, 1000000 loops each)\n"
     ]
    }
   ],
   "source": [
    "%%timeit\n",
    "dot = b @ a "
   ]
  },
  {
   "cell_type": "markdown",
   "metadata": {},
   "source": [
    "## b. dot product between 2 vector \n",
    "equivalent to element-wise multiply 2 vectors a*b\n",
    "$$ d = \\sum_{i=1}^{n}{a_i.b_i} = a_ib_i $$\n",
    "* a*b = np.einsum('i,i->i',a,b)"
   ]
  },
  {
   "cell_type": "code",
   "execution_count": 13,
   "metadata": {},
   "outputs": [
    {
     "name": "stdout",
     "output_type": "stream",
     "text": [
      "[ 2  3  4 10 18]\n",
      "[ 2  3  4 10 18]\n"
     ]
    }
   ],
   "source": [
    "import numpy as np\n",
    "a = np.array([1,1,1,2,3])\n",
    "b = np.array([2,3,4,5,6])\n",
    "\n",
    "print(a*b)\n",
    "print(np.einsum('i,i->i',a,b))"
   ]
  },
  {
   "cell_type": "code",
   "execution_count": 11,
   "metadata": {},
   "outputs": [
    {
     "name": "stdout",
     "output_type": "stream",
     "text": [
      "349 ns ± 8.74 ns per loop (mean ± std. dev. of 7 runs, 1000000 loops each)\n"
     ]
    }
   ],
   "source": [
    "%%timeit\n",
    "a*b"
   ]
  },
  {
   "cell_type": "code",
   "execution_count": 12,
   "metadata": {},
   "outputs": [
    {
     "name": "stdout",
     "output_type": "stream",
     "text": [
      "1.16 µs ± 7.7 ns per loop (mean ± std. dev. of 7 runs, 1000000 loops each)\n"
     ]
    }
   ],
   "source": [
    "%%timeit\n",
    "np.einsum('i,i->i',a,b)"
   ]
  },
  {
   "cell_type": "code",
   "execution_count": 16,
   "metadata": {},
   "outputs": [
    {
     "data": {
      "text/plain": [
       "array([1., 1., 1., 1., 1.])"
      ]
     },
     "execution_count": 16,
     "metadata": {},
     "output_type": "execute_result"
    }
   ],
   "source": [
    "np.ones(a.shape[0])"
   ]
  },
  {
   "cell_type": "markdown",
   "metadata": {},
   "source": [
    "## c. element-wise multiply 3 vectors\n",
    "a*b*c = np.einsum('i,i,i->i',a,b,c)"
   ]
  },
  {
   "cell_type": "code",
   "execution_count": 18,
   "metadata": {},
   "outputs": [
    {
     "name": "stdout",
     "output_type": "stream",
     "text": [
      "[ 4  9 16 20 36]\n",
      "[ 4  9 16 20 36]\n"
     ]
    }
   ],
   "source": [
    "import numpy as np\n",
    "a = np.array([1,1,1,2,3])\n",
    "b = np.array([2,3,4,5,6])\n",
    "c = np.array([2,3,4,2,2])\n",
    "\n",
    "d = np.einsum('i,i,i->i',a,b,c)\n",
    "print(d)\n",
    "print(a*b*c)"
   ]
  },
  {
   "cell_type": "code",
   "execution_count": 21,
   "metadata": {},
   "outputs": [
    {
     "name": "stdout",
     "output_type": "stream",
     "text": [
      "706 ns ± 102 ns per loop (mean ± std. dev. of 7 runs, 1000000 loops each)\n"
     ]
    }
   ],
   "source": [
    "%%timeit\n",
    "a*b*c"
   ]
  },
  {
   "cell_type": "code",
   "execution_count": 22,
   "metadata": {},
   "outputs": [
    {
     "name": "stdout",
     "output_type": "stream",
     "text": [
      "1.72 µs ± 6.89 ns per loop (mean ± std. dev. of 7 runs, 1000000 loops each)\n"
     ]
    }
   ],
   "source": [
    "%%timeit\n",
    "np.einsum('i,i,i->i',a,b,c)"
   ]
  },
  {
   "cell_type": "markdown",
   "metadata": {},
   "source": [
    "## d. multiply 2 matrix (rotation matrix)\n",
    "np.einsum('ij,jk', a, b) describes traditional matrix multiplication and is equivalent to np.matmul(a,b)."
   ]
  },
  {
   "cell_type": "code",
   "execution_count": 3,
   "metadata": {},
   "outputs": [
    {
     "name": "stdout",
     "output_type": "stream",
     "text": [
      "[[ 5 10 13]\n",
      " [10 20 26]\n",
      " [15 30 39]\n",
      " [20 40 52]\n",
      " [24 48 62]]\n",
      "[[ 5 10 13]\n",
      " [10 20 26]\n",
      " [15 30 39]\n",
      " [20 40 52]\n",
      " [24 48 62]]\n"
     ]
    }
   ],
   "source": [
    "import numpy as np\n",
    "a = np.array([[1,1,1], [2,2,2], [3,3,3], [4,4,4], [4,5,5]])\n",
    "R = np.array([[1,2,3], [0,3,4], [4,5,6]])\n",
    "print(np.matmul(a,R))\n",
    "print(np.einsum('ij,jk', a, R))"
   ]
  },
  {
   "cell_type": "markdown",
   "metadata": {},
   "source": [
    "## 5. multiply 1 matrix with each row of another matrix (3D Rotation)"
   ]
  },
  {
   "cell_type": "code",
   "execution_count": 19,
   "metadata": {},
   "outputs": [
    {
     "name": "stdout",
     "output_type": "stream",
     "text": [
      "[[ 5 10 13]\n",
      " [10 20 26]\n",
      " [15 30 39]\n",
      " [20 40 52]\n",
      " [24 48 62]]\n",
      "[[ 5 10 13]\n",
      " [10 20 26]\n",
      " [15 30 39]\n",
      " [20 40 52]\n",
      " [24 48 62]]\n",
      "[[ 6.  7. 15.]\n",
      " [12. 14. 30.]\n",
      " [18. 21. 45.]\n",
      " [24. 28. 60.]\n",
      " [29. 35. 71.]]\n",
      "[[ 6  7 15]\n",
      " [12 14 30]\n",
      " [18 21 45]\n",
      " [24 28 60]\n",
      " [29 35 71]]\n"
     ]
    }
   ],
   "source": [
    "import numpy as np\n",
    "a = np.array([[1,1,1], [2,2,2], [3,3,3], [4,4,4], [4,5,5]])\n",
    "R = np.array([[1,2,3], [0,3,4], [4,5,6]])\n",
    "print(np.matmul(a,R))\n",
    "print(np.einsum('ij,jk', a, R))\n",
    "\n",
    "c = np.zeros((a.shape[0],3))\n",
    "for i in range(a.shape[0]):\n",
    "    c[i,:] = np.matmul(R, a[i,:])\n",
    "    \n",
    "print(c)\n",
    "print(np.einsum('ik,jk', a, R))      # multiply matrix R with each row of a"
   ]
  },
  {
   "cell_type": "code",
   "execution_count": 2,
   "metadata": {},
   "outputs": [
    {
     "name": "stdout",
     "output_type": "stream",
     "text": [
      "[0 1 2 3 4]\n"
     ]
    }
   ],
   "source": [
    "import numpy as np\n",
    "a = np.arange(5)\n",
    "print(a)"
   ]
  },
  {
   "cell_type": "code",
   "execution_count": 8,
   "metadata": {},
   "outputs": [
    {
     "data": {
      "text/plain": [
       "array([0, 1, 2, 3, 4])"
      ]
     },
     "execution_count": 8,
     "metadata": {},
     "output_type": "execute_result"
    }
   ],
   "source": [
    "a[0:]"
   ]
  },
  {
   "cell_type": "code",
   "execution_count": null,
   "metadata": {},
   "outputs": [],
   "source": []
  }
 ],
 "metadata": {
  "kernelspec": {
   "display_name": "Python 3 (ipykernel)",
   "language": "python",
   "name": "python3"
  },
  "language_info": {
   "codemirror_mode": {
    "name": "ipython",
    "version": 3
   },
   "file_extension": ".py",
   "mimetype": "text/x-python",
   "name": "python",
   "nbconvert_exporter": "python",
   "pygments_lexer": "ipython3",
   "version": "3.7.13"
  }
 },
 "nbformat": 4,
 "nbformat_minor": 4
}
