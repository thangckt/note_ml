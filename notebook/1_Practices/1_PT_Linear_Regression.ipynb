{
 "cells": [
  {
   "attachments": {},
   "cell_type": "markdown",
   "metadata": {
    "colab_type": "text",
    "id": "7nDdR3N2R2PJ"
   },
   "source": [
    "<a href=\"https://github.com/thangckt/note_ml/blob/main/notebook/1_Practices/1_PT_Linear_Regression.ipynb\" role=\"button\"><img src=\"https://img.shields.io/static/v1?label=&amp;message=View%20On%20GitHub&amp;color=586069&amp;logo=github&amp;labelColor=2f363d\"></a> &nbsp;\n",
    "<a href=\"https://colab.research.google.com/github/thangckt/note_ml/blob/main/notebook/1_Practices/1_PT_Linear_Regression.ipynb\"><img src=\"https://colab.research.google.com/assets/colab-badge.svg\" alt=\"Open In Colab\"></a> &nbsp;\n",
    "<a target=\"_blank\" href=\"https://thangckt.github.io/note_ml/notebook/1_Practices/1_PT_Linear_Regression\"><img src=\"https://img.shields.io/badge/📖 Read-blog post-9cf\"></a>"
   ]
  },
  {
   "cell_type": "markdown",
   "metadata": {},
   "source": [
    "\n",
    "# Linear Regression\n",
    "\n",
    "We will learn about linear regression. We will understand \n",
    "- the basic math behind it\n",
    "- implement it just using NumPy, and then \n",
    "- implement it with [PyTorch](https://pytorch.org/)\n",
    "\n",
    "Adapted from [this repo](https://github.com/ProtonX-AI/deep-learning-with-tensorflow-and-pytorch/blob/master/notebooks/07_Linear_Regression/07_PT_Linear_Regression.ipynb)"
   ]
  },
  {
   "attachments": {},
   "cell_type": "markdown",
   "metadata": {
    "colab_type": "text",
    "id": "Hi-KdxD_uSln"
   },
   "source": [
    "# Overview\n",
    "\n",
    "Our goal is to learn a linear model $\\hat{y}$ that models $y$ given $X$. \n",
    "\n",
    "$\\hat{y} = XW + b$\n",
    "* $\\hat{y}$ = predictions | $\\in \\mathbb{R}^{NX1}$ ($N$ is the number of samples)\n",
    "* $X$ = inputs | $\\in \\mathbb{R}^{NXD}$ ($D$ is the number of features)\n",
    "* $W$ = weights | $\\in \\mathbb{R}^{DX1}$ \n",
    "* $b$ = bias | $\\in \\mathbb{R}^{1}$ "
   ]
  },
  {
   "attachments": {},
   "cell_type": "markdown",
   "metadata": {
    "colab_type": "text",
    "id": "DxOri3K3uSsB"
   },
   "source": [
    "* **Objective:**  Use inputs $X$ to predict the output $\\hat{y}$ using a linear model. The model will be a line of best fit that minimizes the distance between the predicted (model's output) and target (ground truth) values. Training data $(X, y)$ is used to train the model and learn the weights $W$ using gradient descent.\n",
    "* **Advantages:**\n",
    "  * Computationally simple.\n",
    "  * Highly interpretable.\n",
    "  * Can account for continuous and categorical features.\n",
    "* **Disadvantages:**\n",
    "  * The model will perform well only when the data is linearly separable (for classification).\n",
    "  * Usually not used for classification and only for regression.\n",
    "* **Miscellaneous:** You can also use linear regression for binary classification tasks where if the predicted continuous value is above a threshold, it belongs to a certain class. But we will cover better techniques for classification in future lessons and will focus on linear regression for continuous regression tasks only."
   ]
  },
  {
   "cell_type": "code",
   "execution_count": 69,
   "metadata": {},
   "outputs": [],
   "source": [
    "import numpy as np\n",
    "import pandas as pd\n",
    "import matplotlib.pyplot as plt\n",
    "plt.style.use('../light.mplstyle')\n",
    "\n",
    "dir_nb = globals()['_dh'][0]"
   ]
  },
  {
   "attachments": {},
   "cell_type": "markdown",
   "metadata": {
    "colab_type": "text",
    "id": "G8EkjWiKd68P"
   },
   "source": [
    "# Generate data\n",
    "\n",
    "We're going to create some simple dummy data to apply linear regression on. It's going to create roughly linear data (`y = 3.5X + noise`); the random noise is added to create realistic data that doesn't perfectly align in a line. Our goal is to have the model converge to a similar linear equation (there will be slight variance since we added some noise)."
   ]
  },
  {
   "cell_type": "code",
   "execution_count": 70,
   "metadata": {
    "colab": {},
    "colab_type": "code",
    "id": "vCcF_QkYdozl"
   },
   "outputs": [],
   "source": [
    "# Generate synthetic data\n",
    "def generate_data(num_samples):\n",
    "    \"\"\"Generate dummy data for linear regression.\"\"\"\n",
    "    X = np.array(range(num_samples))\n",
    "    random_noise = np.random.uniform(-10,20,size=num_samples)\n",
    "    y = 3.5*X + random_noise # add some noise\n",
    "    return X, y"
   ]
  },
  {
   "cell_type": "code",
   "execution_count": 71,
   "metadata": {
    "colab": {},
    "colab_type": "code",
    "id": "9rUjxlhvhzIR"
   },
   "outputs": [],
   "source": [
    "SEED = 1234\n",
    "NUM_SAMPLES = 50\n",
    "\n",
    "# Set seed for reproducibility\n",
    "np.random.seed(SEED)\n",
    "\n",
    "# Generate random (linear) data\n",
    "X, y = generate_data(num_samples=NUM_SAMPLES)"
   ]
  },
  {
   "cell_type": "code",
   "execution_count": 72,
   "metadata": {
    "colab": {
     "base_uri": "https://localhost:8080/",
     "height": 204
    },
    "colab_type": "code",
    "executionInfo": {
     "elapsed": 2906,
     "status": "ok",
     "timestamp": 1583943488824,
     "user": {
      "displayName": "Goku Mohandas",
      "photoUrl": "https://lh3.googleusercontent.com/a-/AOh14GjMIOf3R_zwS_zZx4ZyPMtQe0lOkGpPOEUEKWpM7g=s64",
      "userId": "00378334517810298963"
     },
     "user_tz": 420
    },
    "id": "4ckWsUsKhCDC",
    "outputId": "31b1b08e-54dd-432d-a216-29966afdd816"
   },
   "outputs": [
    {
     "data": {
      "text/html": [
       "<div>\n",
       "<style scoped>\n",
       "    .dataframe tbody tr th:only-of-type {\n",
       "        vertical-align: middle;\n",
       "    }\n",
       "\n",
       "    .dataframe tbody tr th {\n",
       "        vertical-align: top;\n",
       "    }\n",
       "\n",
       "    .dataframe thead th {\n",
       "        text-align: right;\n",
       "    }\n",
       "</style>\n",
       "<table border=\"1\" class=\"dataframe\">\n",
       "  <thead>\n",
       "    <tr style=\"text-align: right;\">\n",
       "      <th></th>\n",
       "      <th>X</th>\n",
       "      <th>y</th>\n",
       "    </tr>\n",
       "  </thead>\n",
       "  <tbody>\n",
       "    <tr>\n",
       "      <th>0</th>\n",
       "      <td>0.0</td>\n",
       "      <td>-4.254416</td>\n",
       "    </tr>\n",
       "    <tr>\n",
       "      <th>1</th>\n",
       "      <td>1.0</td>\n",
       "      <td>12.163263</td>\n",
       "    </tr>\n",
       "    <tr>\n",
       "      <th>2</th>\n",
       "      <td>2.0</td>\n",
       "      <td>10.131832</td>\n",
       "    </tr>\n",
       "    <tr>\n",
       "      <th>3</th>\n",
       "      <td>3.0</td>\n",
       "      <td>24.060758</td>\n",
       "    </tr>\n",
       "    <tr>\n",
       "      <th>4</th>\n",
       "      <td>4.0</td>\n",
       "      <td>27.399274</td>\n",
       "    </tr>\n",
       "  </tbody>\n",
       "</table>\n",
       "</div>"
      ],
      "text/plain": [
       "     X          y\n",
       "0  0.0  -4.254416\n",
       "1  1.0  12.163263\n",
       "2  2.0  10.131832\n",
       "3  3.0  24.060758\n",
       "4  4.0  27.399274"
      ]
     },
     "execution_count": 72,
     "metadata": {},
     "output_type": "execute_result"
    }
   ],
   "source": [
    "# Load into a Pandas DataFrame\n",
    "data = np.vstack([X, y]).T    # convert to comlums\n",
    "df = pd.DataFrame(data, columns=['X', 'y'])\n",
    "X = df[['X']].values\n",
    "y = df[['y']].values\n",
    "df.head()"
   ]
  },
  {
   "cell_type": "code",
   "execution_count": 73,
   "metadata": {
    "colab": {
     "base_uri": "https://localhost:8080/",
     "height": 281
    },
    "colab_type": "code",
    "executionInfo": {
     "elapsed": 3778,
     "status": "ok",
     "timestamp": 1583943489798,
     "user": {
      "displayName": "Goku Mohandas",
      "photoUrl": "https://lh3.googleusercontent.com/a-/AOh14GjMIOf3R_zwS_zZx4ZyPMtQe0lOkGpPOEUEKWpM7g=s64",
      "userId": "00378334517810298963"
     },
     "user_tz": 420
    },
    "id": "qh3z65QXhCj5",
    "outputId": "0acfe9d5-4813-4a35-d1c6-d1bbe314f965"
   },
   "outputs": [
    {
     "data": {
      "image/png": "[encoded data removed]",
      "text/plain": [
       "<Figure size 438.75x351 with 1 Axes>"
      ]
     },
     "metadata": {},
     "output_type": "display_data"
    }
   ],
   "source": [
    "# Scatter plot\n",
    "plt.title(\"Generated data\")\n",
    "plt.scatter(x=df['X'], y=df['y'])\n",
    "plt.show()"
   ]
  },
  {
   "attachments": {},
   "cell_type": "markdown",
   "metadata": {
    "colab_type": "text",
    "id": "aHhypQvalsTd"
   },
   "source": [
    "# Implementation using just NumPy\n",
    "\n",
    "Now that we have our data prepared, we'll first implement linear regression using just NumPy. This will let us really understand the underlying operations."
   ]
  },
  {
   "attachments": {},
   "cell_type": "markdown",
   "metadata": {
    "colab_type": "text",
    "id": "kzjHPncuQpuE"
   },
   "source": [
    "## Split data\n",
    "\n",
    "Since our task is a regression task, we will randomly split our dataset into **three** sets: train, validation and test data splits.\n",
    "\n",
    "* train: used to train our model.\n",
    "* val : used to validate our model's performance during training.\n",
    "* test: used to do an evaluation of our fully trained model."
   ]
  },
  {
   "cell_type": "code",
   "execution_count": 74,
   "metadata": {
    "colab": {},
    "colab_type": "code",
    "id": "rrTd9wP9Qv2_"
   },
   "outputs": [],
   "source": [
    "TRAIN_SIZE = 0.7\n",
    "VAL_SIZE = 0.15\n",
    "TEST_SIZE = 0.15\n",
    "SHUFFLE = True\n",
    "\n",
    "# Shuffle data\n",
    "if SHUFFLE:\n",
    "    indices = list(range(NUM_SAMPLES))\n",
    "    np.random.shuffle(indices)\n",
    "    X = X[indices]\n",
    "    y = y[indices]"
   ]
  },
  {
   "cell_type": "markdown",
   "metadata": {
    "colab_type": "text",
    "id": "mhnoMWg_gZme"
   },
   "source": [
    "**NOTE**: Be careful not to shuffle X and y separately because then the inputs won't correspond to the outputs!"
   ]
  },
  {
   "cell_type": "code",
   "execution_count": 75,
   "metadata": {
    "colab": {},
    "colab_type": "code",
    "id": "CfmqoOyIRUop"
   },
   "outputs": [],
   "source": [
    "# Split indices\n",
    "train_start = 0\n",
    "train_end = int(0.7*NUM_SAMPLES)\n",
    "val_start = train_end\n",
    "val_end = int((TRAIN_SIZE+VAL_SIZE)*NUM_SAMPLES)\n",
    "test_start = val_end"
   ]
  },
  {
   "cell_type": "code",
   "execution_count": 76,
   "metadata": {
    "colab": {
     "base_uri": "https://localhost:8080/",
     "height": 68
    },
    "colab_type": "code",
    "executionInfo": {
     "elapsed": 3721,
     "status": "ok",
     "timestamp": 1583943489800,
     "user": {
      "displayName": "Goku Mohandas",
      "photoUrl": "https://lh3.googleusercontent.com/a-/AOh14GjMIOf3R_zwS_zZx4ZyPMtQe0lOkGpPOEUEKWpM7g=s64",
      "userId": "00378334517810298963"
     },
     "user_tz": 420
    },
    "id": "F8JKSPgXSBf6",
    "outputId": "02c5bc5f-0ec0-4b51-d5d3-7a0086c2c661"
   },
   "outputs": [
    {
     "name": "stdout",
     "output_type": "stream",
     "text": [
      "X_train: (35, 1), y_train: (35, 1)\n",
      "X_val: (7, 1), y_test: (7, 1)\n",
      "X_test: (8, 1), y_test: (8, 1)\n"
     ]
    }
   ],
   "source": [
    "# Split data\n",
    "X_train = X[train_start:train_end]\n",
    "y_train = y[train_start:train_end]\n",
    "X_val = X[val_start:val_end]\n",
    "y_val = y[val_start:val_end]\n",
    "X_test = X[test_start:]\n",
    "y_test = y[test_start:]\n",
    "print (f\"X_train: {X_train.shape}, y_train: {y_train.shape}\")\n",
    "print (f\"X_val: {X_val.shape}, y_test: {y_val.shape}\")\n",
    "print (f\"X_test: {X_test.shape}, y_test: {y_test.shape}\")"
   ]
  },
  {
   "attachments": {},
   "cell_type": "markdown",
   "metadata": {
    "colab_type": "text",
    "id": "0pQweIQuUTpl"
   },
   "source": [
    "## Standardize data\n",
    "\n",
    "We need to standardize our data (zero mean and unit variance) or our models can optimize quickly when we are training.\n",
    "\n",
    "$z = \\frac{x_i - \\mu}{\\sigma}$\n",
    "* $z$ = standardized value\n",
    "* $x_i$ = inputs\n",
    "* $\\mu$ = mean\n",
    "* $\\sigma$ = standard deviation"
   ]
  },
  {
   "cell_type": "code",
   "execution_count": 77,
   "metadata": {
    "colab": {},
    "colab_type": "code",
    "id": "pM1h8CrbQyTG"
   },
   "outputs": [],
   "source": [
    "def standardize_data(data, mean, std):\n",
    "    return (data - mean)/std"
   ]
  },
  {
   "cell_type": "code",
   "execution_count": 78,
   "metadata": {
    "colab": {},
    "colab_type": "code",
    "id": "HWvKMt2-Ui3G"
   },
   "outputs": [],
   "source": [
    "# Determine means and stds\n",
    "X_mean = np.mean(X_train)\n",
    "X_std = np.std(X_train)\n",
    "y_mean = np.mean(y_train)\n",
    "y_std = np.std(y_train)"
   ]
  },
  {
   "cell_type": "markdown",
   "metadata": {
    "colab_type": "text",
    "id": "XM1EXQFeU3cL"
   },
   "source": [
    "We need to treat the validation and test sets as if they were hidden datasets. So we only use the train set to determine the mean and std to avoid biasing our training process."
   ]
  },
  {
   "cell_type": "code",
   "execution_count": 79,
   "metadata": {
    "colab": {},
    "colab_type": "code",
    "id": "csHkTwpyUvt4"
   },
   "outputs": [],
   "source": [
    "# Standardize\n",
    "X_train = standardize_data(X_train, X_mean, X_std)\n",
    "y_train = standardize_data(y_train, y_mean, y_std)\n",
    "X_val = standardize_data(X_val, X_mean, X_std)\n",
    "y_val = standardize_data(y_val, y_mean, y_std)\n",
    "X_test = standardize_data(X_test, X_mean, X_std)\n",
    "y_test = standardize_data(y_test, y_mean, y_std)"
   ]
  },
  {
   "cell_type": "code",
   "execution_count": 80,
   "metadata": {
    "colab": {
     "base_uri": "https://localhost:8080/",
     "height": 119
    },
    "colab_type": "code",
    "executionInfo": {
     "elapsed": 3655,
     "status": "ok",
     "timestamp": 1583943489810,
     "user": {
      "displayName": "Goku Mohandas",
      "photoUrl": "https://lh3.googleusercontent.com/a-/AOh14GjMIOf3R_zwS_zZx4ZyPMtQe0lOkGpPOEUEKWpM7g=s64",
      "userId": "00378334517810298963"
     },
     "user_tz": 420
    },
    "id": "qKkTM0n1V8SN",
    "outputId": "03649f0a-29d5-4e98-b2a6-d1dce6370fb8"
   },
   "outputs": [
    {
     "name": "stdout",
     "output_type": "stream",
     "text": [
      "X_train: mean: -0.0, std: 1.0\n",
      "y_train: mean: 0.0, std: 1.0\n",
      "X_val: mean: -0.5, std: 0.5\n",
      "y_val: mean: -0.6, std: 0.5\n",
      "X_test: mean: -0.6, std: 0.9\n",
      "y_test: mean: -0.6, std: 0.9\n"
     ]
    }
   ],
   "source": [
    "# Check (means should be ~0 and std should be ~1)\n",
    "print (f\"X_train: mean: {np.mean(X_train, axis=0)[0]:.1f}, std: {np.std(X_train, axis=0)[0]:.1f}\")\n",
    "print (f\"y_train: mean: {np.mean(y_train, axis=0)[0]:.1f}, std: {np.std(y_train, axis=0)[0]:.1f}\")\n",
    "print (f\"X_val: mean: {np.mean(X_val, axis=0)[0]:.1f}, std: {np.std(X_val, axis=0)[0]:.1f}\")\n",
    "print (f\"y_val: mean: {np.mean(y_val, axis=0)[0]:.1f}, std: {np.std(y_val, axis=0)[0]:.1f}\")\n",
    "print (f\"X_test: mean: {np.mean(X_test, axis=0)[0]:.1f}, std: {np.std(X_test, axis=0)[0]:.1f}\")\n",
    "print (f\"y_test: mean: {np.mean(y_test, axis=0)[0]:.1f}, std: {np.std(y_test, axis=0)[0]:.1f}\")"
   ]
  },
  {
   "attachments": {},
   "cell_type": "markdown",
   "metadata": {
    "colab_type": "text",
    "id": "3xQZ0Hbln6TR"
   },
   "source": [
    "## Weights\n",
    "\n",
    "Our goal is to learn a linear model $\\hat{y}$ that models $y$ given $X$. \n",
    "\n",
    "$\\hat{y} = XW + b$\n",
    "* $\\hat{y}$ = predictions | $\\in \\mathbb{R}^{NX1}$ ($N$ is the number of samples)\n",
    "* $X$ = inputs | $\\in \\mathbb{R}^{NXD}$ ($D$ is the number of features)\n",
    "* $W$ = weights | $\\in \\mathbb{R}^{DX1}$ \n",
    "* $b$ = bias | $\\in \\mathbb{R}^{1}$ \n",
    "\n",
    "1. Randomly initialize the model's weights $W$."
   ]
  },
  {
   "cell_type": "code",
   "execution_count": 81,
   "metadata": {
    "colab": {},
    "colab_type": "code",
    "id": "aAOAboM0oFbV"
   },
   "outputs": [
    {
     "name": "stdout",
     "output_type": "stream",
     "text": [
      "W: (1, 1)\n",
      "b: (1, 1)\n"
     ]
    }
   ],
   "source": [
    "INPUT_DIM = X_train.shape[1] # X is 1-dimensional\n",
    "OUTPUT_DIM = y_train.shape[1] # y is 1-dimensional\n",
    "\n",
    "# Initialize random weights\n",
    "W = 0.01 * np.random.randn(INPUT_DIM, OUTPUT_DIM)\n",
    "b = np.zeros((1, 1))\n",
    "print (f\"W: {W.shape}\")\n",
    "print (f\"b: {b.shape}\")"
   ]
  },
  {
   "attachments": {},
   "cell_type": "markdown",
   "metadata": {
    "colab_type": "text",
    "id": "tOqP0jrBoMMd"
   },
   "source": [
    "## Model\n",
    "\n",
    "2. Feed inputs $X$ into the model to receive the predictions $\\hat{y}$.\n",
    "  * $\\hat{y} = XW + b$"
   ]
  },
  {
   "cell_type": "code",
   "execution_count": 82,
   "metadata": {
    "colab": {
     "base_uri": "https://localhost:8080/",
     "height": 34
    },
    "colab_type": "code",
    "executionInfo": {
     "elapsed": 3581,
     "status": "ok",
     "timestamp": 1583943489812,
     "user": {
      "displayName": "Goku Mohandas",
      "photoUrl": "https://lh3.googleusercontent.com/a-/AOh14GjMIOf3R_zwS_zZx4ZyPMtQe0lOkGpPOEUEKWpM7g=s64",
      "userId": "00378334517810298963"
     },
     "user_tz": 420
    },
    "id": "-TBnfN4mkVa6",
    "outputId": "b6ebef5f-6e38-4f6c-ca8e-4890e0fdf2f1"
   },
   "outputs": [
    {
     "name": "stdout",
     "output_type": "stream",
     "text": [
      "y_pred: (35, 1)\n"
     ]
    }
   ],
   "source": [
    "# Forward pass [NX1] · [1X1] = [NX1]\n",
    "y_pred = np.dot(X_train, W) + b\n",
    "print (f\"y_pred: {y_pred.shape}\")"
   ]
  },
  {
   "attachments": {},
   "cell_type": "markdown",
   "metadata": {
    "colab_type": "text",
    "id": "hcvVc7UkWyMx"
   },
   "source": [
    "## Loss\n",
    "3. Compare the predictions $\\hat{y}$ with the actual target values $y$ using the objective (cost) function to determine the loss $J$. A common objective function for linear regression is mean squared error (MSE). This function calculates the difference between the predicted and target values and squares it.\n",
    "\n",
    "  * $J(\\theta) = MSE = \\frac{1}{N} \\sum_{i-1}^{N} (y_i - \\hat{y}_i)^2 $\n",
    "    * ${y}$ = ground truth | $\\in \\mathbb{R}^{NX1}$\n",
    "    * $\\hat{y}$ = predictions | $\\in \\mathbb{R}^{NX1}$"
   ]
  },
  {
   "cell_type": "code",
   "execution_count": 83,
   "metadata": {
    "colab": {
     "base_uri": "https://localhost:8080/",
     "height": 34
    },
    "colab_type": "code",
    "executionInfo": {
     "elapsed": 3551,
     "status": "ok",
     "timestamp": 1583943489813,
     "user": {
      "displayName": "Goku Mohandas",
      "photoUrl": "https://lh3.googleusercontent.com/a-/AOh14GjMIOf3R_zwS_zZx4ZyPMtQe0lOkGpPOEUEKWpM7g=s64",
      "userId": "00378334517810298963"
     },
     "user_tz": 420
    },
    "id": "h30Y6v5FoPBL",
    "outputId": "c8f37ccd-e0c6-47d5-fc2a-38fd79ffdaa7"
   },
   "outputs": [
    {
     "name": "stdout",
     "output_type": "stream",
     "text": [
      "loss: 0.99\n"
     ]
    }
   ],
   "source": [
    "# Loss\n",
    "N = len(y_train)\n",
    "loss = (1/N) * np.sum((y_train - y_pred)**2)\n",
    "\n",
    "print (f\"loss: {loss:.2f}\")"
   ]
  },
  {
   "attachments": {},
   "cell_type": "markdown",
   "metadata": {
    "colab_type": "text",
    "id": "yBdMI-Xxoazo"
   },
   "source": [
    "## Gradients\n",
    "4. Calculate the gradient of loss $J(\\theta)$ w.r.t to the model weights.\n",
    "  * $J(\\theta) = \\frac{1}{N} \\sum_i (y_i - \\hat{y}_i)^2  = \\frac{1}{N}\\sum_i (y_i - X_iW)^2 $\n",
    "    * $\\frac{\\partial{J}}{\\partial{W}} = -\\frac{2}{N} \\sum_i (y_i - X_iW) X_i = -\\frac{2}{N} \\sum_i (y_i - \\hat{y}_i) X_i$\n",
    "    * $\\frac{\\partial{J}}{\\partial{b}} = -\\frac{2}{N} \\sum_i (y_i - X_iW)1 = -\\frac{2}{N} \\sum_i (y_i - \\hat{y}_i)1$"
   ]
  },
  {
   "cell_type": "code",
   "execution_count": 84,
   "metadata": {
    "colab": {},
    "colab_type": "code",
    "id": "U5zrZ2j4oPYX"
   },
   "outputs": [],
   "source": [
    "# Backpropagation\n",
    "dW = -(2/N) * np.sum((y_train - y_pred) * X_train)\n",
    "db = -(2/N) * np.sum((y_train - y_pred) * 1)"
   ]
  },
  {
   "cell_type": "markdown",
   "metadata": {
    "colab_type": "text",
    "id": "_sIznBOQrFtw"
   },
   "source": [
    "**NOTE**: The gradient is the derivative, or the rate of change of a function. It's a vector that points in the direction of greatest increase of a function. For example the gradient of our loss function ($J$) with respect to our weights ($W$) will tell us how to change W so we can maximize $J$. However, we want to minimize our loss so we subtract the gradient from $W$. "
   ]
  },
  {
   "attachments": {},
   "cell_type": "markdown",
   "metadata": {
    "colab_type": "text",
    "id": "4Hs2ikYNpSSd"
   },
   "source": [
    "## Update weights\n",
    "\n",
    "5. Update the weights $W$ using a small learning rate $\\alpha$.\n",
    "  * $W = W - \\alpha\\frac{\\partial{J}}{\\partial{W}}$\n",
    "  * $b = b - \\alpha\\frac{\\partial{J}}{\\partial{b}}$"
   ]
  },
  {
   "cell_type": "code",
   "execution_count": 85,
   "metadata": {
    "colab": {},
    "colab_type": "code",
    "id": "rKuOCcjep3ND"
   },
   "outputs": [],
   "source": [
    "LEARNING_RATE = 1e-1\n",
    "\n",
    "# Update weights\n",
    "W += -LEARNING_RATE * dW\n",
    "b += -LEARNING_RATE * db"
   ]
  },
  {
   "cell_type": "markdown",
   "metadata": {
    "colab_type": "text",
    "id": "hYijMGqvpigf"
   },
   "source": [
    "**NOTE**: The learning rate $\\alpha$ is a way to control how much we update the weights by. If we choose a small learning rate, it may take a long time for our model to train. However, if we choose a large learning rate, we may overshoot and our training will never converge. The specific learning rate depends on our data and the type of models we use but it's typically good to explore in the range of $[1e^{-8}, 1e^{-1}]$. We'll explore learning rate update stratagies in later lessons."
   ]
  },
  {
   "attachments": {},
   "cell_type": "markdown",
   "metadata": {
    "colab_type": "text",
    "id": "745G2w_rrBZl"
   },
   "source": [
    "## Training\n",
    "6. Repeat steps 2 - 5 to minimize the loss and train the model."
   ]
  },
  {
   "cell_type": "code",
   "execution_count": 86,
   "metadata": {
    "colab": {
     "base_uri": "https://localhost:8080/",
     "height": 187
    },
    "colab_type": "code",
    "executionInfo": {
     "elapsed": 3788,
     "status": "ok",
     "timestamp": 1583943490085,
     "user": {
      "displayName": "Goku Mohandas",
      "photoUrl": "https://lh3.googleusercontent.com/a-/AOh14GjMIOf3R_zwS_zZx4ZyPMtQe0lOkGpPOEUEKWpM7g=s64",
      "userId": "00378334517810298963"
     },
     "user_tz": 420
    },
    "id": "89vkuOZdoPcK",
    "outputId": "c517a2ce-3d24-4f33-a18c-463ae38accd5"
   },
   "outputs": [
    {
     "name": "stdout",
     "output_type": "stream",
     "text": [
      "Epoch: 0, loss: 0.990\n",
      "Epoch: 10, loss: 0.039\n",
      "Epoch: 20, loss: 0.028\n",
      "Epoch: 30, loss: 0.028\n",
      "Epoch: 40, loss: 0.028\n",
      "Epoch: 50, loss: 0.028\n",
      "Epoch: 60, loss: 0.028\n",
      "Epoch: 70, loss: 0.028\n",
      "Epoch: 80, loss: 0.028\n",
      "Epoch: 90, loss: 0.028\n"
     ]
    }
   ],
   "source": [
    "NUM_EPOCHS = 100\n",
    "\n",
    "# Initialize random weights\n",
    "W = 0.01 * np.random.randn(INPUT_DIM, OUTPUT_DIM)\n",
    "b = np.zeros((1, ))\n",
    "\n",
    "# Training loop\n",
    "for epoch_num in range(NUM_EPOCHS):\n",
    "\n",
    "    # Forward pass [NX1] · [1X1] = [NX1]\n",
    "    y_pred = np.dot(X_train, W) + b\n",
    "\n",
    "    # Loss\n",
    "    loss = (1/len(y_train)) * np.sum((y_train - y_pred)**2)\n",
    "\n",
    "    # show progress\n",
    "    if epoch_num%10 == 0:\n",
    "        print (f\"Epoch: {epoch_num}, loss: {loss:.3f}\")\n",
    "\n",
    "    # Backpropagation\n",
    "    dW = -(2/N) * np.sum((y_train - y_pred) * X_train)\n",
    "    db = -(2/N) * np.sum((y_train - y_pred) * 1)\n",
    "\n",
    "    # Update weights\n",
    "    W += -LEARNING_RATE * dW\n",
    "    b += -LEARNING_RATE * db"
   ]
  },
  {
   "attachments": {},
   "cell_type": "markdown",
   "metadata": {
    "colab_type": "text",
    "id": "emgsY5TJXZ7R"
   },
   "source": [
    "## Evaluation"
   ]
  },
  {
   "cell_type": "code",
   "execution_count": 87,
   "metadata": {
    "colab": {},
    "colab_type": "code",
    "id": "cNV_o2_arQNU"
   },
   "outputs": [
    {
     "name": "stdout",
     "output_type": "stream",
     "text": [
      "train_MSE: 0.03, test_MSE: 0.01\n"
     ]
    }
   ],
   "source": [
    "# Predictions \n",
    "pred_train = W*X_train + b\n",
    "pred_test = W*X_test + b\n",
    "\n",
    "# MSE\n",
    "train_mse = np.mean((y_train - pred_train) ** 2)\n",
    "test_mse = np.mean((y_test - pred_test) ** 2)\n",
    "print (f\"train_MSE: {train_mse:.2f}, test_MSE: {test_mse:.2f}\")"
   ]
  },
  {
   "cell_type": "code",
   "execution_count": 88,
   "metadata": {
    "colab": {
     "base_uri": "https://localhost:8080/",
     "height": 336
    },
    "colab_type": "code",
    "executionInfo": {
     "elapsed": 3712,
     "status": "ok",
     "timestamp": 1583943490087,
     "user": {
      "displayName": "Goku Mohandas",
      "photoUrl": "https://lh3.googleusercontent.com/a-/AOh14GjMIOf3R_zwS_zZx4ZyPMtQe0lOkGpPOEUEKWpM7g=s64",
      "userId": "00378334517810298963"
     },
     "user_tz": 420
    },
    "id": "59OcpgFArYw_",
    "outputId": "00ac0bcf-f58e-49e0-d1d6-18caa3ba782c"
   },
   "outputs": [
    {
     "data": {
      "image/png": "[encoded data removed]",
      "text/plain": [
       "<Figure size 1040x390 with 2 Axes>"
      ]
     },
     "metadata": {},
     "output_type": "display_data"
    }
   ],
   "source": [
    "# Figure size\n",
    "plt.figure(figsize=(8,3))\n",
    "\n",
    "# Plot train data\n",
    "plt.subplot(1, 2, 1)\n",
    "plt.title(\"Train\")\n",
    "plt.scatter(X_train, y_train, label='y_train')\n",
    "plt.plot(X_train, pred_train, color='red', linewidth=1, linestyle='-', label='model')\n",
    "plt.legend(loc='lower right')\n",
    "\n",
    "# Plot test data\n",
    "plt.subplot(1, 2, 2)\n",
    "plt.title(\"Test\")\n",
    "plt.scatter(X_test, y_test, label='y_test')\n",
    "plt.plot(X_test, pred_test, color='red', linewidth=1, linestyle='-', label='model')\n",
    "plt.legend(loc='lower right')\n",
    "\n",
    "# Show plots\n",
    "plt.show()"
   ]
  },
  {
   "attachments": {},
   "cell_type": "markdown",
   "metadata": {
    "colab_type": "text",
    "id": "83DaPyLrrqmE"
   },
   "source": [
    "## Interpretability\n",
    "\n",
    "Since we standardized our inputs and outputs, our weights were fit to those standardized values. So we need to unstandardize our weights so we can compare them to our true weight (3.5).\n",
    "\n",
    "Note that both X and y were standardized.\n",
    "\n",
    "$\\hat{y}_{scaled} = b_{scaled} + \\sum_{j=1}^{k}W_{{scaled}_j}x_{{scaled}_j}$\n",
    "\n",
    "where\n",
    "* $y_{scaled} = \\frac{\\hat{y} - \\bar{y}}{\\sigma_y}$\n",
    "* $x_{scaled} = \\frac{x_j - \\bar{x}_j}{\\sigma_j}$\n",
    "\n",
    "then\n",
    "\n",
    "$\\frac{\\hat{y} - \\bar{y}}{\\sigma_y} = b_{scaled} + \\sum_{j=1}^{k}W_{{scaled}_j}\\frac{x_j - \\bar{x}_j}{\\sigma_j}$\n",
    "\n",
    "$ \\hat{y}_{scaled} = \\frac{\\hat{y}_{unscaled} - \\bar{y}}{\\sigma_y} = {b_{scaled}} + \\sum_{j=1}^{k} {W}_{{scaled}_j} (\\frac{x_j - \\bar{x}_j}{\\sigma_j}) $\n",
    "\n",
    "$\\hat{y}_{unscaled} = b_{scaled}\\sigma_y + \\bar{y} - \\sum_{j=1}^{k} {W}_{{scaled}_j}(\\frac{\\sigma_y}{\\sigma_j})\\bar{x}_j + \\sum_{j=1}^{k}{W}_{{scaled}_j}(\\frac{\\sigma_y}{\\sigma_j})x_j $\n",
    "\n",
    "In the expression above, we can see the expression $\\hat{y}_{unscaled} = W_{unscaled}x + b_{unscaled}$, where\n",
    "\n",
    "* $W_{unscaled} = \\sum_{j=1}^{k}{W}_j(\\frac{\\sigma_y}{\\sigma_j}) $\n",
    "\n",
    "* $b_{unscaled} = b_{scaled}\\sigma_y + \\bar{y} - \\sum_{j=1}^{k} {W}_j(\\frac{\\sigma_y}{\\sigma_j})\\bar{x}_j$"
   ]
  },
  {
   "cell_type": "code",
   "execution_count": 89,
   "metadata": {
    "colab": {
     "base_uri": "https://localhost:8080/",
     "height": 51
    },
    "colab_type": "code",
    "executionInfo": {
     "elapsed": 3685,
     "status": "ok",
     "timestamp": 1583943490087,
     "user": {
      "displayName": "Goku Mohandas",
      "photoUrl": "https://lh3.googleusercontent.com/a-/AOh14GjMIOf3R_zwS_zZx4ZyPMtQe0lOkGpPOEUEKWpM7g=s64",
      "userId": "00378334517810298963"
     },
     "user_tz": 420
    },
    "id": "uROsFZxYrZYu",
    "outputId": "e0d1d937-e630-42c3-e9d5-07c206332dd0"
   },
   "outputs": [
    {
     "name": "stdout",
     "output_type": "stream",
     "text": [
      "[actual] y = 3.5X + noise\n",
      "[model] y_hat = 3.4X + 7.8\n"
     ]
    }
   ],
   "source": [
    "# Unscaled weights\n",
    "W_unscaled = W * (y_std/X_std)\n",
    "b_unscaled = b * y_std + y_mean - np.sum(W_unscaled*X_mean)\n",
    "print (\"[actual] y = 3.5X + noise\")\n",
    "print (f\"[model] y_hat = {W_unscaled[0][0]:.1f}X + {b_unscaled[0]:.1f}\") "
   ]
  },
  {
   "attachments": {},
   "cell_type": "markdown",
   "metadata": {
    "colab_type": "text",
    "id": "FP6JKnmtrzIK"
   },
   "source": [
    "# Implement using PyTorch\n",
    "Now that we've implemented linear regression with Numpy, let's do the same with PyTorch. "
   ]
  },
  {
   "cell_type": "code",
   "execution_count": 90,
   "metadata": {
    "colab": {},
    "colab_type": "code",
    "id": "F0B3KaLNZPAn"
   },
   "outputs": [
    {
     "data": {
      "text/plain": [
       "<torch._C.Generator at 0x2d7bb871db0>"
      ]
     },
     "execution_count": 90,
     "metadata": {},
     "output_type": "execute_result"
    }
   ],
   "source": [
    "import torch\n",
    "\n",
    "# Set seed for reproducibility\n",
    "torch.manual_seed(SEED)"
   ]
  },
  {
   "attachments": {},
   "cell_type": "markdown",
   "metadata": {
    "colab_type": "text",
    "id": "zNJFgUY0hcDZ"
   },
   "source": [
    "## Split data\n",
    "\n",
    "When we're working with PyTorch we normally use the scikit learn's [splitting functions](https://scikit-learn.org/stable/modules/classes.html#module-sklearn.model_selection) to split our data."
   ]
  },
  {
   "cell_type": "code",
   "execution_count": 91,
   "metadata": {
    "colab": {},
    "colab_type": "code",
    "id": "xtLx53hQhCp7"
   },
   "outputs": [],
   "source": [
    "from sklearn.model_selection import train_test_split\n",
    "\n",
    "def train_val_test_split(X, y, val_size, test_size, shuffle):\n",
    "    \"\"\"Split data into train/val/test datasets.\n",
    "    \"\"\"\n",
    "    X_train, X_test, y_train, y_test = train_test_split(X, y, test_size=test_size, shuffle=shuffle)\n",
    "    X_train, X_val, y_train, y_val = train_test_split(X_train, y_train, test_size=val_size, shuffle=shuffle)\n",
    "    return X_train, X_val, X_test, y_train, y_val, y_test"
   ]
  },
  {
   "cell_type": "markdown",
   "metadata": {
    "colab_type": "text",
    "id": "VZJMdevAO8Cg"
   },
   "source": [
    "The `train_val_test_split` function essentially splits our data twice. First, we separate out the test set. And then we separate the remaining other set into train and validation sets. "
   ]
  },
  {
   "cell_type": "code",
   "execution_count": 92,
   "metadata": {
    "colab": {
     "base_uri": "https://localhost:8080/",
     "height": 68
    },
    "colab_type": "code",
    "executionInfo": {
     "elapsed": 3635,
     "status": "ok",
     "timestamp": 1583943490090,
     "user": {
      "displayName": "Goku Mohandas",
      "photoUrl": "https://lh3.googleusercontent.com/a-/AOh14GjMIOf3R_zwS_zZx4ZyPMtQe0lOkGpPOEUEKWpM7g=s64",
      "userId": "00378334517810298963"
     },
     "user_tz": 420
    },
    "id": "hu0t5R7lhCnU",
    "outputId": "b106d7ce-9641-4ee3-b5b1-e2120da41402"
   },
   "outputs": [
    {
     "name": "stdout",
     "output_type": "stream",
     "text": [
      "X_train: (35, 1), y_train: (35, 1)\n",
      "X_val: (7, 1), y_test: (7, 1)\n",
      "X_test: (8, 1), y_test: (8, 1)\n"
     ]
    }
   ],
   "source": [
    "TRAIN_SIZE = 0.7\n",
    "VAL_SIZE = 0.15\n",
    "TEST_SIZE = 0.15\n",
    "SHUFFLE = True\n",
    "\n",
    "# Create data splits\n",
    "X_train, X_val, X_test, y_train, y_val, y_test = train_val_test_split(\n",
    "    X, y, val_size=VAL_SIZE, test_size=TEST_SIZE, shuffle=SHUFFLE)\n",
    "print (f\"X_train: {X_train.shape}, y_train: {y_train.shape}\")\n",
    "print (f\"X_val: {X_val.shape}, y_test: {y_val.shape}\")\n",
    "print (f\"X_test: {X_test.shape}, y_test: {y_test.shape}\")"
   ]
  },
  {
   "attachments": {},
   "cell_type": "markdown",
   "metadata": {
    "colab_type": "text",
    "id": "8LSpLJkgkVRn"
   },
   "source": [
    "## Standardize data"
   ]
  },
  {
   "cell_type": "markdown",
   "metadata": {
    "colab_type": "text",
    "id": "mM9C5xIeT5C8"
   },
   "source": [
    "We can also use scikit learn to do [preprocessing and normalization](https://scikit-learn.org/stable/modules/classes.html#module-sklearn.preprocessing). "
   ]
  },
  {
   "cell_type": "code",
   "execution_count": 93,
   "metadata": {
    "colab": {},
    "colab_type": "code",
    "id": "M9FOu9-kkVeh"
   },
   "outputs": [],
   "source": [
    "from sklearn.preprocessing import StandardScaler\n",
    "\n",
    "# Standardize the data (mean=0, std=1) using training data\n",
    "X_scaler = StandardScaler().fit(X_train)\n",
    "y_scaler = StandardScaler().fit(y_train)"
   ]
  },
  {
   "cell_type": "code",
   "execution_count": 94,
   "metadata": {
    "colab": {},
    "colab_type": "code",
    "id": "YNWqEGsYkViI"
   },
   "outputs": [],
   "source": [
    "# Apply scaler on training and test data\n",
    "X_train = X_scaler.transform(X_train)\n",
    "y_train = y_scaler.transform(y_train).ravel().reshape(-1, 1)\n",
    "X_val = X_scaler.transform(X_val)\n",
    "y_val = y_scaler.transform(y_val).ravel().reshape(-1, 1)\n",
    "X_test = X_scaler.transform(X_test)\n",
    "y_test = y_scaler.transform(y_test).ravel().reshape(-1, 1)"
   ]
  },
  {
   "cell_type": "code",
   "execution_count": 95,
   "metadata": {
    "colab": {
     "base_uri": "https://localhost:8080/",
     "height": 119
    },
    "colab_type": "code",
    "executionInfo": {
     "elapsed": 3598,
     "status": "ok",
     "timestamp": 1583943490091,
     "user": {
      "displayName": "Goku Mohandas",
      "photoUrl": "https://lh3.googleusercontent.com/a-/AOh14GjMIOf3R_zwS_zZx4ZyPMtQe0lOkGpPOEUEKWpM7g=s64",
      "userId": "00378334517810298963"
     },
     "user_tz": 420
    },
    "id": "aSAH9M4UnDAm",
    "outputId": "a024f8d5-1e63-4377-b8f0-7c6c5e3222b9"
   },
   "outputs": [
    {
     "name": "stdout",
     "output_type": "stream",
     "text": [
      "X_train: mean: -0.0, std: 1.0\n",
      "y_train: mean: 0.0, std: 1.0\n",
      "X_val: mean: 0.1, std: 0.6\n",
      "y_val: mean: 0.1, std: 0.7\n",
      "X_test: mean: -0.3, std: 0.7\n",
      "y_test: mean: -0.3, std: 0.6\n"
     ]
    }
   ],
   "source": [
    "# Check (means should be ~0 and std should be ~1)\n",
    "print (f\"X_train: mean: {np.mean(X_train, axis=0)[0]:.1f}, std: {np.std(X_train, axis=0)[0]:.1f}\")\n",
    "print (f\"y_train: mean: {np.mean(y_train, axis=0)[0]:.1f}, std: {np.std(y_train, axis=0)[0]:.1f}\")\n",
    "print (f\"X_val: mean: {np.mean(X_val, axis=0)[0]:.1f}, std: {np.std(X_val, axis=0)[0]:.1f}\")\n",
    "print (f\"y_val: mean: {np.mean(y_val, axis=0)[0]:.1f}, std: {np.std(y_val, axis=0)[0]:.1f}\")\n",
    "print (f\"X_test: mean: {np.mean(X_test, axis=0)[0]:.1f}, std: {np.std(X_test, axis=0)[0]:.1f}\")\n",
    "print (f\"y_test: mean: {np.mean(y_test, axis=0)[0]:.1f}, std: {np.std(y_test, axis=0)[0]:.1f}\")"
   ]
  },
  {
   "attachments": {},
   "cell_type": "markdown",
   "metadata": {
    "colab_type": "text",
    "id": "X3u7SbMfbqd9"
   },
   "source": [
    "## Weights"
   ]
  },
  {
   "cell_type": "markdown",
   "metadata": {
    "colab_type": "text",
    "id": "S7FufaY1bzZA"
   },
   "source": [
    "We will be using [Linear layers](https://pytorch.org/docs/stable/nn.html#linear-layers) in our MLP implementation. These layers will act as out weights (and biases).\n",
    "\n",
    "$ z = XW $ "
   ]
  },
  {
   "cell_type": "code",
   "execution_count": 96,
   "metadata": {
    "colab": {},
    "colab_type": "code",
    "id": "WLyU8Y5ZrZl5"
   },
   "outputs": [
    {
     "name": "stdout",
     "output_type": "stream",
     "text": [
      "torch.Size([3, 1])\n",
      "[[ 0.04613046]\n",
      " [ 0.40240282]\n",
      " [-1.0115291 ]]\n"
     ]
    }
   ],
   "source": [
    "from torch import nn\n",
    "\n",
    "# Inputs\n",
    "N = 3 # num samples\n",
    "x = torch.randn(N, INPUT_DIM)\n",
    "print (x.shape)\n",
    "print (x.numpy())"
   ]
  },
  {
   "cell_type": "code",
   "execution_count": 97,
   "metadata": {
    "colab": {
     "base_uri": "https://localhost:8080/",
     "height": 68
    },
    "colab_type": "code",
    "executionInfo": {
     "elapsed": 3553,
     "status": "ok",
     "timestamp": 1583943490093,
     "user": {
      "displayName": "Goku Mohandas",
      "photoUrl": "https://lh3.googleusercontent.com/a-/AOh14GjMIOf3R_zwS_zZx4ZyPMtQe0lOkGpPOEUEKWpM7g=s64",
      "userId": "00378334517810298963"
     },
     "user_tz": 420
    },
    "id": "fFQcVwOrhdhN",
    "outputId": "54599f03-e3f9-47b8-b2ce-cbab17d8993e"
   },
   "outputs": [
    {
     "name": "stdout",
     "output_type": "stream",
     "text": [
      "Linear(in_features=1, out_features=1, bias=True)\n",
      "weights (torch.Size([1, 1])): 0.34761226177215576\n",
      "bias (torch.Size([1])): -0.3370760679244995\n"
     ]
    }
   ],
   "source": [
    "# Weights\n",
    "m = nn.Linear(INPUT_DIM, OUTPUT_DIM)\n",
    "print (m)\n",
    "print (f\"weights ({m.weight.shape}): {m.weight[0][0]}\")\n",
    "print (f\"bias ({m.bias.shape}): {m.bias[0]}\")"
   ]
  },
  {
   "cell_type": "code",
   "execution_count": 98,
   "metadata": {
    "colab": {
     "base_uri": "https://localhost:8080/",
     "height": 85
    },
    "colab_type": "code",
    "executionInfo": {
     "elapsed": 3535,
     "status": "ok",
     "timestamp": 1583943490093,
     "user": {
      "displayName": "Goku Mohandas",
      "photoUrl": "https://lh3.googleusercontent.com/a-/AOh14GjMIOf3R_zwS_zZx4ZyPMtQe0lOkGpPOEUEKWpM7g=s64",
      "userId": "00378334517810298963"
     },
     "user_tz": 420
    },
    "id": "1dvWqTqMhdm0",
    "outputId": "978001d8-3e67-48d1-d594-18379c738042"
   },
   "outputs": [
    {
     "name": "stdout",
     "output_type": "stream",
     "text": [
      "torch.Size([3, 1])\n",
      "[[-0.32104054]\n",
      " [-0.19719592]\n",
      " [-0.68869597]]\n"
     ]
    }
   ],
   "source": [
    "# Forward pass\n",
    "z = m(x) \n",
    "print (z.shape)\n",
    "print (z.detach().numpy())"
   ]
  },
  {
   "attachments": {},
   "cell_type": "markdown",
   "metadata": {
    "colab_type": "text",
    "id": "t2j5_5SopsRF"
   },
   "source": [
    "## Model"
   ]
  },
  {
   "cell_type": "markdown",
   "metadata": {
    "colab_type": "text",
    "id": "phjJCXREb5hG"
   },
   "source": [
    "Our goal is to learn a linear model $\\hat{y}$ that models $y$ given $X$. \n",
    "\n",
    "$\\hat{y} = XW + b$\n",
    "* $\\hat{y}$ = predictions | $\\in \\mathbb{R}^{NX1}$ ($N$ is the number of samples)\n",
    "* $X$ = inputs | $\\in \\mathbb{R}^{NXD}$ ($D$ is the number of features)\n",
    "* $W$ = weights | $\\in \\mathbb{R}^{DX1}$ \n",
    "* $b$ = bias | $\\in \\mathbb{R}^{1}$ "
   ]
  },
  {
   "cell_type": "code",
   "execution_count": 99,
   "metadata": {
    "colab": {},
    "colab_type": "code",
    "id": "cBQtSQIorZiB"
   },
   "outputs": [],
   "source": [
    "class LinearRegression(nn.Module):\n",
    "    def __init__(self, input_dim, output_dim):\n",
    "        super(LinearRegression, self).__init__()\n",
    "        self.fc1 = nn.Linear(input_dim, output_dim)\n",
    "        \n",
    "    def forward(self, x_in):\n",
    "        y_pred = self.fc1(x_in)\n",
    "        return y_pred"
   ]
  },
  {
   "cell_type": "code",
   "execution_count": 100,
   "metadata": {
    "colab": {
     "base_uri": "https://localhost:8080/",
     "height": 306
    },
    "colab_type": "code",
    "executionInfo": {
     "elapsed": 3510,
     "status": "ok",
     "timestamp": 1583943490096,
     "user": {
      "displayName": "Goku Mohandas",
      "photoUrl": "https://lh3.googleusercontent.com/a-/AOh14GjMIOf3R_zwS_zZx4ZyPMtQe0lOkGpPOEUEKWpM7g=s64",
      "userId": "00378334517810298963"
     },
     "user_tz": 420
    },
    "id": "0U7wD5a6VSZ8",
    "outputId": "4c25c8c6-e1f0-4022-d1a0-e99e6e05fca9"
   },
   "outputs": [
    {
     "data": {
      "text/plain": [
       "==========================================================================================\n",
       "Layer (type:depth-idx)                   Output Shape              Param #\n",
       "==========================================================================================\n",
       "LinearRegression                         [1]                       --\n",
       "├─Linear: 1-1                            [1]                       2\n",
       "==========================================================================================\n",
       "Total params: 2\n",
       "Trainable params: 2\n",
       "Non-trainable params: 0\n",
       "Total mult-adds (M): 0.00\n",
       "==========================================================================================\n",
       "Input size (MB): 0.00\n",
       "Forward/backward pass size (MB): 0.00\n",
       "Params size (MB): 0.00\n",
       "Estimated Total Size (MB): 0.00\n",
       "=========================================================================================="
      ]
     },
     "execution_count": 100,
     "metadata": {},
     "output_type": "execute_result"
    }
   ],
   "source": [
    "from torchinfo import summary\n",
    "\n",
    "# Initialize model\n",
    "model = LinearRegression(input_dim=INPUT_DIM, output_dim=OUTPUT_DIM)\n",
    "# print (model.named_parameters)\n",
    "summary(model, input_size=(INPUT_DIM,)) # -1 is the batch size"
   ]
  },
  {
   "attachments": {},
   "cell_type": "markdown",
   "metadata": {
    "colab_type": "text",
    "id": "pYKh54SKoma8"
   },
   "source": [
    "## Loss"
   ]
  },
  {
   "cell_type": "code",
   "execution_count": 101,
   "metadata": {
    "colab": {
     "base_uri": "https://localhost:8080/",
     "height": 34
    },
    "colab_type": "code",
    "executionInfo": {
     "elapsed": 3480,
     "status": "ok",
     "timestamp": 1583943490096,
     "user": {
      "displayName": "Goku Mohandas",
      "photoUrl": "https://lh3.googleusercontent.com/a-/AOh14GjMIOf3R_zwS_zZx4ZyPMtQe0lOkGpPOEUEKWpM7g=s64",
      "userId": "00378334517810298963"
     },
     "user_tz": 420
    },
    "id": "gesdrs3Vo0nq",
    "outputId": "f5f08948-2199-4888-80e8-e5b0274ac233"
   },
   "outputs": [
    {
     "name": "stdout",
     "output_type": "stream",
     "text": [
      "Loss:  0.75\n"
     ]
    }
   ],
   "source": [
    "loss_fn = nn.MSELoss()\n",
    "y_pred = torch.Tensor([0., 0., 1., 1.])\n",
    "y_true =  torch.Tensor([1., 1., 1., 0.])\n",
    "loss = loss_fn(y_pred, y_true)\n",
    "print('Loss: ', loss.numpy())"
   ]
  },
  {
   "attachments": {},
   "cell_type": "markdown",
   "metadata": {
    "colab_type": "text",
    "id": "mctyzTveoegu"
   },
   "source": [
    "## Optimizer"
   ]
  },
  {
   "cell_type": "markdown",
   "metadata": {
    "colab_type": "text",
    "id": "PZ6IZ5pYcl1a"
   },
   "source": [
    "When we implemented linear regression with just NumPy, we used batch gradient descent to update our weights. But there are actually many different [gradient descent optimization algorithms](https://ruder.io/optimizing-gradient-descent/) to choose from and it depends on the situation. However, the [ADAM optimizer](https://ruder.io/optimizing-gradient-descent/index.html#gradientdescentoptimizationalgorithms/#adam) has become a standard algorithm for most cases. "
   ]
  },
  {
   "cell_type": "code",
   "execution_count": 102,
   "metadata": {
    "colab": {},
    "colab_type": "code",
    "id": "8EviGS0ldLvN"
   },
   "outputs": [],
   "source": [
    "from torch.optim import Adam\n",
    "\n",
    "# Optimizer\n",
    "optimizer = Adam(model.parameters(), lr=LEARNING_RATE) "
   ]
  },
  {
   "attachments": {},
   "cell_type": "markdown",
   "metadata": {
    "colab_type": "text",
    "id": "nXbZVkMAyIpL"
   },
   "source": [
    "## Training"
   ]
  },
  {
   "cell_type": "code",
   "execution_count": 103,
   "metadata": {
    "colab": {},
    "colab_type": "code",
    "id": "O6zoQ-fOghLM"
   },
   "outputs": [],
   "source": [
    "# Convert data to tensors\n",
    "X_train = torch.Tensor(X_train)\n",
    "y_train = torch.Tensor(y_train)\n",
    "X_val = torch.Tensor(X_val)\n",
    "y_val = torch.Tensor(y_val)\n",
    "X_test = torch.Tensor(X_test)\n",
    "y_test = torch.Tensor(y_test)"
   ]
  },
  {
   "cell_type": "code",
   "execution_count": 104,
   "metadata": {
    "colab": {
     "base_uri": "https://localhost:8080/",
     "height": 102
    },
    "colab_type": "code",
    "executionInfo": {
     "elapsed": 3459,
     "status": "ok",
     "timestamp": 1583943490098,
     "user": {
      "displayName": "Goku Mohandas",
      "photoUrl": "https://lh3.googleusercontent.com/a-/AOh14GjMIOf3R_zwS_zZx4ZyPMtQe0lOkGpPOEUEKWpM7g=s64",
      "userId": "00378334517810298963"
     },
     "user_tz": 420
    },
    "id": "1xwV9WvBhVaF",
    "outputId": "bbbdfd4e-3977-490f-e806-d9e000f022c1"
   },
   "outputs": [
    {
     "name": "stdout",
     "output_type": "stream",
     "text": [
      "Epoch: 0 | loss: 0.22\n",
      "Epoch: 20 | loss: 0.03\n",
      "Epoch: 40 | loss: 0.02\n",
      "Epoch: 60 | loss: 0.02\n",
      "Epoch: 80 | loss: 0.02\n"
     ]
    }
   ],
   "source": [
    "# Training\n",
    "for epoch in range(NUM_EPOCHS):\n",
    "    # Forward pass\n",
    "    y_pred = model(X_train)\n",
    "\n",
    "    # Loss\n",
    "    loss = loss_fn(y_pred, y_train)\n",
    "\n",
    "    # Zero all gradients\n",
    "    optimizer.zero_grad()\n",
    "\n",
    "    # Backward pass\n",
    "    loss.backward()\n",
    "\n",
    "    # Update weights\n",
    "    optimizer.step()\n",
    "\n",
    "    if epoch%20==0: \n",
    "        print (f\"Epoch: {epoch} | loss: {loss:.2f}\")"
   ]
  },
  {
   "attachments": {},
   "cell_type": "markdown",
   "metadata": {
    "colab_type": "text",
    "id": "vj7cpeCsi6tf"
   },
   "source": [
    "## Evaluation"
   ]
  },
  {
   "cell_type": "code",
   "execution_count": 105,
   "metadata": {
    "colab": {},
    "colab_type": "code",
    "id": "LeQm-H2vi6A7"
   },
   "outputs": [],
   "source": [
    "# Predictions\n",
    "pred_train = model(X_train)\n",
    "pred_test = model(X_test)"
   ]
  },
  {
   "cell_type": "code",
   "execution_count": 106,
   "metadata": {
    "colab": {
     "base_uri": "https://localhost:8080/",
     "height": 51
    },
    "colab_type": "code",
    "executionInfo": {
     "elapsed": 3444,
     "status": "ok",
     "timestamp": 1583943490099,
     "user": {
      "displayName": "Goku Mohandas",
      "photoUrl": "https://lh3.googleusercontent.com/a-/AOh14GjMIOf3R_zwS_zZx4ZyPMtQe0lOkGpPOEUEKWpM7g=s64",
      "userId": "00378334517810298963"
     },
     "user_tz": 420
    },
    "id": "dnW9b7ZQkA2l",
    "outputId": "c8a78cf8-c12b-4b3b-8398-d131c15c0c85"
   },
   "outputs": [
    {
     "name": "stdout",
     "output_type": "stream",
     "text": [
      "train_error: 0.02\n",
      "test_error: 0.01\n"
     ]
    }
   ],
   "source": [
    "# Performance\n",
    "train_error = loss_fn(pred_train, y_train)\n",
    "test_error = loss_fn(pred_test, y_test)\n",
    "print(f'train_error: {train_error:.2f}')\n",
    "print(f'test_error: {test_error:.2f}')"
   ]
  },
  {
   "cell_type": "markdown",
   "metadata": {
    "colab_type": "text",
    "id": "HdNCjH4ZjnRu"
   },
   "source": [
    "Since we only have one feature, it's easy to visually inspect the model."
   ]
  },
  {
   "cell_type": "code",
   "execution_count": 107,
   "metadata": {
    "colab": {
     "base_uri": "https://localhost:8080/",
     "height": 336
    },
    "colab_type": "code",
    "executionInfo": {
     "elapsed": 3718,
     "status": "ok",
     "timestamp": 1583943490405,
     "user": {
      "displayName": "Goku Mohandas",
      "photoUrl": "https://lh3.googleusercontent.com/a-/AOh14GjMIOf3R_zwS_zZx4ZyPMtQe0lOkGpPOEUEKWpM7g=s64",
      "userId": "00378334517810298963"
     },
     "user_tz": 420
    },
    "id": "h0a-iUi4i6Iy",
    "outputId": "3ea87f22-ba12-42e8-836a-8628ee93f23a"
   },
   "outputs": [
    {
     "data": {
      "image/png": "[encoded data removed]",
      "text/plain": [
       "<Figure size 1040x390 with 2 Axes>"
      ]
     },
     "metadata": {},
     "output_type": "display_data"
    }
   ],
   "source": [
    "# Figure size\n",
    "plt.figure(figsize=(8,3))\n",
    "\n",
    "# Plot train data\n",
    "plt.subplot(1, 2, 1)\n",
    "plt.title(\"Train\")\n",
    "plt.scatter(X_train, y_train, label='y_train')\n",
    "plt.plot(X_train, pred_train.detach().numpy(), color='red', linewidth=1, linestyle='-', label='model')\n",
    "plt.legend(loc='lower right')\n",
    "\n",
    "# Plot test data\n",
    "plt.subplot(1, 2, 2)\n",
    "plt.title(\"Test\")\n",
    "plt.scatter(X_test, y_test, label='y_test')\n",
    "plt.plot(X_test, pred_test.detach().numpy(), color='red', linewidth=1, linestyle='-', label='model')\n",
    "plt.legend(loc='lower right')\n",
    "\n",
    "# Show plots\n",
    "plt.show()"
   ]
  },
  {
   "attachments": {},
   "cell_type": "markdown",
   "metadata": {
    "colab_type": "text",
    "id": "e9ppP7yDmAq7"
   },
   "source": [
    "## Inference"
   ]
  },
  {
   "cell_type": "markdown",
   "metadata": {
    "colab_type": "text",
    "id": "x1EeMpH8mD3f"
   },
   "source": [
    "After training a model, we can use it to predict on new data."
   ]
  },
  {
   "cell_type": "code",
   "execution_count": 108,
   "metadata": {
    "colab": {},
    "colab_type": "code",
    "id": "gyGJ3ossi6Gm"
   },
   "outputs": [],
   "source": [
    "# Feed in your own inputs\n",
    "sample_indices = [10, 15, 25]\n",
    "X_infer = np.array(sample_indices, dtype=np.float32)\n",
    "X_infer = torch.Tensor(X_scaler.transform(X_infer.reshape(-1, 1)))"
   ]
  },
  {
   "cell_type": "markdown",
   "metadata": {
    "colab_type": "text",
    "id": "9PuOcgwlmMST"
   },
   "source": [
    "Recall that we need to unstandardize our predictions.\n",
    "\n",
    "$ \\hat{y}_{scaled} = \\frac{\\hat{y} - \\mu_{\\hat{y}}}{\\sigma_{\\hat{y}}} $\n",
    "\n",
    "$ \\hat{y} = \\hat{y}_{scaled} * \\sigma_{\\hat{y}} + \\mu_{\\hat{y}} $"
   ]
  },
  {
   "cell_type": "code",
   "execution_count": 109,
   "metadata": {
    "colab": {
     "base_uri": "https://localhost:8080/",
     "height": 68
    },
    "colab_type": "code",
    "executionInfo": {
     "elapsed": 3683,
     "status": "ok",
     "timestamp": 1583943490408,
     "user": {
      "displayName": "Goku Mohandas",
      "photoUrl": "https://lh3.googleusercontent.com/a-/AOh14GjMIOf3R_zwS_zZx4ZyPMtQe0lOkGpPOEUEKWpM7g=s64",
      "userId": "00378334517810298963"
     },
     "user_tz": 420
    },
    "id": "j0uQOCzai5-G",
    "outputId": "cd831871-e656-47e0-d7fe-518a0d4fd8b3"
   },
   "outputs": [
    {
     "name": "stdout",
     "output_type": "stream",
     "text": [
      "35.73 (actual) → 42.11 (predicted)\n",
      "59.34 (actual) → 59.17 (predicted)\n",
      "97.04 (actual) → 93.30 (predicted)\n"
     ]
    }
   ],
   "source": [
    "# Unstandardize predictions\n",
    "pred_infer = model(X_infer).detach().numpy() * np.sqrt(y_scaler.var_) + y_scaler.mean_\n",
    "for i, index in enumerate(sample_indices):\n",
    "    print (f\"{df.iloc[index]['y']:.2f} (actual) → {pred_infer[i][0]:.2f} (predicted)\")"
   ]
  },
  {
   "attachments": {},
   "cell_type": "markdown",
   "metadata": {
    "colab_type": "text",
    "id": "1TMS8GvcmWZ0"
   },
   "source": [
    "## Interpretability"
   ]
  },
  {
   "cell_type": "markdown",
   "metadata": {
    "colab_type": "text",
    "id": "jd_eIgQBmYzm"
   },
   "source": [
    "Linear regression offers the great advantage of being highly interpretable. Each feature has a coefficient which signifies its importance/impact on the output variable y. We can interpret our coefficient as follows: by increasing X by 1 unit, we increase y by $W$ (~3.65) units. "
   ]
  },
  {
   "cell_type": "code",
   "execution_count": 110,
   "metadata": {
    "colab": {
     "base_uri": "https://localhost:8080/",
     "height": 51
    },
    "colab_type": "code",
    "executionInfo": {
     "elapsed": 3652,
     "status": "ok",
     "timestamp": 1583943490408,
     "user": {
      "displayName": "Goku Mohandas",
      "photoUrl": "https://lh3.googleusercontent.com/a-/AOh14GjMIOf3R_zwS_zZx4ZyPMtQe0lOkGpPOEUEKWpM7g=s64",
      "userId": "00378334517810298963"
     },
     "user_tz": 420
    },
    "id": "YvIKQ6sVmV-A",
    "outputId": "395b00f7-c394-49da-f919-f236e82bffce"
   },
   "outputs": [
    {
     "name": "stdout",
     "output_type": "stream",
     "text": [
      "[actual] y = 3.5X + noise\n",
      "[model] y_hat = 3.4X + 8.0\n"
     ]
    }
   ],
   "source": [
    "# Unstandardize coefficients \n",
    "W = model.fc1.weight.data.numpy()[0][0]\n",
    "b = model.fc1.bias.data.numpy()[0]\n",
    "W_unscaled = W * (y_scaler.scale_/X_scaler.scale_)\n",
    "b_unscaled = b * y_scaler.scale_ + y_scaler.mean_ - np.sum(W_unscaled*X_scaler.mean_)\n",
    "print (\"[actual] y = 3.5X + noise\")\n",
    "print (f\"[model] y_hat = {W_unscaled[0]:.1f}X + {b_unscaled[0]:.1f}\") "
   ]
  },
  {
   "attachments": {},
   "cell_type": "markdown",
   "metadata": {
    "colab_type": "text",
    "id": "rCEbjZARsmBc"
   },
   "source": [
    "# Regularization\n",
    "\n",
    "Regularization helps decrease overfitting. Below is L2 regularization (ridge regression). There are many forms of regularization but they all work to reduce overfitting in our models. With L2 regularization, we are penalizing the weights with large magnitudes by decaying them. Having certain weights with high magnitudes will lead to preferential bias with the inputs and we want the model to work with all the inputs and not just a select few. There are also other types of regularization like L1 (lasso regression) which is useful for creating sparse models where some feature cofficients are zeroed out, or elastic which combines L1 and L2 penalties. \n",
    "\n",
    "**Note**: Regularization is not just for linear regression. You can use it to regularize any model's weights including the ones we will look at in future lessons."
   ]
  },
  {
   "cell_type": "markdown",
   "metadata": {
    "colab_type": "text",
    "id": "QfVSaAQfspyk"
   },
   "source": [
    "$ J(\\theta) = = \\frac{1}{2}\\sum_{i}(X_iW - y_i)^2 + \\frac{\\lambda}{2}W^TW$\n",
    "\n",
    "$ \\frac{\\partial{J}}{\\partial{W}}  = X (\\hat{y} - y) + \\lambda W $\n",
    "\n",
    "$W = W- \\alpha\\frac{\\partial{J}}{\\partial{W}}$\n",
    "* $\\lambda$ is the regularzation coefficient"
   ]
  },
  {
   "cell_type": "markdown",
   "metadata": {
    "colab_type": "text",
    "id": "o2S08Iexota7"
   },
   "source": [
    "In PyTorch, we can add L2 regularization by adjusting our optimizer. The [Adam](https://pytorch.org/docs/stable/optim.html#torch.optim.Adam) optimizer has a `weight_decay` paramter which to control the L2 penalty."
   ]
  },
  {
   "cell_type": "code",
   "execution_count": 111,
   "metadata": {
    "colab": {},
    "colab_type": "code",
    "id": "E-KcdfC1slrn"
   },
   "outputs": [],
   "source": [
    "L2_LAMBDA = 1e-2"
   ]
  },
  {
   "cell_type": "code",
   "execution_count": 112,
   "metadata": {
    "colab": {},
    "colab_type": "code",
    "id": "cevnJ1JZqZed"
   },
   "outputs": [],
   "source": [
    "# Initialize model\n",
    "model = LinearRegression(input_dim=INPUT_DIM, output_dim=OUTPUT_DIM)"
   ]
  },
  {
   "cell_type": "code",
   "execution_count": 113,
   "metadata": {
    "colab": {},
    "colab_type": "code",
    "id": "QjvyB0_vaGHw"
   },
   "outputs": [],
   "source": [
    "# Optimizer (w/ L2 regularization)\n",
    "optimizer = Adam(model.parameters(), lr=LEARNING_RATE, weight_decay=L2_LAMBDA) "
   ]
  },
  {
   "cell_type": "code",
   "execution_count": 114,
   "metadata": {
    "colab": {
     "base_uri": "https://localhost:8080/",
     "height": 102
    },
    "colab_type": "code",
    "executionInfo": {
     "elapsed": 3699,
     "status": "ok",
     "timestamp": 1583943490514,
     "user": {
      "displayName": "Goku Mohandas",
      "photoUrl": "https://lh3.googleusercontent.com/a-/AOh14GjMIOf3R_zwS_zZx4ZyPMtQe0lOkGpPOEUEKWpM7g=s64",
      "userId": "00378334517810298963"
     },
     "user_tz": 420
    },
    "id": "EP9k4W8spOPe",
    "outputId": "b23d9440-495f-4646-c9ef-0b07159777c6"
   },
   "outputs": [
    {
     "name": "stdout",
     "output_type": "stream",
     "text": [
      "Epoch: 0 | loss: 0.34\n",
      "Epoch: 20 | loss: 0.04\n",
      "Epoch: 40 | loss: 0.02\n",
      "Epoch: 60 | loss: 0.02\n",
      "Epoch: 80 | loss: 0.02\n"
     ]
    }
   ],
   "source": [
    "# Training\n",
    "for epoch in range(NUM_EPOCHS):\n",
    "    # Forward pass\n",
    "    y_pred = model(X_train)\n",
    "\n",
    "    # Loss\n",
    "    loss = loss_fn(y_pred, y_train)\n",
    "\n",
    "    # Zero all gradients\n",
    "    optimizer.zero_grad()\n",
    "\n",
    "    # Backward pass\n",
    "    loss.backward()\n",
    "\n",
    "    # Update weights\n",
    "    optimizer.step()\n",
    "\n",
    "    if epoch%20==0: \n",
    "        print (f\"Epoch: {epoch} | loss: {loss:.2f}\")"
   ]
  },
  {
   "cell_type": "code",
   "execution_count": 115,
   "metadata": {
    "colab": {},
    "colab_type": "code",
    "id": "khfs3lDztn8W"
   },
   "outputs": [],
   "source": [
    "# Predictions\n",
    "pred_train = model(X_train)\n",
    "pred_test = model(X_test)"
   ]
  },
  {
   "cell_type": "code",
   "execution_count": 116,
   "metadata": {
    "colab": {
     "base_uri": "https://localhost:8080/",
     "height": 51
    },
    "colab_type": "code",
    "executionInfo": {
     "elapsed": 3658,
     "status": "ok",
     "timestamp": 1583943490517,
     "user": {
      "displayName": "Goku Mohandas",
      "photoUrl": "https://lh3.googleusercontent.com/a-/AOh14GjMIOf3R_zwS_zZx4ZyPMtQe0lOkGpPOEUEKWpM7g=s64",
      "userId": "00378334517810298963"
     },
     "user_tz": 420
    },
    "id": "Tr2MPdIOtoIT",
    "outputId": "88ddf4e3-4ddc-4f88-9041-ee456d55fd8a"
   },
   "outputs": [
    {
     "name": "stdout",
     "output_type": "stream",
     "text": [
      "train_error: 0.02\n",
      "test_error: 0.01\n"
     ]
    }
   ],
   "source": [
    "# Performance\n",
    "train_error = loss_fn(pred_train, y_train)\n",
    "test_error = loss_fn(pred_test, y_test)\n",
    "print(f'train_error: {train_error:.2f}')\n",
    "print(f'test_error: {test_error:.2f}')"
   ]
  },
  {
   "cell_type": "markdown",
   "metadata": {
    "colab_type": "text",
    "id": "zbT59j1otfV4"
   },
   "source": [
    "Regularization didn't make a difference in performance with this specific example because our data is generated from a perfect linear equation but for large realistic data, regularization can help our model generalize well."
   ]
  },
  {
   "cell_type": "markdown",
   "metadata": {
    "colab_type": "text",
    "id": "XwSZgi_pCb3Q"
   },
   "source": [
    "---\n",
    "Share and discover ML projects at <a href=\"https://madewithml.com/\">Made With ML</a>.\n",
    "\n",
    "<div align=\"left\">\n",
    "<a class=\"ai-header-badge\" target=\"_blank\" href=\"https://github.com/madewithml/basics\"><img src=\"https://img.shields.io/github/stars/madewithml/basics.svg?style=social&label=Star\"></a>&nbsp;\n",
    "<a class=\"ai-header-badge\" target=\"_blank\" href=\"https://www.linkedin.com/company/madewithml\"><img src=\"https://img.shields.io/badge/style--5eba00.svg?label=LinkedIn&logo=linkedin&style=social\"></a>&nbsp;\n",
    "<a class=\"ai-header-badge\" target=\"_blank\" href=\"https://twitter.com/madewithml\"><img src=\"https://img.shields.io/twitter/follow/madewithml.svg?label=Follow&style=social\"></a>\n",
    "</div>\n",
    "             "
   ]
  }
 ],
 "metadata": {
  "colab": {
   "collapsed_sections": [],
   "name": "07_PT_Linear_Regression",
   "provenance": [
    {
     "file_id": "https://github.com/madewithml/basics/blob/master/notebooks/07_Linear_Regression.ipynb",
     "timestamp": 1582568936460
    }
   ],
   "toc_visible": true
  },
  "kernelspec": {
   "display_name": "py39mlcvs",
   "language": "python",
   "name": "python3"
  },
  "language_info": {
   "codemirror_mode": {
    "name": "ipython",
    "version": 3
   },
   "file_extension": ".py",
   "mimetype": "text/x-python",
   "name": "python",
   "nbconvert_exporter": "python",
   "pygments_lexer": "ipython3",
   "version": "3.9.16"
  },
  "vscode": {
   "interpreter": {
    "hash": "ffd1abbb83318c5604f0d207c5fcbf9a26b71537d918692fbc05e98eeb47c7d3"
   }
  }
 },
 "nbformat": 4,
 "nbformat_minor": 1
}
