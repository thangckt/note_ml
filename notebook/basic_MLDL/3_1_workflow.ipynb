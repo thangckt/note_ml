{
 "cells": [
  {
   "attachments": {},
   "cell_type": "markdown",
   "metadata": {},
   "source": [
    "# Workflow in ML\n",
    "\n",
    "Refer to [Pytorch workflow](../pytorch_deep_learning/01_pytorch_workflow.ipynb)\n",
    "\n",
    "## Data (preparing and loading)\n",
    "\n",
    "Data in ML **can be anything**, but **must be turned into numbers** (normally represented in tensors)\n",
    "\n",
    "### Turn data to number\n",
    "Turning data to numbers is called **Numerical encording**\n",
    "\n",
    "![](../pytorch_deep_learning/images/01-machine-learning-a-game-of-two-parts.png)\n",
    "\n",
    "## Split data into training and test sets\n",
    "\n",
    "| Split | Purpose | Amount of total data | How often is it used? |\n",
    "| ----- | ----- | ----- | ----- |\n",
    "| **Training set** | The model learns from this data (like the course materials you study during the semester). | ~60-80% | Always |\n",
    "| **Validation set** | The model gets tuned on this data (like the practice exam you take before the final exam). | ~10-20% | Often but not always |\n",
    "| **Testing set** | The model gets evaluated on this data to test what it has learned (like the final exam you take at the end of the semester). | ~10-20% | Always |"
   ]
  },
  {
   "cell_type": "code",
   "execution_count": null,
   "metadata": {},
   "outputs": [],
   "source": []
  }
 ],
 "metadata": {
  "kernelspec": {
   "display_name": "base",
   "language": "python",
   "name": "python3"
  },
  "language_info": {
   "name": "python",
   "version": "3.9.12 (main, Apr  4 2022, 05:22:27) [MSC v.1916 64 bit (AMD64)]"
  },
  "orig_nbformat": 4,
  "vscode": {
   "interpreter": {
    "hash": "2b6e7cfdce5ef245d32482b7f80393907c6182a3f3a40203474e09cb3d62b454"
   }
  }
 },
 "nbformat": 4,
 "nbformat_minor": 2
}
