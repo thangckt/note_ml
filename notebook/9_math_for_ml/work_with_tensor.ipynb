{
 "cells": [
  {
   "cell_type": "markdown",
   "metadata": {},
   "source": [
    "# Tensor\n",
    "\n",
    "Read the book *Mathematical Methods for Physics and Engineering*{cite}`straub2020mathematical`"
   ]
  }
 ],
 "metadata": {
  "language_info": {
   "name": "python"
  }
 },
 "nbformat": 4,
 "nbformat_minor": 2
}
