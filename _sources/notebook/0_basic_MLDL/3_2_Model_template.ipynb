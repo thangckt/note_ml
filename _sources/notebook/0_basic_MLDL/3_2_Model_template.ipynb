{
  "cells": [
    {
      "cell_type": "markdown",
      "metadata": {
        "id": "view-in-github",
        "colab_type": "text"
      },
      "source": [
        "<a href=\"https://colab.research.google.com/github/thangckt/note_ml/blob/main/notebook/0_basic_MLDL/3_2_Model_template.ipynb\" target=\"_parent\"><img src=\"https://colab.research.google.com/assets/colab-badge.svg\" alt=\"Open In Colab\"/></a>"
      ]
    },
    {
      "cell_type": "markdown",
      "source": [
        "# Core Ml templates\n",
        "\n",
        "## REFs\n",
        "[10 Templates for Building Machine Learning Models with](https://levelup.gitconnected.com/templates-for-building-machine-learning-models-with-5fbc190c7970)\n",
        "\n",
        "[github/Machine-learning-templates](https://github.com/ila987/Machine-learning-templates)\n",
        "\n",
        "\n",
        "# DeepML templates\n",
        "\n",
        "\n",
        "# Methods use in Ryu lab\n",
        "\n",
        "SBO - Single-Objective Bayesian Optimization\n",
        "\n",
        "MBO - Multi-Objective Bayesian Optimization\n",
        "\n",
        "CGIDN - Contrained Generative Inverse Design Network\n"
      ],
      "metadata": {
        "id": "bPlgG8f3j_8k"
      }
    }
  ],
  "metadata": {
    "kernelspec": {
      "display_name": "py39mlcvs",
      "language": "python",
      "name": "python3"
    },
    "language_info": {
      "codemirror_mode": {
        "name": "ipython",
        "version": 3
      },
      "file_extension": ".py",
      "mimetype": "text/x-python",
      "name": "python",
      "nbconvert_exporter": "python",
      "pygments_lexer": "ipython3",
      "version": "3.9.16"
    },
    "orig_nbformat": 4,
    "vscode": {
      "interpreter": {
        "hash": "ffd1abbb83318c5604f0d207c5fcbf9a26b71537d918692fbc05e98eeb47c7d3"
      }
    },
    "colab": {
      "provenance": [],
      "include_colab_link": true
    }
  },
  "nbformat": 4,
  "nbformat_minor": 0
}